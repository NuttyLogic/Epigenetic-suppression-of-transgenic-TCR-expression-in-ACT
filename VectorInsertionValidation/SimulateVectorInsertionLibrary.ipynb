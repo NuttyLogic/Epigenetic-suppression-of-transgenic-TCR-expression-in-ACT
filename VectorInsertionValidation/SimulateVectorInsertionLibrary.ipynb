{
 "cells": [
  {
   "cell_type": "markdown",
   "metadata": {},
   "source": [
    "# Generate MART and NYES Vector Integration Libraries\n",
    "- randomly insert vector into location in the genome\n",
    "- simulate PE reads using BSBolt\n",
    "- align and try to detect vector integration "
   ]
  },
  {
   "cell_type": "markdown",
   "metadata": {},
   "source": [
    "## Notebook Setup"
   ]
  },
  {
   "cell_type": "code",
   "execution_count": 1,
   "metadata": {},
   "outputs": [],
   "source": [
    "import gzip\n",
    "import io\n",
    "import os \n",
    "import pickle\n",
    "import random\n",
    "import subprocess\n",
    "import urllib.request\n",
    "\n",
    "# import third party libraries\n",
    "import matplotlib.pyplot as plt\n",
    "import numpy as np\n",
    "import pandas as pd\n",
    "import seaborn as sns\n",
    "from tqdm import tqdm_notebook as tqdm"
   ]
  },
  {
   "cell_type": "code",
   "execution_count": 2,
   "metadata": {},
   "outputs": [],
   "source": [
    "# import local libraries\n",
    "from BSBolt.Align.AlignmentHelpers import convert_alpha_numeric_cigar, get_mapping_length\n",
    "from BSBolt.Index.WholeGenomeBuild import WholeGenomeIndexBuild\n",
    "from BSBolt.Simulate.SimulateMethylatedReads import SimulateMethylatedReads\n",
    "from BSBolt.Utils.UtilityFunctions import get_external_paths\n",
    "from IntegrationSiteSearch.CallIntegrationSites import CallConsensusIntegrationSites\n",
    "from IntegrationSiteSearch.DetectIntegration import ProcessVectorSpanningReads\n",
    "from IntegrationSiteSearch.IntegrationUtils import get_spanning_reads, call_read_integrations"
   ]
  },
  {
   "cell_type": "code",
   "execution_count": 3,
   "metadata": {},
   "outputs": [],
   "source": [
    "bt2_path, art_path = get_external_paths()"
   ]
  },
  {
   "cell_type": "code",
   "execution_count": 4,
   "metadata": {},
   "outputs": [],
   "source": [
    "pwd = os.getcwd() + '/'"
   ]
  },
  {
   "cell_type": "code",
   "execution_count": 5,
   "metadata": {},
   "outputs": [],
   "source": [
    "ucsc_hg38 = 'https://hgdownload.soe.ucsc.edu/goldenPath/hg38/bigZips/hg38.fa.gz'"
   ]
  },
  {
   "cell_type": "code",
   "execution_count": 6,
   "metadata": {},
   "outputs": [],
   "source": [
    "if not os.path.exists(f'{pwd}SimulationData/hg38.fa.gz'):\n",
    "    urllib.request.urlretrieve(ucsc_hg38, f'{pwd}SimulationData/hg38.fa.gz')"
   ]
  },
  {
   "cell_type": "markdown",
   "metadata": {},
   "source": [
    "## Import Sequence Data"
   ]
  },
  {
   "cell_type": "code",
   "execution_count": 7,
   "metadata": {},
   "outputs": [],
   "source": [
    "# get hg38 reference with lambda phage control attached\n",
    "\n",
    "hg38 = {}\n",
    "\n",
    "with gzip.open(f'{pwd}SimulationData/hg38.fa.gz') as genome:\n",
    "    contig_seq = ''\n",
    "    chrom = None\n",
    "    for line in io.BufferedReader(genome):\n",
    "        processed_line = line.decode('utf-8').strip()\n",
    "        if '>' == processed_line[0]:\n",
    "            if chrom:\n",
    "                hg38[chrom] = contig_seq\n",
    "            contig_seq = ''\n",
    "            chrom = processed_line[1:]\n",
    "        else:\n",
    "            contig_seq = contig_seq + processed_line\n",
    "    hg38[chrom] = contig_seq"
   ]
  },
  {
   "cell_type": "code",
   "execution_count": 8,
   "metadata": {},
   "outputs": [],
   "source": [
    "# import NYES and Mart vector sequences \n",
    "mart1 = 'pMSGV1-MART1TCR.txt'\n",
    "nyes =  'pMSGV1-1G4_A_LY_RetroNYESO1.txt'"
   ]
  },
  {
   "cell_type": "code",
   "execution_count": 9,
   "metadata": {},
   "outputs": [],
   "source": [
    "vector_seq = {}\n",
    "\n",
    "for vector in [mart1, nyes]:\n",
    "    vector_label = vector.replace('-', '_').replace('.txt', '')\n",
    "    seq = ''\n",
    "    with open(f'{pwd}SimulationData/{vector}', 'r') as vec_seq:\n",
    "        for line in vec_seq:\n",
    "            processed_line = line.strip().replace(' ', '')\n",
    "            seq = seq + ''.join([base for base in processed_line if not base.isdigit()])\n",
    "    vector_seq[vector_label] = seq\n",
    "    "
   ]
  },
  {
   "cell_type": "code",
   "execution_count": 10,
   "metadata": {},
   "outputs": [],
   "source": [
    "if not os.path.exists(f'{pwd}SimulationData/hg38_sim.fa'):\n",
    "    out = open(f'{pwd}SimulationData/hg38_sim.fa', 'w')\n",
    "    for chrom, seq in tqdm(hg38.items()):\n",
    "        out.write(f'>{chrom}\\n')\n",
    "        out.write(f'{seq}\\n')\n",
    "    for chrom, seq in vector_seq.items():\n",
    "        out.write(f'>{chrom}\\n')\n",
    "        out.write(f'{seq}\\n')\n",
    "    out.close()"
   ]
  },
  {
   "cell_type": "markdown",
   "metadata": {},
   "source": [
    "## Simulated vector integration libraries\n",
    "- select the number of integration events\n",
    "- select random integration sites\n",
    "- generate 2 mart and 2 nyes datasets"
   ]
  },
  {
   "cell_type": "code",
   "execution_count": 11,
   "metadata": {},
   "outputs": [],
   "source": [
    "integration_events = [events + 20 for events in range(10)]"
   ]
  },
  {
   "cell_type": "code",
   "execution_count": 12,
   "metadata": {},
   "outputs": [],
   "source": [
    "vector_integration_samples = ['pMSGV1_MART1TCR', 'pMSGV1_MART1TCR', 'pMSGV1_MART1TCR', 'pMSGV1_1G4_A_LY_RetroNYESO1', 'pMSGV1_1G4_A_LY_RetroNYESO1', 'pMSGV1_1G4_A_LY_RetroNYESO1']"
   ]
  },
  {
   "cell_type": "code",
   "execution_count": 13,
   "metadata": {},
   "outputs": [],
   "source": [
    "simulation_integration_parameters = {}\n",
    "\n",
    "for count, vector in enumerate(vector_integration_samples):\n",
    "    sim_label = f'{count}_{vector}'\n",
    "    int_events = random.sample(integration_events, 1)[0]\n",
    "    integration_locations = []\n",
    "    integration_sequences = []\n",
    "    while len(integration_locations) < int_events:\n",
    "        int_chrom = random.sample(list(hg38.keys()), 1)[0]\n",
    "        if len(int_chrom) > 5 or not int_chrom[-1].isdigit():\n",
    "            continue\n",
    "        # get chromosome sequence\n",
    "        chrom_seq = hg38[int_chrom]\n",
    "        # select simulation position \n",
    "        int_pos = random.randint(0, len(chrom_seq))\n",
    "        # retrieve integration position \n",
    "        left_seq = chrom_seq[int_pos - 1000: int_pos]\n",
    "        right_seq = chrom_seq[int_pos: int_pos + 1000]\n",
    "        integration_seq = left_seq + vector_seq[vector] + right_seq\n",
    "        if 'N' in integration_seq or 'n' in integration_seq:\n",
    "            continue\n",
    "        integration_sequences.append(integration_seq)\n",
    "        # save location\n",
    "        integration_locations.append((int_chrom, int_pos))\n",
    "    simulation_integration_parameters[sim_label] = integration_locations\n",
    "    with open(f'{pwd}SimulationData/{sim_label}.fa', 'w') as sim:\n",
    "        for location, seq in zip(integration_locations, integration_sequences):\n",
    "            sim.write(f'>{location[0]}_{location[1]}\\n')\n",
    "            sim.write(f'{seq}\\n')\n"
   ]
  },
  {
   "cell_type": "code",
   "execution_count": 14,
   "metadata": {},
   "outputs": [],
   "source": [
    "def make_directory(directory_path):\n",
    "    try:\n",
    "        os.makedirs(directory_path, exist_ok=False)\n",
    "    except FileExistsError:\n",
    "        return None"
   ]
  },
  {
   "cell_type": "code",
   "execution_count": 15,
   "metadata": {},
   "outputs": [],
   "source": [
    "simulation_output = f'{pwd}SimulationData/IntegrationSim/'\n",
    "make_directory(simulation_output)"
   ]
  },
  {
   "cell_type": "code",
   "execution_count": 16,
   "metadata": {},
   "outputs": [
    {
     "name": "stdout",
     "output_type": "stream",
     "text": [
      "Setting Cytosine Methylation\n",
      "Simulating Illumina Reads\n",
      "Simulating Methylated Illumina Reads\n",
      "Finished Simulation\n",
      "Setting Cytosine Methylation\n",
      "Simulating Illumina Reads\n",
      "Simulating Methylated Illumina Reads\n",
      "Finished Simulation\n",
      "Setting Cytosine Methylation\n",
      "Simulating Illumina Reads\n",
      "Simulating Methylated Illumina Reads\n",
      "Finished Simulation\n",
      "Setting Cytosine Methylation\n",
      "Simulating Illumina Reads\n",
      "Simulating Methylated Illumina Reads\n",
      "Finished Simulation\n",
      "Setting Cytosine Methylation\n",
      "Simulating Illumina Reads\n",
      "Simulating Methylated Illumina Reads\n",
      "Finished Simulation\n",
      "Setting Cytosine Methylation\n",
      "Simulating Illumina Reads\n",
      "Simulating Methylated Illumina Reads\n",
      "Finished Simulation\n"
     ]
    }
   ],
   "source": [
    "for sim_label in simulation_integration_parameters:\n",
    "    meth_sim = SimulateMethylatedReads(reference_file=f'{pwd}SimulationData/{sim_label}.fa',\n",
    "                                       art_path=art_path, \n",
    "                                       output_path=f'{simulation_output}{sim_label}',\n",
    "                                       paired_end=True,\n",
    "                                       read_length=150,\n",
    "                                       read_depth=20,\n",
    "                                       insertion_rate1=0.000, insertion_rate2=0.000,\n",
    "                                       deletion_rate1=0.000, deletion_rate2=0.000,\n",
    "                                       undirectional=False,\n",
    "                                       pe_fragment_size=500)\n",
    "    meth_sim.run_simulation()"
   ]
  },
  {
   "cell_type": "code",
   "execution_count": 17,
   "metadata": {},
   "outputs": [],
   "source": [
    "simulation_index = f'{pwd}SimulationData/SimulationIndex/'\n",
    "if not os.path.exists(simulation_index):\n",
    "    sim_index = WholeGenomeIndexBuild(reference_file=f'{pwd}SimulationData/hg38_sim.fa', genome_database=simulation_index, bowtie2_path=bt2_path, bowtie2_threads=10)\n",
    "    sim_index.generate_bsb_database()"
   ]
  },
  {
   "cell_type": "markdown",
   "metadata": {},
   "source": [
    "## Get control mapping sites for all reads\n",
    "- get simulated mapping locations\n",
    "- indentfiy simulated reads the span integration sites"
   ]
  },
  {
   "cell_type": "code",
   "execution_count": 18,
   "metadata": {},
   "outputs": [],
   "source": [
    "def sam_iterator(sam_file):\n",
    "    with open(sam_file, 'r') as sam:\n",
    "        while True:\n",
    "            line1 = sam.readline()\n",
    "            if not line1.strip():\n",
    "                break\n",
    "            if line1[0] == '@':\n",
    "                continue\n",
    "            line2 = sam.readline()\n",
    "            yield line1.strip().split('\\t'), line2.strip().split('\\t')"
   ]
  },
  {
   "cell_type": "code",
   "execution_count": 19,
   "metadata": {},
   "outputs": [],
   "source": [
    "def assess_overlap(span, pos):\n",
    "    if span[0] < pos < span[1]:\n",
    "        return True\n",
    "    return False"
   ]
  },
  {
   "cell_type": "code",
   "execution_count": 20,
   "metadata": {},
   "outputs": [],
   "source": [
    "def convert_coordinates(contig_start, read_span, vector_span):\n",
    "    vector_length = vector_span[1] - vector_span[0]\n",
    "    read_length = read_span[1] - read_span[0]\n",
    "    updated_positions = []\n",
    "    for pos in read_span:\n",
    "        if pos <= vector_span[0]:\n",
    "            updated_positions.append(contig_start + pos)\n",
    "        elif pos >= vector_span[1]:\n",
    "            updated_positions.append(contig_start + pos - vector_length)\n",
    "        else:\n",
    "            updated_positions.append('Vector')\n",
    "    return updated_positions\n",
    "        "
   ]
  },
  {
   "cell_type": "code",
   "execution_count": 21,
   "metadata": {},
   "outputs": [
    {
     "data": {
      "application/vnd.jupyter.widget-view+json": {
       "model_id": "99eea502dde14fb49c553de3fa4a5aea",
       "version_major": 2,
       "version_minor": 0
      },
      "text/plain": [
       "HBox(children=(IntProgress(value=0, max=6), HTML(value='')))"
      ]
     },
     "metadata": {},
     "output_type": "display_data"
    },
    {
     "name": "stdout",
     "output_type": "stream",
     "text": [
      "\n"
     ]
    }
   ],
   "source": [
    "integration_reads = {sim_label: {} for sim_label in simulation_integration_parameters}\n",
    "\n",
    "for sim_label in tqdm(simulation_integration_parameters):\n",
    "    # need vector length to get the left and right vector boundaries \n",
    "    vector_length = len(vector_seq['_'.join(sim_label.split('_')[1:])])\n",
    "    for line in sam_iterator(f'{simulation_output}{sim_label}.sam'):\n",
    "        read_len_1 = get_mapping_length(convert_alpha_numeric_cigar(line[0][5]))\n",
    "        read_len_2 = get_mapping_length(convert_alpha_numeric_cigar(line[1][5]))\n",
    "        assert line[0][0] == line[1][0]\n",
    "        assert line[0][2] == line[1][2]\n",
    "        # normalize coordinates and convert types\n",
    "        chromosome, vector_pos = line[0][2].split('_')\n",
    "        vector_pos = int(vector_pos)\n",
    "        contig_start = vector_pos - 1000\n",
    "        read_1_pos = int(line[0][3])\n",
    "        read_2_pos = int(line[1][3])\n",
    "        read_1_positions = convert_coordinates(contig_start, (read_1_pos, read_1_pos + read_len_1), (1000, 1000 + vector_length))\n",
    "        read_2_positions = convert_coordinates(contig_start, (read_2_pos, read_2_pos + read_len_2), (1000, 1000 + vector_length))\n",
    "        read_span = [read_1_pos, read_2_pos + read_len_2]\n",
    "        read_positions = [read_1_positions, read_2_positions]\n",
    "        if line[0][1] == '83':\n",
    "            read_span = [read_2_pos, read_1_pos + read_len_1]\n",
    "            read_positions = [read_2_positions, read_1_positions]\n",
    "        assert read_span[0] < read_span[1]\n",
    "        vector_spans = (assess_overlap(read_span, 1000), assess_overlap(read_span, 1000 + vector_length))\n",
    "        assert sum(vector_spans) <= 1\n",
    "        if any(vector_spans):\n",
    "            if read_positions[0].count('Vector') == 1:\n",
    "                vector_label = ('split_1', chromosome, vector_pos, read_positions[0][0], read_positions[0][1], read_positions[1][0], read_positions[1][1])\n",
    "            elif read_positions[1].count('Vector') == 1:\n",
    "                vector_label = ('split_2', chromosome, vector_pos, read_positions[0][0], read_positions[0][1], read_positions[1][0], read_positions[1][1])\n",
    "            elif read_positions[1].count('Vector') == 2:\n",
    "                vector_label = ('discordant_1', chromosome, vector_pos, read_positions[0][0], read_positions[0][1], read_positions[1][0], read_positions[1][1])\n",
    "            elif read_positions[0].count('Vector') == 2:\n",
    "                vector_label = ('discordant_2', chromosome, vector_pos, read_positions[0][0], read_positions[0][1], read_positions[1][0], read_positions[1][1])\n",
    "            if vector_label:\n",
    "                integration_reads[sim_label][line[0][0]] = vector_label"
   ]
  },
  {
   "cell_type": "markdown",
   "metadata": {},
   "source": [
    "## Align Simulated Bisulfite Sequencing Data\n",
    "- align simulated data with different minimun alignment scores "
   ]
  },
  {
   "cell_type": "code",
   "execution_count": 22,
   "metadata": {},
   "outputs": [],
   "source": [
    "score_min = ['40', '80', '120', '160', '200', '240', '280']"
   ]
  },
  {
   "cell_type": "code",
   "execution_count": 23,
   "metadata": {},
   "outputs": [
    {
     "data": {
      "application/vnd.jupyter.widget-view+json": {
       "model_id": "7fc2c64702ab45b8a3a1ff7b3a0d1ef8",
       "version_major": 2,
       "version_minor": 0
      },
      "text/plain": [
       "HBox(children=(IntProgress(value=0, max=7), HTML(value='')))"
      ]
     },
     "metadata": {},
     "output_type": "display_data"
    },
    {
     "name": "stdout",
     "output_type": "stream",
     "text": [
      "\n"
     ]
    }
   ],
   "source": [
    "# Align simulated data\n",
    "\n",
    "sim_alignment_stats = {}\n",
    "\n",
    "for min_score in tqdm(score_min):\n",
    "    for sim_label in simulation_integration_parameters:\n",
    "        bsbolt_alignment_command = ['python3', '-m', 'BSBolt', 'Align', '-BT2-p', '10', '-F1', f'{simulation_output}{sim_label}_meth_1.fastq', '-F2', f'{simulation_output}{sim_label}_meth_2.fastq',\n",
    "                                    '-O', f'{simulation_output}{sim_label}_{min_score}', '-BT2-local', '-DB', simulation_index, '-discord', '-BT2-score-min', f'L,{min_score},0', '-S', '-BT2-X', '700']\n",
    "        sim_align = subprocess.Popen(bsbolt_alignment_command, stdout=subprocess.PIPE, universal_newlines=True)\n",
    "        alignment_stats = []\n",
    "        for line in iter(sim_align.stdout.readline, ''):\n",
    "            alignment_stats.append(line)\n",
    "        sim_alignment_stats[f'{sim_label}_{min_score}'] = alignment_stats"
   ]
  },
  {
   "cell_type": "markdown",
   "metadata": {},
   "source": [
    "### Get Dicordant and Split Vector Reads"
   ]
  },
  {
   "cell_type": "code",
   "execution_count": 71,
   "metadata": {},
   "outputs": [],
   "source": [
    "def stream_mapped_reads(file_path: str = None,\n",
    "                        included_flags: list = None,\n",
    "                        excluded_flags: list = None):\n",
    "    \"\"\" process reads streamed using samtools view, samtools must be on\n",
    "        path for this to work \"\"\"\n",
    "    stream_command = ['samtools', 'view']\n",
    "    if included_flags:\n",
    "        for flag in included_flags:\n",
    "            stream_command.extend(['-f', str(flag)])\n",
    "    if excluded_flags:\n",
    "        for flag in excluded_flags:\n",
    "            stream_command.extend(['-F', str(flag)])\n",
    "    stream_command.append(file_path)\n",
    "    read_stream = subprocess.Popen(stream_command, stdout=subprocess.PIPE, universal_newlines=True)\n",
    "    for line in iter(read_stream.stdout.readline, ''):\n",
    "        QNAME, FLAG, RNAME, POS, MAPQ, CIGAR, RNEXT, PNEXT, TLEN, SEQ, QUAL, *SAM_TAGS = line.strip().split('\\t')\n",
    "        alignment_score = None\n",
    "        mapping_reference = None\n",
    "        for tag in SAM_TAGS:\n",
    "            if tag[0:3] == 'AS:':\n",
    "                alignment_score = tag.split(':')[-1]\n",
    "            elif tag[0:4] == 'XO:Z':\n",
    "                mapping_reference = tag.split(':')[-1]\n",
    "        yield QNAME, FLAG, RNAME, RNEXT, int(POS), CIGAR, int(alignment_score), mapping_reference\n",
    "\n",
    "\n",
    "def get_spanning_reads(file_path: str = None, plasmid_names: set = None) -> dict:\n",
    "    mapped_reads = {}\n",
    "    for sam_read in stream_mapped_reads(file_path, excluded_flags=[4, 1024]):\n",
    "        QNAME, FLAG, RNAME, RNEXT, POS, CIGAR, alignment_score, mapping_reference = sam_read\n",
    "        plasmid_read = RNAME in plasmid_names\n",
    "        if QNAME not in mapped_reads:\n",
    "            mapped_reads[QNAME] = [[sam_read], plasmid_read]\n",
    "        else:\n",
    "            if plasmid_read:\n",
    "                mapped_reads[QNAME][0].append(sam_read)\n",
    "                mapped_reads[QNAME][1] = plasmid_read\n",
    "            else:\n",
    "                mapped_reads[QNAME][0].append(sam_read)\n",
    "    plasmid_reads = {}\n",
    "    for qname, read_group in mapped_reads.items():\n",
    "        if read_group[1]:\n",
    "            for read in read_group[0]:\n",
    "                if read[2][0:3] == 'chr':\n",
    "                    plasmid_reads[qname] = read_group[0]\n",
    "                    break\n",
    "    return plasmid_reads"
   ]
  },
  {
   "cell_type": "code",
   "execution_count": 72,
   "metadata": {},
   "outputs": [
    {
     "data": {
      "application/vnd.jupyter.widget-view+json": {
       "model_id": "ed50da9eab594156a2b485f71fb4fc1b",
       "version_major": 2,
       "version_minor": 0
      },
      "text/plain": [
       "HBox(children=(IntProgress(value=0, max=42), HTML(value='')))"
      ]
     },
     "metadata": {},
     "output_type": "display_data"
    },
    {
     "name": "stdout",
     "output_type": "stream",
     "text": [
      "\n"
     ]
    }
   ],
   "source": [
    "sample_spanning_reads = {}\n",
    "\n",
    "for sim_label in tqdm(sim_alignment_stats):\n",
    "    plasmid_reads = get_spanning_reads(f'{simulation_output}{sim_label}.sorted.bam', {'pMSGV1_MART1TCR', 'pMSGV1_1G4_A_LY_RetroNYESO1'})\n",
    "    sample_spanning_reads[sim_label] = plasmid_reads"
   ]
  },
  {
   "cell_type": "code",
   "execution_count": 74,
   "metadata": {},
   "outputs": [
    {
     "data": {
      "application/vnd.jupyter.widget-view+json": {
       "model_id": "0e385b4f056243bea3c22a563dcd5a69",
       "version_major": 2,
       "version_minor": 0
      },
      "text/plain": [
       "HBox(children=(IntProgress(value=0, max=42), HTML(value='')))"
      ]
     },
     "metadata": {},
     "output_type": "display_data"
    },
    {
     "name": "stdout",
     "output_type": "stream",
     "text": [
      "\n"
     ]
    }
   ],
   "source": [
    "# clean reads mapping to different vector\n",
    "\n",
    "for sim_label in tqdm(sim_alignment_stats):\n",
    "    vector = '_'.join(sim_label.split('_')[1:-1])\n",
    "    plasmid_reads = sample_spanning_reads[sim_label]\n",
    "    cleaned_plasmid_reads = {}\n",
    "    for read_name, read_group in plasmid_reads.items():\n",
    "        cleaned_group = []\n",
    "        vector_mapping = False\n",
    "        for read in read_group:\n",
    "            if read[2][0:3] == 'chr':\n",
    "                cleaned_group.append(read)\n",
    "            elif read[2] == vector:\n",
    "                vector_mapping = True\n",
    "                cleaned_group.append(read)\n",
    "        if vector_mapping:\n",
    "            cleaned_plasmid_reads[read_name] = cleaned_group\n",
    "    sample_spanning_reads[sim_label] = cleaned_plasmid_reads"
   ]
  },
  {
   "cell_type": "code",
   "execution_count": 75,
   "metadata": {},
   "outputs": [
    {
     "data": {
      "application/vnd.jupyter.widget-view+json": {
       "model_id": "a85f89dbeac64032bc31aebe618f61b0",
       "version_major": 2,
       "version_minor": 0
      },
      "text/plain": [
       "HBox(children=(IntProgress(value=0, max=42), HTML(value='')))"
      ]
     },
     "metadata": {},
     "output_type": "display_data"
    },
    {
     "name": "stdout",
     "output_type": "stream",
     "text": [
      "\n"
     ]
    }
   ],
   "source": [
    "int_processor = ProcessVectorSpanningReads(multibase_threshold=0.1, multiread_threshold=250)\n",
    "\n",
    "integration_stats = {}\n",
    "sim_integration_sites = {}\n",
    "\n",
    "for sim_label in tqdm(sim_alignment_stats):\n",
    "    label = '_'.join(sim_label.split('_')[0:-1])\n",
    "    good_call, bad_call = 0, 0\n",
    "    vector = '_'.join(sim_label.split('_')[1:-1])\n",
    "    called_control_comp = []\n",
    "    for read_label, read_group in sample_spanning_reads[sim_label].items():\n",
    "        control_info = integration_reads[label].get(read_label, False)\n",
    "        called_int = int_processor.get_integration_sites(read_group, vector=vector)\n",
    "        if control_info and called_int:\n",
    "            if abs(control_info[2] - called_int[3]) > 500:\n",
    "                bad_call += 1\n",
    "            else:\n",
    "                good_call += 1\n",
    "            called_control_comp.append((called_int, control_info))\n",
    "        elif not control_info and called_int:\n",
    "            bad_call += 1\n",
    "    sim_integration_sites[sim_label] = called_control_comp\n",
    "    integration_stats[sim_label] = good_call / len(integration_reads[label]), bad_call / len(integration_reads[label]), vector, int(sim_label.split('_')[-1])"
   ]
  },
  {
   "cell_type": "code",
   "execution_count": 76,
   "metadata": {},
   "outputs": [
    {
     "data": {
      "application/vnd.jupyter.widget-view+json": {
       "model_id": "80a30586f98b43268e8156c99cf7eb02",
       "version_major": 2,
       "version_minor": 0
      },
      "text/plain": [
       "HBox(children=(IntProgress(value=0, max=42), HTML(value='')))"
      ]
     },
     "metadata": {},
     "output_type": "display_data"
    },
    {
     "name": "stdout",
     "output_type": "stream",
     "text": [
      "\n"
     ]
    }
   ],
   "source": [
    "sample_integration_peaks = {}\n",
    "\n",
    "caller = CallConsensusIntegrationSites(region_size=1000, minimum_observations=1)\n",
    "\n",
    "for sim_label in tqdm(sim_alignment_stats):\n",
    "    sample_integration_peaks[sim_label] = caller.call_integration_sites([site[0] for site in sim_integration_sites[sim_label]])"
   ]
  },
  {
   "cell_type": "code",
   "execution_count": 77,
   "metadata": {},
   "outputs": [],
   "source": [
    "def get_control_called_peak_overlap(control_peaks, called_peaks):\n",
    "    called_regions = []\n",
    "    for region, region_info in called_peaks.items():\n",
    "        chrom, pos = region.split(':')\n",
    "        start, end = pos.split('-')\n",
    "        called_regions.append((chrom, int(start), int(end), region_info[0], region_info[1]))\n",
    "    called_control_overlap = []\n",
    "    control_uncalled = []\n",
    "    called_indices = []\n",
    "    for chrom, int_site in control_peaks:\n",
    "        called_index = 0\n",
    "        overlap = False\n",
    "        for called_chrom, called_start, called_end, mean_site, supporting_reads in called_regions:\n",
    "            if chrom == called_chrom:\n",
    "                if called_start <= int_site <= called_end:\n",
    "                    called_indices.append(called_index)\n",
    "                    called_control_overlap.append((chrom, int_site, called_start, called_end, mean_site, supporting_reads))\n",
    "                    overlap = True\n",
    "                    break\n",
    "            called_index += 1\n",
    "        if not overlap:\n",
    "            control_uncalled.append((chrom, int_site))\n",
    "    return called_control_overlap, control_uncalled, [called_regions[index] for index in range(len(called_regions)) if index not in called_indices]"
   ]
  },
  {
   "cell_type": "code",
   "execution_count": 78,
   "metadata": {},
   "outputs": [
    {
     "data": {
      "application/vnd.jupyter.widget-view+json": {
       "model_id": "b6242291b55647b38092e1ee84db29a2",
       "version_major": 2,
       "version_minor": 0
      },
      "text/plain": [
       "HBox(children=(IntProgress(value=0, max=42), HTML(value='')))"
      ]
     },
     "metadata": {},
     "output_type": "display_data"
    },
    {
     "name": "stdout",
     "output_type": "stream",
     "text": [
      "\n"
     ]
    }
   ],
   "source": [
    "integration_peak_stats = {}\n",
    "\n",
    "for sim_label in tqdm(sim_alignment_stats):\n",
    "    control_label = '_'.join(sim_label.split('_')[0:-1])\n",
    "    vector = '_'.join(sim_label.split('_')[1:-1])\n",
    "    quality = int(sim_label.split('_')[-1])\n",
    "    run_stats = get_control_called_peak_overlap(simulation_integration_parameters[control_label], sample_integration_peaks[sim_label])\n",
    "    control_peaks = len(simulation_integration_parameters[control_label])\n",
    "    integration_peak_stats[sim_label] = len(run_stats[0]) / control_peaks, len(run_stats[1]) / control_peaks, len(run_stats[2]), vector, quality"
   ]
  },
  {
   "cell_type": "markdown",
   "metadata": {},
   "source": [
    "### Plot Integration Results"
   ]
  },
  {
   "cell_type": "code",
   "execution_count": 79,
   "metadata": {},
   "outputs": [],
   "source": [
    "int_peak_df = pd.DataFrame(integration_peak_stats).T"
   ]
  },
  {
   "cell_type": "code",
   "execution_count": 80,
   "metadata": {},
   "outputs": [],
   "source": [
    "int_peak_df.columns = ['Proportion Called', 'Proportion Uncalled', 'Incorrectly Called', 'Vector', 'Minimum Alignment Score']"
   ]
  },
  {
   "cell_type": "code",
   "execution_count": 81,
   "metadata": {},
   "outputs": [
    {
     "data": {
      "image/png": "[encoded data removed]",
      "text/plain": [
       "<Figure size 864x864 with 1 Axes>"
      ]
     },
     "metadata": {
      "needs_background": "light"
     },
     "output_type": "display_data"
    }
   ],
   "source": [
    "fig, ax = plt.subplots(figsize=(12,12))\n",
    "\n",
    "sns.boxplot(x='Minimum Alignment Score', y='Proportion Called', data=int_peak_df, ax=ax, hue='Vector')\n",
    "ax.set_ylabel('Proportion of Simulated Reads Called Correctly')\n",
    "plt.show()"
   ]
  },
  {
   "cell_type": "code",
   "execution_count": 82,
   "metadata": {},
   "outputs": [],
   "source": [
    "int_stats_df = pd.DataFrame(integration_stats).T"
   ]
  },
  {
   "cell_type": "code",
   "execution_count": 83,
   "metadata": {},
   "outputs": [],
   "source": [
    "int_stats_df.columns = ['On Target Call', 'Off Target Call', 'Vector', 'Minimun Alignment Score']"
   ]
  },
  {
   "cell_type": "code",
   "execution_count": 84,
   "metadata": {},
   "outputs": [
    {
     "data": {
      "image/png": "[encoded data removed]",
      "text/plain": [
       "<Figure size 864x864 with 1 Axes>"
      ]
     },
     "metadata": {
      "needs_background": "light"
     },
     "output_type": "display_data"
    }
   ],
   "source": [
    "fig, ax = plt.subplots(figsize=(12,12))\n",
    "\n",
    "sns.boxplot(x='Minimun Alignment Score', y='On Target Call', data=int_stats_df, ax=ax, hue='Vector')\n",
    "ax.set_ylabel('Proportion of Simulated Reads Called Correctly')\n",
    "plt.show()"
   ]
  },
  {
   "cell_type": "code",
   "execution_count": 85,
   "metadata": {},
   "outputs": [
    {
     "data": {
      "image/png": "[encoded data removed]",
      "text/plain": [
       "<Figure size 864x864 with 1 Axes>"
      ]
     },
     "metadata": {
      "needs_background": "light"
     },
     "output_type": "display_data"
    }
   ],
   "source": [
    "fig, ax = plt.subplots(figsize=(12,12))\n",
    "\n",
    "sns.boxplot(x='Minimun Alignment Score', y='Off Target Call', data=int_stats_df, ax=ax, hue='Vector')\n",
    "ax.set_ylabel('Proportion of Simulated Reads Called Incorrectly')\n",
    "\n",
    "plt.show()"
   ]
  }
 ],
 "metadata": {
  "kernelspec": {
   "display_name": "Python 3",
   "language": "python",
   "name": "python3"
  },
  "language_info": {
   "codemirror_mode": {
    "name": "ipython",
    "version": 3
   },
   "file_extension": ".py",
   "mimetype": "text/x-python",
   "name": "python",
   "nbconvert_exporter": "python",
   "pygments_lexer": "ipython3",
   "version": "3.7.4"
  }
 },
 "nbformat": 4,
 "nbformat_minor": 4
}
