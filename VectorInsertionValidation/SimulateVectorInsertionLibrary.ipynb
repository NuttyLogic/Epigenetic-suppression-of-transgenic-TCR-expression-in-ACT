{
 "cells": [
  {
   "cell_type": "markdown",
   "metadata": {},
   "source": [
    "# Generate MART and NYES Vector Integration Libraries\n",
    "- randomly insert vector into location in the genome\n",
    "- simulate PE reads using BSBolt\n",
    "- align and try to detect vector integration "
   ]
  },
  {
   "cell_type": "markdown",
   "metadata": {},
   "source": [
    "## Notebook Setup"
   ]
  },
  {
   "cell_type": "code",
   "execution_count": 1,
   "metadata": {},
   "outputs": [],
   "source": [
    "import gzip\n",
    "import io\n",
    "import os \n",
    "import random\n",
    "import subprocess\n",
    "import urllib.request\n",
    "from tqdm import tqdm_notebook as tqdm"
   ]
  },
  {
   "cell_type": "code",
   "execution_count": 2,
   "metadata": {},
   "outputs": [],
   "source": [
    "# simulate methylation sequencing data\n",
    "from BSBolt.Align.AlignmentHelpers import convert_alpha_numeric_cigar, get_mapping_length\n",
    "from BSBolt.Index.WholeGenomeBuild import WholeGenomeIndexBuild\n",
    "from BSBolt.Simulate.SimulateMethylatedReads import SimulateMethylatedReads\n",
    "from BSBolt.Utils.UtilityFunctions import get_external_paths"
   ]
  },
  {
   "cell_type": "code",
   "execution_count": 3,
   "metadata": {},
   "outputs": [],
   "source": [
    "bt2_path, art_path = get_external_paths()"
   ]
  },
  {
   "cell_type": "code",
   "execution_count": 4,
   "metadata": {},
   "outputs": [],
   "source": [
    "pwd = os.getcwd() + '/'"
   ]
  },
  {
   "cell_type": "code",
   "execution_count": 5,
   "metadata": {},
   "outputs": [],
   "source": [
    "ucsc_hg38 = 'https://hgdownload.soe.ucsc.edu/goldenPath/hg38/bigZips/hg38.fa.gz'"
   ]
  },
  {
   "cell_type": "code",
   "execution_count": 6,
   "metadata": {},
   "outputs": [],
   "source": [
    "if not os.path.exists(f'{pwd}SimulationData/hg38.fa.gz'):\n",
    "    urllib.request.urlretrieve(ucsc_hg38, f'{pwd}SimulationData/hg38.fa.gz')"
   ]
  },
  {
   "cell_type": "markdown",
   "metadata": {},
   "source": [
    "## Import Sequence Data"
   ]
  },
  {
   "cell_type": "code",
   "execution_count": 7,
   "metadata": {},
   "outputs": [],
   "source": [
    "# get hg38 reference with lambda phage control attached\n",
    "\n",
    "hg38 = {}\n",
    "\n",
    "with gzip.open(f'{pwd}SimulationData/hg38.fa.gz') as genome:\n",
    "    contig_seq = ''\n",
    "    chrom = None\n",
    "    for line in io.BufferedReader(genome):\n",
    "        processed_line = line.decode('utf-8').strip()\n",
    "        if '>' == processed_line[0]:\n",
    "            if chrom:\n",
    "                hg38[chrom] = contig_seq\n",
    "            contig_seq = ''\n",
    "            chrom = processed_line[1:]\n",
    "        else:\n",
    "            contig_seq = contig_seq + processed_line\n",
    "    hg38[chrom] = contig_seq"
   ]
  },
  {
   "cell_type": "code",
   "execution_count": 8,
   "metadata": {},
   "outputs": [],
   "source": [
    "# import NYES and Mart vector sequences \n",
    "mart1 = 'pMSGV1-MART1TCR.txt'\n",
    "nyes =  'pMSGV1-1G4_A_LY_RetroNYESO1.txt'"
   ]
  },
  {
   "cell_type": "code",
   "execution_count": 9,
   "metadata": {},
   "outputs": [],
   "source": [
    "vector_seq = {}\n",
    "\n",
    "for vector in [mart1, nyes]:\n",
    "    vector_label = vector.replace('-', '_').replace('.txt', '')\n",
    "    seq = ''\n",
    "    with open(f'{pwd}SimulationData/{vector}', 'r') as vec_seq:\n",
    "        for line in vec_seq:\n",
    "            processed_line = line.strip().replace(' ', '')\n",
    "            seq = seq + ''.join([base for base in processed_line if not base.isdigit()])\n",
    "    vector_seq[vector_label] = seq\n",
    "    "
   ]
  },
  {
   "cell_type": "code",
   "execution_count": 10,
   "metadata": {},
   "outputs": [],
   "source": [
    "if not os.path.exists(f'{pwd}SimulationData/hg38_sim.fa'):\n",
    "    out = open(f'{pwd}SimulationData/hg38_sim.fa', 'w')\n",
    "    for chrom, seq in tqdm(hg38.items()):\n",
    "        out.write(f'>{chrom}\\n')\n",
    "        out.write(f'{seq}\\n')\n",
    "    for chrom, seq in vector_seq.items():\n",
    "        out.write(f'>{chrom}\\n')\n",
    "        out.write(f'{seq}\\n')\n",
    "    out.close()"
   ]
  },
  {
   "cell_type": "markdown",
   "metadata": {},
   "source": [
    "## Simulated vector integration libraries\n",
    "- select the number of integration events\n",
    "- select random integration sites\n",
    "- generate 2 mart and 2 nyes datasets"
   ]
  },
  {
   "cell_type": "code",
   "execution_count": 11,
   "metadata": {},
   "outputs": [],
   "source": [
    "integration_events = [events + 15 for events in range(10)]"
   ]
  },
  {
   "cell_type": "code",
   "execution_count": 12,
   "metadata": {},
   "outputs": [],
   "source": [
    "simulation_integration_parameters = {}\n",
    "\n",
    "for count, vector in enumerate(['pMSGV1_MART1TCR', 'pMSGV1_MART1TCR', 'pMSGV1_1G4_A_LY_RetroNYESO1', 'pMSGV1_1G4_A_LY_RetroNYESO1']):\n",
    "    sim_label = f'{count}_{vector}'\n",
    "    int_events = random.sample(integration_events, 1)[0]\n",
    "    integration_locations = []\n",
    "    integration_sequences = []\n",
    "    while len(integration_locations) < int_events:\n",
    "        int_chrom = random.sample(list(hg38.keys()), 1)[0]\n",
    "        if len(int_chrom) > 5 or not int_chrom[-1].isdigit():\n",
    "            continue\n",
    "        # get chromosome sequence\n",
    "        chrom_seq = hg38[int_chrom]\n",
    "        # select simulation position \n",
    "        int_pos = random.randint(0, len(chrom_seq))\n",
    "        # retrieve integration position \n",
    "        left_seq = chrom_seq[int_pos - 1000: int_pos]\n",
    "        right_seq = chrom_seq[int_pos: int_pos + 1000]\n",
    "        integration_seq = left_seq + vector_seq[vector] + right_seq\n",
    "        if 'N' in integration_seq or 'n' in integration_seq:\n",
    "            continue\n",
    "        integration_sequences.append(integration_seq)\n",
    "        # save location\n",
    "        integration_locations.append((int_chrom, int_pos))\n",
    "    simulation_integration_parameters[sim_label] = integration_locations\n",
    "    with open(f'{pwd}SimulationData/{sim_label}.fa', 'w') as sim:\n",
    "        for location, seq in zip(integration_locations, integration_sequences):\n",
    "            sim.write(f'>{location[0]}_{location[1]}\\n')\n",
    "            sim.write(f'{seq}\\n')\n"
   ]
  },
  {
   "cell_type": "code",
   "execution_count": 13,
   "metadata": {},
   "outputs": [],
   "source": [
    "def make_directory(directory_path):\n",
    "    try:\n",
    "        os.makedirs(directory_path, exist_ok=False)\n",
    "    except FileExistsError:\n",
    "        return None"
   ]
  },
  {
   "cell_type": "code",
   "execution_count": 14,
   "metadata": {},
   "outputs": [],
   "source": [
    "simulation_output = f'{pwd}SimulationData/IntegrationSim/'\n",
    "make_directory(simulation_output)"
   ]
  },
  {
   "cell_type": "code",
   "execution_count": 15,
   "metadata": {},
   "outputs": [
    {
     "name": "stdout",
     "output_type": "stream",
     "text": [
      "Setting Cytosine Methylation\n",
      "Simulating Illumina Reads\n",
      "Simulating Methylated Illumina Reads\n",
      "Finished Simulation\n",
      "Setting Cytosine Methylation\n",
      "Simulating Illumina Reads\n",
      "Simulating Methylated Illumina Reads\n",
      "Finished Simulation\n",
      "Setting Cytosine Methylation\n",
      "Simulating Illumina Reads\n",
      "Simulating Methylated Illumina Reads\n",
      "Finished Simulation\n",
      "Setting Cytosine Methylation\n",
      "Simulating Illumina Reads\n",
      "Simulating Methylated Illumina Reads\n",
      "Finished Simulation\n"
     ]
    }
   ],
   "source": [
    "for sim_label in simulation_integration_parameters:\n",
    "    meth_sim = SimulateMethylatedReads(reference_file=f'{pwd}SimulationData/{sim_label}.fa',\n",
    "                                       art_path=art_path, \n",
    "                                       output_path=f'{simulation_output}{sim_label}',\n",
    "                                       paired_end=True,\n",
    "                                       read_length=150,\n",
    "                                       read_depth=40,\n",
    "                                       insertion_rate1=0.000, insertion_rate2=0.000,\n",
    "                                       deletion_rate1=0.000, deletion_rate2=0.000,\n",
    "                                       undirectional=False)\n",
    "    meth_sim.run_simulation()"
   ]
  },
  {
   "cell_type": "code",
   "execution_count": 16,
   "metadata": {},
   "outputs": [],
   "source": [
    "simulation_index = f'{pwd}SimulationData/SimulationIndex/'\n",
    "if not os.path.exists(simulation_index):\n",
    "    sim_index = WholeGenomeIndexBuild(reference_file=f'{pwd}SimulationData/hg38_sim.fa', genome_database=simulation_index, bowtie2_path=bt2_path, bowtie2_threads=10)\n",
    "    sim_index.generate_bsb_database()"
   ]
  },
  {
   "cell_type": "markdown",
   "metadata": {},
   "source": [
    "## Get control mapping sites for all reads\n",
    "- get simulated mapping locations\n",
    "- indentfiy simulated reads the span integration sites"
   ]
  },
  {
   "cell_type": "code",
   "execution_count": 17,
   "metadata": {},
   "outputs": [],
   "source": [
    "def sam_iterator(sam_file):\n",
    "    with open(sam_file, 'r') as sam:\n",
    "        while True:\n",
    "            line1 = sam.readline()\n",
    "            if not line1.strip():\n",
    "                break\n",
    "            if line1[0] == '@':\n",
    "                continue\n",
    "            line2 = sam.readline()\n",
    "            yield line1.strip().split('\\t'), line2.strip().split('\\t')"
   ]
  },
  {
   "cell_type": "code",
   "execution_count": 18,
   "metadata": {},
   "outputs": [],
   "source": [
    "def assess_overlap(span, pos):\n",
    "    if span[0] < pos < span[1]:\n",
    "        return True\n",
    "    return False"
   ]
  },
  {
   "cell_type": "code",
   "execution_count": 19,
   "metadata": {},
   "outputs": [
    {
     "data": {
      "application/vnd.jupyter.widget-view+json": {
       "model_id": "115a4d2b08914e17b5fd6a42207895d6",
       "version_major": 2,
       "version_minor": 0
      },
      "text/plain": [
       "HBox(children=(IntProgress(value=0, max=4), HTML(value='')))"
      ]
     },
     "metadata": {},
     "output_type": "display_data"
    },
    {
     "name": "stdout",
     "output_type": "stream",
     "text": [
      "\n"
     ]
    }
   ],
   "source": [
    "integration_reads = {sim_label: {} for sim_label in simulation_integration_parameters}\n",
    "\n",
    "for sim_label in tqdm(simulation_integration_parameters):\n",
    "    # need vector length to get the left and right vector boundaries \n",
    "    vector_length = len(vector_seq['_'.join(sim_label.split('_')[1:])])\n",
    "    for line in sam_iterator(f'{simulation_output}{sim_label}.sam'):\n",
    "        read_len_1 = get_mapping_length(convert_alpha_numeric_cigar(line[0][5]))\n",
    "        read_len_2 = get_mapping_length(convert_alpha_numeric_cigar(line[1][5]))\n",
    "        assert line[0][0] == line[1][0]\n",
    "        assert line[0][2] == line[1][2]\n",
    "        # normalize coordinates and convert types\n",
    "        chromosome, vector_pos = line[0][2].split('_')\n",
    "        vector_pos = int(vector_pos)\n",
    "        read_1_pos = int(line[0][3])\n",
    "        read_2_pos = int(line[1][3])\n",
    "        read_span = [read_1_pos, read_2_pos + read_len_2]\n",
    "        if line[0][1] == '83':\n",
    "            read_span = [read_2_pos, read_1_pos + read_len_1]\n",
    "        assert read_span[0] < read_span[1]\n",
    "        vector_spans = (assess_overlap(read_span, 1000), assess_overlap(read_span, 1000 + vector_length))\n",
    "        assert sum(vector_spans) <= 1\n",
    "        if any(vector_spans):\n",
    "            vector_boundary = 1000 if vector_spans[0] else 1000 + vector_length\n",
    "            integration_label = None\n",
    "            vector_label = None\n",
    "            if assess_overlap((read_1_pos, read_1_pos + read_len_1), vector_boundary):\n",
    "                vector_label = ('split_1', chromosome, vector_pos, read_1_pos - vector_boundary)\n",
    "            elif assess_overlap((read_2_pos, read_2_pos + read_len_2), vector_boundary):\n",
    "                vector_label = ('split_2', chromosome, vector_pos, read_2_pos - vector_boundary)\n",
    "            else:\n",
    "                if assess_overlap((1000, 1000 + vector_length), read_1_pos):\n",
    "                    vector_label = ('discordant_1', chromosome, vector_pos, read_1_pos - vector_boundary, read_2_pos - vector_boundary)\n",
    "                else:\n",
    "                    vector_label = ('discordant_2', chromosome, vector_pos, read_1_pos - vector_boundary, read_2_pos - vector_boundary) \n",
    "            if vector_label:\n",
    "                integration_reads[sim_label][line[0][0]] = vector_label"
   ]
  },
  {
   "cell_type": "code",
   "execution_count": 20,
   "metadata": {},
   "outputs": [
    {
     "data": {
      "text/plain": [
       "[1756, 1883, 1972, 2000]"
      ]
     },
     "execution_count": 20,
     "metadata": {},
     "output_type": "execute_result"
    }
   ],
   "source": [
    "[len(x) for x in integration_reads.values()]"
   ]
  },
  {
   "cell_type": "markdown",
   "metadata": {},
   "source": [
    "## Align Simulated Bisulfite Sequencing Data"
   ]
  },
  {
   "cell_type": "code",
   "execution_count": 21,
   "metadata": {},
   "outputs": [
    {
     "data": {
      "application/vnd.jupyter.widget-view+json": {
       "model_id": "9e55fc73c3824ded9173cb712426ef6a",
       "version_major": 2,
       "version_minor": 0
      },
      "text/plain": [
       "HBox(children=(IntProgress(value=0, max=4), HTML(value='')))"
      ]
     },
     "metadata": {},
     "output_type": "display_data"
    },
    {
     "name": "stdout",
     "output_type": "stream",
     "text": [
      "\n"
     ]
    }
   ],
   "source": [
    "# Align simulated data\n",
    "\n",
    "sim_alignment_stats = {}\n",
    "\n",
    "for sim_label in tqdm(simulation_integration_parameters):\n",
    "    bsbolt_alignment_command = ['python3', '-m', 'BSBolt', 'Align', '-BT2-p', '10', '-F1', f'{simulation_output}{sim_label}_meth_1.fastq', '-F2', f'{simulation_output}{sim_label}_meth_2.fastq',\n",
    "                                '-O', f'{simulation_output}{sim_label}', '-BT2-local', '-DB', simulation_index, '-discord', '-BT2-score-min', 'G,40,8', '-S']\n",
    "    sim_align = subprocess.Popen(bsbolt_alignment_command, stdout=subprocess.PIPE, universal_newlines=True)\n",
    "    alignment_stats = []\n",
    "    for line in iter(sim_align.stdout.readline, ''):\n",
    "        alignment_stats.append(line)\n",
    "    sim_alignment_stats[sim_label] = alignment_stats"
   ]
  },
  {
   "cell_type": "code",
   "execution_count": 22,
   "metadata": {},
   "outputs": [
    {
     "data": {
      "text/plain": [
       "{'0_pMSGV1_MART1TCR': ['Aligning /Users/colinfarrell/Documents/RebisMethylation/VectorInsertionValidation/SimulationData/IntegrationSim/0_pMSGV1_MART1TCR_meth_1.fastq /Users/colinfarrell/Documents/RebisMethylation/VectorInsertionValidation/SimulationData/IntegrationSim/0_pMSGV1_MART1TCR_meth_2.fastq\\n',\n",
       "  'Alignment Complete: Time 0:00:28\\n',\n",
       "  '------------------------------\\n',\n",
       "  'Total Reads: 19840\\n',\n",
       "  'Reads Mapped 0 Times: 22, 9 Multi-reference\\n',\n",
       "  'Reads Mapped 1 Time: 8018\\n',\n",
       "  'Reads Mapped >1 Times: 10642\\n',\n",
       "  '------------------------------\\n',\n",
       "  'Reads Mapped Discordantly 1 Time: 108\\n',\n",
       "  'Reads Mapped Discordantly >1 Times: 976\\n',\n",
       "  'Reads with Mixed Mapping 1 Time: 29\\n',\n",
       "  'Reads with Mixed Mapping >1 Times: 45\\n',\n",
       "  '------------------------------\\n',\n",
       "  'Mappability: 99.889 %\\n',\n",
       "  '------------------------------\\n',\n",
       "  'Reads Mapped to Watson_C2T: 9927\\n',\n",
       "  'Reads Mapped to Crick_C2T: 9890\\n',\n",
       "  'Reads Mapped to Watson_G2A: 1\\n',\n",
       "  'Reads Mapped to Crick_G2A: 0\\n'],\n",
       " '1_pMSGV1_MART1TCR': ['Aligning /Users/colinfarrell/Documents/RebisMethylation/VectorInsertionValidation/SimulationData/IntegrationSim/1_pMSGV1_MART1TCR_meth_1.fastq /Users/colinfarrell/Documents/RebisMethylation/VectorInsertionValidation/SimulationData/IntegrationSim/1_pMSGV1_MART1TCR_meth_2.fastq\\n',\n",
       "  'Alignment Complete: Time 0:00:24\\n',\n",
       "  '------------------------------\\n',\n",
       "  'Total Reads: 21080\\n',\n",
       "  'Reads Mapped 0 Times: 63, 52 Multi-reference\\n',\n",
       "  'Reads Mapped 1 Time: 8399\\n',\n",
       "  'Reads Mapped >1 Times: 11334\\n',\n",
       "  '------------------------------\\n',\n",
       "  'Reads Mapped Discordantly 1 Time: 109\\n',\n",
       "  'Reads Mapped Discordantly >1 Times: 1040\\n',\n",
       "  'Reads with Mixed Mapping 1 Time: 42\\n',\n",
       "  'Reads with Mixed Mapping >1 Times: 93\\n',\n",
       "  '------------------------------\\n',\n",
       "  'Mappability: 99.701 %\\n',\n",
       "  '------------------------------\\n',\n",
       "  'Reads Mapped to Watson_C2T: 10650\\n',\n",
       "  'Reads Mapped to Crick_C2T: 10366\\n',\n",
       "  'Reads Mapped to Watson_G2A: 1\\n',\n",
       "  'Reads Mapped to Crick_G2A: 0\\n'],\n",
       " '2_pMSGV1_1G4_A_LY_RetroNYESO1': ['Aligning /Users/colinfarrell/Documents/RebisMethylation/VectorInsertionValidation/SimulationData/IntegrationSim/2_pMSGV1_1G4_A_LY_RetroNYESO1_meth_1.fastq /Users/colinfarrell/Documents/RebisMethylation/VectorInsertionValidation/SimulationData/IntegrationSim/2_pMSGV1_1G4_A_LY_RetroNYESO1_meth_2.fastq\\n',\n",
       "  'Alignment Complete: Time 0:00:20\\n',\n",
       "  '------------------------------\\n',\n",
       "  'Total Reads: 22320\\n',\n",
       "  'Reads Mapped 0 Times: 7, 2 Multi-reference\\n',\n",
       "  'Reads Mapped 1 Time: 7073\\n',\n",
       "  'Reads Mapped >1 Times: 13989\\n',\n",
       "  '------------------------------\\n',\n",
       "  'Reads Mapped Discordantly 1 Time: 44\\n',\n",
       "  'Reads Mapped Discordantly >1 Times: 1120\\n',\n",
       "  'Reads with Mixed Mapping 1 Time: 20\\n',\n",
       "  'Reads with Mixed Mapping >1 Times: 67\\n',\n",
       "  '------------------------------\\n',\n",
       "  'Mappability: 99.969 %\\n',\n",
       "  '------------------------------\\n',\n",
       "  'Reads Mapped to Watson_C2T: 11116\\n',\n",
       "  'Reads Mapped to Crick_C2T: 11196\\n',\n",
       "  'Reads Mapped to Watson_G2A: 0\\n',\n",
       "  'Reads Mapped to Crick_G2A: 1\\n'],\n",
       " '3_pMSGV1_1G4_A_LY_RetroNYESO1': ['Aligning /Users/colinfarrell/Documents/RebisMethylation/VectorInsertionValidation/SimulationData/IntegrationSim/3_pMSGV1_1G4_A_LY_RetroNYESO1_meth_1.fastq /Users/colinfarrell/Documents/RebisMethylation/VectorInsertionValidation/SimulationData/IntegrationSim/3_pMSGV1_1G4_A_LY_RetroNYESO1_meth_2.fastq\\n',\n",
       "  'Alignment Complete: Time 0:00:27\\n',\n",
       "  '------------------------------\\n',\n",
       "  'Total Reads: 22320\\n',\n",
       "  'Reads Mapped 0 Times: 265, 261 Multi-reference\\n',\n",
       "  'Reads Mapped 1 Time: 6934\\n',\n",
       "  'Reads Mapped >1 Times: 13841\\n',\n",
       "  '------------------------------\\n',\n",
       "  'Reads Mapped Discordantly 1 Time: 39\\n',\n",
       "  'Reads Mapped Discordantly >1 Times: 1095\\n',\n",
       "  'Reads with Mixed Mapping 1 Time: 17\\n',\n",
       "  'Reads with Mixed Mapping >1 Times: 129\\n',\n",
       "  '------------------------------\\n',\n",
       "  'Mappability: 98.813 %\\n',\n",
       "  '------------------------------\\n',\n",
       "  'Reads Mapped to Watson_C2T: 11038\\n',\n",
       "  'Reads Mapped to Crick_C2T: 11017\\n',\n",
       "  'Reads Mapped to Watson_G2A: 0\\n',\n",
       "  'Reads Mapped to Crick_G2A: 0\\n']}"
      ]
     },
     "execution_count": 22,
     "metadata": {},
     "output_type": "execute_result"
    }
   ],
   "source": [
    "sim_alignment_stats"
   ]
  },
  {
   "cell_type": "markdown",
   "metadata": {},
   "source": [
    "### Get Dicordant and Split Vector Reads"
   ]
  },
  {
   "cell_type": "code",
   "execution_count": 114,
   "metadata": {},
   "outputs": [],
   "source": [
    "def stream_mapped_reads(file_path, included_flag=None, excluded_flag=None):\n",
    "    \"\"\" process reads streamed using samtools view, samtools must be on\n",
    "        path for this to work \"\"\"\n",
    "    stream_command = ['samtools', 'view']\n",
    "    if included_flag:\n",
    "        stream_command.extend(['-F', str(included_flag)])\n",
    "    if excluded_flag:\n",
    "        stream_command.extend(['-f', str(excluded_flag)])\n",
    "    stream_command.append(file_path)\n",
    "    read_stream = subprocess.Popen(stream_command, stdout=subprocess.PIPE, universal_newlines=True)\n",
    "    for line in iter(read_stream.stdout.readline, ''):\n",
    "        QNAME, FLAG, RNAME, POS, MAPQ, CIGAR, RNEXT, PNEXT, TLEN, SEQ, QUAL, *SAM_TAGS = line.strip().split('\\t')\n",
    "        alignment_score = None\n",
    "        mapping_reference = None\n",
    "        for tag in SAM_TAGS:\n",
    "            if tag[0:3] == 'AS:':\n",
    "                alignment_score = tag.split(':')[-1]\n",
    "            elif tag[0:4] == 'XO:Z':\n",
    "                mapping_reference = tag.split(':')[-1]\n",
    "        yield QNAME, FLAG, RNAME, int(POS), CIGAR, RNEXT, int(PNEXT), int(alignment_score), mapping_reference\n",
    "\n",
    "\n",
    "def get_spanning_reads(file_path: str = None, plasmid_names: set = None) -> dict:\n",
    "    mapped_reads = {}\n",
    "    for sam_read in stream_mapped_reads(file_path, included_flag=4):\n",
    "        QNAME, FLAG, RNAME, POS, CIGAR, RNEXT, PNEXT, alignment_score, mapping_reference = sam_read\n",
    "        plasmid_read = RNAME in plasmid_names\n",
    "        if QNAME not in mapped_reads:\n",
    "            mapped_reads[QNAME] = [[sam_read], plasmid_read]\n",
    "        else:\n",
    "            if plasmid_read:\n",
    "                mapped_reads[QNAME][0].append(sam_read)\n",
    "                mapped_reads[QNAME][1] = plasmid_read\n",
    "            else:\n",
    "                mapped_reads[QNAME][0].append(sam_read)\n",
    "    plasmid_reads = {}\n",
    "    for qname, read_group in mapped_reads.items():\n",
    "        if read_group[1]:\n",
    "            for read in read_group[0]:\n",
    "                if read[0][0:3] == 'chr':\n",
    "                    plasmid_reads[qname] = read_group[0]\n",
    "                    break\n",
    "    return plasmid_reads\n"
   ]
  },
  {
   "cell_type": "code",
   "execution_count": 129,
   "metadata": {},
   "outputs": [
    {
     "data": {
      "application/vnd.jupyter.widget-view+json": {
       "model_id": "182f9f145d124b3082c85dd4d78351c7",
       "version_major": 2,
       "version_minor": 0
      },
      "text/plain": [
       "HBox(children=(IntProgress(value=0, max=4), HTML(value='')))"
      ]
     },
     "metadata": {},
     "output_type": "display_data"
    },
    {
     "name": "stdout",
     "output_type": "stream",
     "text": [
      "\n"
     ]
    }
   ],
   "source": [
    "sample_spanning_reads = {}\n",
    "sample_read_stats = {}\n",
    "\n",
    "for sim_label in tqdm(simulation_integration_parameters):\n",
    "    plasmid_reads = get_spanning_reads(f'{simulation_output}{sim_label}.sorted.bam', {'pMSGV1_MART1TCR', 'pMSGV1_1G4_A_LY_RetroNYESO1'})\n",
    "    int_read_count = 0\n",
    "    non_int_read_count = 0\n",
    "    for read in plasmid_reads:\n",
    "        if read in integration_reads[sim_label]:\n",
    "            int_read_count += 1\n",
    "        else:\n",
    "            non_int_read_count += 1\n",
    "    sample_spanning_reads[sim_label] = plasmid_reads\n",
    "    observed_read_stats = dict(integration_reads=int_read_count, non_integration_reads=non_int_read_count, \n",
    "                               total_simulated_integration_reads=len(integration_reads[sim_label]), total_spanning_reads=len(plasmid_reads))\n",
    "    sample_read_stats[sim_label] = observed_read_stats"
   ]
  },
  {
   "cell_type": "code",
   "execution_count": 130,
   "metadata": {},
   "outputs": [
    {
     "data": {
      "text/plain": [
       "{'0_pMSGV1_MART1TCR': {'integration_reads': 1250,\n",
       "  'non_integration_reads': 15504,\n",
       "  'total_simulated_integration_reads': 1756,\n",
       "  'total_spanning_reads': 16754},\n",
       " '1_pMSGV1_MART1TCR': {'integration_reads': 1352,\n",
       "  'non_integration_reads': 16402,\n",
       "  'total_simulated_integration_reads': 1883,\n",
       "  'total_spanning_reads': 17754},\n",
       " '2_pMSGV1_1G4_A_LY_RetroNYESO1': {'integration_reads': 1417,\n",
       "  'non_integration_reads': 17303,\n",
       "  'total_simulated_integration_reads': 1972,\n",
       "  'total_spanning_reads': 18720},\n",
       " '3_pMSGV1_1G4_A_LY_RetroNYESO1': {'integration_reads': 1431,\n",
       "  'non_integration_reads': 17312,\n",
       "  'total_simulated_integration_reads': 2000,\n",
       "  'total_spanning_reads': 18743}}"
      ]
     },
     "execution_count": 130,
     "metadata": {},
     "output_type": "execute_result"
    }
   ],
   "source": [
    "sample_read_stats"
   ]
  },
  {
   "cell_type": "code",
   "execution_count": 131,
   "metadata": {},
   "outputs": [
    {
     "data": {
      "application/vnd.jupyter.widget-view+json": {
       "model_id": "ee8bcb7619564fe591eaf1965aeeaa02",
       "version_major": 2,
       "version_minor": 0
      },
      "text/plain": [
       "HBox(children=(IntProgress(value=0, max=4), HTML(value='')))"
      ]
     },
     "metadata": {},
     "output_type": "display_data"
    },
    {
     "name": "stdout",
     "output_type": "stream",
     "text": [
      "\n"
     ]
    }
   ],
   "source": [
    "# clean reads mapping to different vector\n",
    "\n",
    "for sim_label in tqdm(simulation_integration_parameters):\n",
    "    vector = '_'.join(sim_label.split('_')[1:])\n",
    "    plasmid_reads = sample_spanning_reads[sim_label]\n",
    "    cleaned_plasmid_reads = {}\n",
    "    for read_name, read_group in plasmid_reads.items():\n",
    "        cleaned_group = []\n",
    "        vector_mapping = False\n",
    "        for read in read_group:\n",
    "            if read[2][0:3] == 'chr':\n",
    "                cleaned_group.append(read)\n",
    "            elif read[2] == vector:\n",
    "                vector_mapping = True\n",
    "                cleaned_group.append(read)\n",
    "        if vector_mapping:\n",
    "            cleaned_plasmid_reads[read_name] = cleaned_group\n",
    "    sample_spanning_reads[sim_label] = cleaned_plasmid_reads"
   ]
  },
  {
   "cell_type": "code",
   "execution_count": 132,
   "metadata": {},
   "outputs": [],
   "source": [
    "from typing import Dict, List, Tuple"
   ]
  },
  {
   "cell_type": "code",
   "execution_count": 196,
   "metadata": {},
   "outputs": [],
   "source": [
    "class ProcessVectorSpanningReads:\n",
    "    \"\"\"Indentify high quality reads or read pairs that span a vector of interest and the genome.\"\"\"\n",
    "\n",
    "    def __init__(self, read_uniqueness_threshold: float = 1.1, read_mapping_threshold: float = 0.9,\n",
    "                 multibase_threshold: float = 0.1):\n",
    "        self.first_read = {'65', '67', '73', '81', '89', '97', '113', '115', '321', '323', '345', '329', '369', '371'}\n",
    "        self.fr_reference = {'W_C2T', 'C_G2A'}\n",
    "        self.read_uniqueness_threshold = read_uniqueness_threshold\n",
    "        self.read_mapping_threshold = read_mapping_threshold\n",
    "        self.multibase_threshold = multibase_threshold\n",
    "\n",
    "    def get_integration_sites(self, read_group: list = None, vector: str = None):\n",
    "        first_reads, second_reads = self.get_paired_reads(read_group)\n",
    "        group_1 = self.process_read_mapping(first_reads)\n",
    "        group_2 = self.process_read_mapping(second_reads)\n",
    "        g1_vector, g1_genome, g1_split = self.assess_alignment_contigs(group_1, vector)\n",
    "        g2_vector, g2_genome, g2_split  = self.assess_alignment_contigs(group_2, vector)\n",
    "        # discard read groups with conflicting integration site information\n",
    "        if g1_split and g2_split:\n",
    "            return None\n",
    "        # discard read group with only chromosome or vector mapping information\n",
    "        if not any((g1_vector, g2_vector)) or not any((g1_genome, g2_genome)):\n",
    "            return None\n",
    "        # discordant reads \n",
    "        if not g1_split and not g2_split:\n",
    "            # read information -> QNAME, CHROM, mapping_ref, l_reference_pos, r_reference_pos, l_query_pos, r_query_pos, Alignment_Score, list[matched_base_position: int]\n",
    "            return self.process_discordant_int(group_1, group_2, g1_genome)\n",
    "        return self.process_split_int(group_1, group_2, g1_split, g1_genome, g2_genome, vector)\n",
    "        \n",
    "    def process_split_int(group_1: list, group_2: list, g1_split: bool, g1_genome: bool, g2_genome: bool, vector: str):\n",
    "        split_group = group_1 if g1_split else group_2\n",
    "        supporting_group = group1 if not g1_split else group_2\n",
    "        supporting_genome = g1_genome if not g1_split else g2_genome\n",
    "        genome_split, vector_split = None, None\n",
    "        for read in split_group:\n",
    "            if read[1] == vector:\n",
    "                vector_split = read\n",
    "            else:\n",
    "                genome_split = read\n",
    "        ref_pos = genome_split[3] if genome_split[5] > vector_split[5] else genome_split[4]\n",
    "        if not supporting_group:\n",
    "            return 'split_single', genome_split[0], genome_split[1], ref_pos, genome_split[7], vector_split[7]\n",
    "        else:\n",
    "            if supporting_genome:\n",
    "                if supporting_group[0][1] != genome_split[0][1]:\n",
    "                    return None\n",
    "                return 'split_paired', genome_split[0], genome_split[1], ref_pos, genome_split[7] + supporting_group[0][7], vector_split[7]\n",
    "            else:\n",
    "                return 'split_paired', genome_split[0], genome_split[1], ref_pos, genome_split[7], vector_split[7] + supporting_group[0][7]\n",
    "\n",
    "        \n",
    "    def process_discordant_int(self, group_1, group_2, g1_genome):\n",
    "        read_1 = group_1[0]\n",
    "        read_2 = group_2[0]\n",
    "        if g1_genome:\n",
    "            ref_pos = read_1[4] if read_1[2] in self.fr_reference else read_1[3]\n",
    "            return 'discord_1', read_1[0], read_1[1], ref_pos, read_1[7], read_2[7]\n",
    "        else:\n",
    "            ref_pos = read_2[3] if read_2[2] in self.fr_reference else read_2[4]\n",
    "            return 'discord_2', read_2[0], read_2[1], ref_pos, read_2[7], read_1[7]\n",
    "        \n",
    "\n",
    "    def process_read_groups(self, group_1, group_2):\n",
    "        if group_1[6] and group_2[6]:\n",
    "            return None\n",
    "        pass\n",
    "\n",
    "    def assess_alignment_contigs(self, read_group: list, vector: str) -> (bool, bool):\n",
    "        vector_mapping, genome_mapping = False, False\n",
    "        genome_contigs = []\n",
    "        for read in read_group:\n",
    "            if read[1] == vector:\n",
    "                vector_mapping = True\n",
    "            else:\n",
    "                genome_contigs.append(read[1])\n",
    "                genome_mapping = True\n",
    "        if len(genome_contigs) > 1:\n",
    "            genome_mapping = False\n",
    "            vector_mapping = False\n",
    "        return vector_mapping, genome_mapping, all((vector_mapping, genome_mapping))\n",
    "\n",
    "    def get_paired_reads(self, read_group):\n",
    "        first_reads, second_reads = [], []\n",
    "        for read in read_group:\n",
    "            if read[1] in self.first_read:\n",
    "                first_reads.append(read)\n",
    "            else:\n",
    "                second_reads.append(read)\n",
    "        return first_reads, second_reads\n",
    "\n",
    "    def process_read_mapping(self, read_paired):\n",
    "        processed_reads = []\n",
    "        for read in read_paired:\n",
    "            cigar_tuple = convert_alpha_numeric_cigar(read[4])\n",
    "            left_most_pos = int(read[3])\n",
    "            # read information -> l_query_pos, r_query_pos, l_reference_pos, r_reference_pos, list[matched_base_position: int]\n",
    "            l_pos, r_pos, reference_pos, matched_base_pos = self.get_mapped_bases(cigar_tuple, left_most_pos)\n",
    "            # read information -> QNAME, CHROM, mapping_ref, l_ref_pos, r_ref_pos, l_query_pos, r_query_pos, Alignment_Score, list[matched_base_position: int]\n",
    "            processed_reads.append((read[0], read[2], read[8], left_most_pos, reference_pos, l_pos, r_pos, read[7], matched_base_pos))\n",
    "        processed_reads.sort(key = lambda x: x[7], reverse=True)\n",
    "        if not processed_reads:\n",
    "            return processed_reads\n",
    "        if len(processed_reads) < 2:\n",
    "            return [read[0:8] for read in processed_reads]\n",
    "        else:\n",
    "            primary_reads = [processed_reads[0]]\n",
    "            for read in processed_reads[1:]:\n",
    "                for p_read in primary_reads:\n",
    "                    if self.get_duplication_proportion(read[8], p_read[8]) > self.multibase_threshold:\n",
    "                        if read[7] == p_read[7]:\n",
    "                            return []\n",
    "                        duplicate_read = True\n",
    "                        break\n",
    "                if not duplicate_read:\n",
    "                    primary_reads.append(read)\n",
    "        return [read[0:8] for read in primary_reads]\n",
    "    \n",
    "    @staticmethod\n",
    "    def get_duplication_proportion(read_bases, comparison_bases):\n",
    "        return len([base for base in read_bases if base in comparison_bases]) / len(read_bases)\n",
    "\n",
    "    def get_mapped_bases(self, cigar_tuple: tuple, reference_position: int) -> (int, int, list):\n",
    "        matched_base_positions = []\n",
    "        reference_consumers = {0, 2, 3, 7, 8}\n",
    "        query_consumers = {0, 1, 4, 7, 8}\n",
    "        # set relative to genomic position so add reference start and one since capturing the first base\n",
    "        query_position = 0\n",
    "        left_mapped_pos, right_mapped_pos = None, None\n",
    "        for cigar_type, cigar_count in cigar_tuple:\n",
    "            if cigar_type in reference_consumers and cigar_type in query_consumers:\n",
    "                for _ in range(cigar_count):\n",
    "                    if not left_mapped_pos:\n",
    "                        left_mapped_pos = query_position\n",
    "                    right_mapped_pos = query_position\n",
    "                    matched_base_positions.append(query_position)\n",
    "                    query_position += 1\n",
    "                    reference_position += 1\n",
    "            elif cigar_type in query_consumers and cigar_type not in reference_consumers:\n",
    "                query_position += cigar_count\n",
    "            elif not cigar_type in query_consumers and cigar_type in reference_consumers:\n",
    "                reference_position += 1\n",
    "        return left_mapped_pos, right_mapped_pos, reference_position, matched_base_positions\n"
   ]
  },
  {
   "cell_type": "code",
   "execution_count": 197,
   "metadata": {},
   "outputs": [],
   "source": [
    "test_processor = ProcessVectorSpanningReads(read_uniqueness_threshold=1.2, read_mapping_threshold=0.7,\n",
    "                                            multibase_threshold=0.2)"
   ]
  },
  {
   "cell_type": "code",
   "execution_count": 198,
   "metadata": {},
   "outputs": [],
   "source": [
    "test_group = [('chr15_93920560-2110', '435', 'chr14', 22052763, '37S4M1I108M', '=', 22052867, 216, 'C_C2T'), ('chr15_93920560-2110', '371', 'chr14', 22052867, '150M', '=', 22052763, 300, 'C_C2T'), ('chr15_93920560-2110', '179', 'pMSGV1_1G4_A_LY_RetroNYESO1', 7, '150M', '=', 149, 300, 'C_C2T'), ('chr15_93920560-2110', '115', 'pMSGV1_1G4_A_LY_RetroNYESO1', 149, '150M', '=', 7, 300, 'C_C2T')]"
   ]
  },
  {
   "cell_type": "code",
   "execution_count": 199,
   "metadata": {},
   "outputs": [],
   "source": [
    "test_processor.get_integration_sites(test_group, vector='pMSGV1_1G4_A_LY_RetroNYESO1')"
   ]
  },
  {
   "cell_type": "code",
   "execution_count": 200,
   "metadata": {},
   "outputs": [
    {
     "data": {
      "application/vnd.jupyter.widget-view+json": {
       "model_id": "2d2f9bc755cb4f0d80f9c4eca1d0a762",
       "version_major": 2,
       "version_minor": 0
      },
      "text/plain": [
       "HBox(children=(IntProgress(value=0, max=4), HTML(value='')))"
      ]
     },
     "metadata": {},
     "output_type": "display_data"
    },
    {
     "name": "stdout",
     "output_type": "stream",
     "text": [
      "\n"
     ]
    }
   ],
   "source": [
    "test_processor = ProcessVectorSpanningReads(read_uniqueness_threshold=1.2, read_mapping_threshold=0.7,\n",
    "                                            multibase_threshold=0.2)\n",
    "\n",
    "good_call = 0\n",
    "bad_call = 0\n",
    "\n",
    "for sim_label in tqdm(simulation_integration_parameters):\n",
    "    vector = '_'.join(sim_label.split('_')[1:])\n",
    "    for read_label, read_group in sample_spanning_reads[sim_label].items():\n",
    "        control_info = integration_reads[sim_label].get(read_label, False)\n",
    "        called_int = test_processor.get_integration_sites(read_group, vector=vector)\n",
    "        if control_info and called_int:\n",
    "            good_call += 1\n",
    "        elif not control_info and called_int:\n",
    "            print(sim_label, called_int)\n",
    "            print(read_group)\n",
    "            bad_call += 1"
   ]
  },
  {
   "cell_type": "code",
   "execution_count": 201,
   "metadata": {},
   "outputs": [
    {
     "data": {
      "text/plain": [
       "2341"
      ]
     },
     "execution_count": 201,
     "metadata": {},
     "output_type": "execute_result"
    }
   ],
   "source": [
    "good_call"
   ]
  },
  {
   "cell_type": "code",
   "execution_count": 203,
   "metadata": {},
   "outputs": [
    {
     "data": {
      "text/plain": [
       "7611"
      ]
     },
     "execution_count": 203,
     "metadata": {},
     "output_type": "execute_result"
    }
   ],
   "source": [
    "sum([len(x) for x in integration_reads.values()])"
   ]
  },
  {
   "cell_type": "code",
   "execution_count": null,
   "metadata": {},
   "outputs": [],
   "source": []
  }
 ],
 "metadata": {
  "kernelspec": {
   "display_name": "Python 3",
   "language": "python",
   "name": "python3"
  },
  "language_info": {
   "codemirror_mode": {
    "name": "ipython",
    "version": 3
   },
   "file_extension": ".py",
   "mimetype": "text/x-python",
   "name": "python",
   "nbconvert_exporter": "python",
   "pygments_lexer": "ipython3",
   "version": "3.7.4"
  }
 },
 "nbformat": 4,
 "nbformat_minor": 4
}
