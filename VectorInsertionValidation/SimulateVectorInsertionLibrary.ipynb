{
 "cells": [
  {
   "cell_type": "markdown",
   "metadata": {},
   "source": [
    "# Generate MART and NYES Vector Integration Libraries\n",
    "- randomly insert vector into location in the genome\n",
    "- simulate PE reads using BSBolt\n",
    "- align and try to detect vector integration "
   ]
  },
  {
   "cell_type": "markdown",
   "metadata": {},
   "source": [
    "## Notebook Setup"
   ]
  },
  {
   "cell_type": "code",
   "execution_count": 1,
   "metadata": {},
   "outputs": [],
   "source": [
    "import gzip\n",
    "import io\n",
    "import os \n",
    "import random\n",
    "import subprocess\n",
    "import urllib.request\n",
    "from tqdm import tqdm_notebook as tqdm"
   ]
  },
  {
   "cell_type": "code",
   "execution_count": 2,
   "metadata": {},
   "outputs": [],
   "source": [
    "# simulate methylation sequencing data\n",
    "from BSBolt.Align.AlignmentHelpers import convert_alpha_numeric_cigar, get_mapping_length\n",
    "from BSBolt.Index.WholeGenomeBuild import WholeGenomeIndexBuild\n",
    "from BSBolt.Simulate.SimulateMethylatedReads import SimulateMethylatedReads\n",
    "from BSBolt.Utils.UtilityFunctions import get_external_paths"
   ]
  },
  {
   "cell_type": "code",
   "execution_count": 3,
   "metadata": {},
   "outputs": [],
   "source": [
    "bt2_path, art_path = get_external_paths()"
   ]
  },
  {
   "cell_type": "code",
   "execution_count": 4,
   "metadata": {},
   "outputs": [],
   "source": [
    "pwd = os.getcwd() + '/'"
   ]
  },
  {
   "cell_type": "code",
   "execution_count": 5,
   "metadata": {},
   "outputs": [],
   "source": [
    "ucsc_hg38 = 'https://hgdownload.soe.ucsc.edu/goldenPath/hg38/bigZips/hg38.fa.gz'"
   ]
  },
  {
   "cell_type": "code",
   "execution_count": 6,
   "metadata": {},
   "outputs": [],
   "source": [
    "if not os.path.exists(f'{pwd}SimulationData/hg38.fa.gz'):\n",
    "    urllib.request.urlretrieve(ucsc_hg38, f'{pwd}SimulationData/hg38.fa.gz')"
   ]
  },
  {
   "cell_type": "markdown",
   "metadata": {},
   "source": [
    "## Import Sequence Data"
   ]
  },
  {
   "cell_type": "code",
   "execution_count": 7,
   "metadata": {},
   "outputs": [],
   "source": [
    "# get hg38 reference with lambda phage control attached\n",
    "\n",
    "hg38 = {}\n",
    "\n",
    "with gzip.open(f'{pwd}SimulationData/hg38.fa.gz') as genome:\n",
    "    contig_seq = ''\n",
    "    chrom = None\n",
    "    for line in io.BufferedReader(genome):\n",
    "        processed_line = line.decode('utf-8').strip()\n",
    "        if '>' == processed_line[0]:\n",
    "            if chrom:\n",
    "                hg38[chrom] = contig_seq\n",
    "            contig_seq = ''\n",
    "            chrom = processed_line[1:]\n",
    "        else:\n",
    "            contig_seq = contig_seq + processed_line\n",
    "    hg38[chrom] = contig_seq"
   ]
  },
  {
   "cell_type": "code",
   "execution_count": 8,
   "metadata": {},
   "outputs": [],
   "source": [
    "# import NYES and Mart vector sequences \n",
    "mart1 = 'pMSGV1-MART1TCR.txt'\n",
    "nyes =  'pMSGV1-1G4_A_LY_RetroNYESO1.txt'"
   ]
  },
  {
   "cell_type": "code",
   "execution_count": 9,
   "metadata": {},
   "outputs": [],
   "source": [
    "vector_seq = {}\n",
    "\n",
    "for vector in [mart1, nyes]:\n",
    "    vector_label = vector.replace('-', '_').replace('.txt', '')\n",
    "    seq = ''\n",
    "    with open(f'{pwd}SimulationData/{vector}', 'r') as vec_seq:\n",
    "        for line in vec_seq:\n",
    "            processed_line = line.strip().replace(' ', '')\n",
    "            seq = seq + ''.join([base for base in processed_line if not base.isdigit()])\n",
    "    vector_seq[vector_label] = seq\n",
    "    "
   ]
  },
  {
   "cell_type": "code",
   "execution_count": 10,
   "metadata": {},
   "outputs": [
    {
     "data": {
      "application/vnd.jupyter.widget-view+json": {
       "model_id": "bb8291d7905f4071973ce72ef296a944",
       "version_major": 2,
       "version_minor": 0
      },
      "text/plain": [
       "HBox(children=(IntProgress(value=0, max=455), HTML(value='')))"
      ]
     },
     "metadata": {},
     "output_type": "display_data"
    },
    {
     "name": "stdout",
     "output_type": "stream",
     "text": [
      "\n"
     ]
    }
   ],
   "source": [
    "if not os.path.exists(f'{pwd}SimulationData/hg38_sim.fa'):\n",
    "    out = open(f'{pwd}SimulationData/hg38_sim.fa', 'w')\n",
    "    for chrom, seq in tqdm(hg38.items()):\n",
    "        out.write(f'>{chrom}\\n')\n",
    "        out.write(f'{seq}\\n')\n",
    "    for chrom, seq in vector_seq.items():\n",
    "        out.write(f'>{chrom}\\n')\n",
    "        out.write(f'{seq}\\n')\n",
    "    out.close()"
   ]
  },
  {
   "cell_type": "markdown",
   "metadata": {},
   "source": [
    "## Simulated vector integration libraries\n",
    "- select the number of integration events\n",
    "- select random integration sites\n",
    "- generate 2 mart and 2 nyes datasets"
   ]
  },
  {
   "cell_type": "code",
   "execution_count": 11,
   "metadata": {},
   "outputs": [],
   "source": [
    "integration_events = [events + 15 for events in range(10)]"
   ]
  },
  {
   "cell_type": "code",
   "execution_count": 12,
   "metadata": {},
   "outputs": [],
   "source": [
    "simulation_integration_parameters = {}\n",
    "\n",
    "for count, vector in enumerate(['pMSGV1_MART1TCR', 'pMSGV1_MART1TCR', 'pMSGV1_1G4_A_LY_RetroNYESO1', 'pMSGV1_1G4_A_LY_RetroNYESO1']):\n",
    "    sim_label = f'{count}_{vector}'\n",
    "    int_events = random.sample(integration_events, 1)[0]\n",
    "    integration_locations = []\n",
    "    integration_sequences = []\n",
    "    while len(integration_locations) < int_events:\n",
    "        int_chrom = random.sample(list(hg38.keys()), 1)[0]\n",
    "        if len(int_chrom) > 5 or not int_chrom[-1].isdigit():\n",
    "            continue\n",
    "        # get chromosome sequence\n",
    "        chrom_seq = hg38[int_chrom]\n",
    "        # select simulation position \n",
    "        int_pos = random.randint(0, len(chrom_seq))\n",
    "        # retrieve integration position \n",
    "        left_seq = chrom_seq[int_pos - 1000: int_pos]\n",
    "        right_seq = chrom_seq[int_pos: int_pos + 1000]\n",
    "        integration_seq = left_seq + vector_seq[vector] + right_seq\n",
    "        if 'N' in integration_seq or 'n' in integration_seq:\n",
    "            continue\n",
    "        integration_sequences.append(integration_seq)\n",
    "        # save location\n",
    "        integration_locations.append((int_chrom, int_pos))\n",
    "    simulation_integration_parameters[sim_label] = integration_locations\n",
    "    with open(f'{pwd}SimulationData/{sim_label}.fa', 'w') as sim:\n",
    "        for location, seq in zip(integration_locations, integration_sequences):\n",
    "            sim.write(f'>{location[0]}_{location[1]}\\n')\n",
    "            sim.write(f'{seq}\\n')\n"
   ]
  },
  {
   "cell_type": "code",
   "execution_count": 13,
   "metadata": {},
   "outputs": [],
   "source": [
    "def make_directory(directory_path):\n",
    "    try:\n",
    "        os.makedirs(directory_path, exist_ok=False)\n",
    "    except FileExistsError:\n",
    "        return None"
   ]
  },
  {
   "cell_type": "code",
   "execution_count": 14,
   "metadata": {},
   "outputs": [],
   "source": [
    "simulation_output = f'{pwd}SimulationData/IntegrationSim/'\n",
    "make_directory(simulation_output)"
   ]
  },
  {
   "cell_type": "code",
   "execution_count": 15,
   "metadata": {},
   "outputs": [
    {
     "name": "stdout",
     "output_type": "stream",
     "text": [
      "Setting Cytosine Methylation\n",
      "Simulating Illumina Reads\n",
      "Simulating Methylated Illumina Reads\n",
      "Finished Simulation\n",
      "Setting Cytosine Methylation\n",
      "Simulating Illumina Reads\n",
      "Simulating Methylated Illumina Reads\n",
      "Finished Simulation\n",
      "Setting Cytosine Methylation\n",
      "Simulating Illumina Reads\n",
      "Simulating Methylated Illumina Reads\n",
      "Finished Simulation\n",
      "Setting Cytosine Methylation\n",
      "Simulating Illumina Reads\n",
      "Simulating Methylated Illumina Reads\n",
      "Finished Simulation\n"
     ]
    }
   ],
   "source": [
    "for sim_label in simulation_integration_parameters:\n",
    "    meth_sim = SimulateMethylatedReads(reference_file=f'{pwd}SimulationData/{sim_label}.fa',\n",
    "                                       art_path=art_path, \n",
    "                                       output_path=f'{simulation_output}{sim_label}',\n",
    "                                       paired_end=True,\n",
    "                                       read_length=150,\n",
    "                                       read_depth=40,\n",
    "                                       insertion_rate1=0.000, insertion_rate2=0.000,\n",
    "                                       deletion_rate1=0.000, deletion_rate2=0.000,\n",
    "                                       undirectional=False)\n",
    "    meth_sim.run_simulation()"
   ]
  },
  {
   "cell_type": "code",
   "execution_count": 16,
   "metadata": {},
   "outputs": [],
   "source": [
    "simulation_index = f'{pwd}SimulationData/SimulationIndex/'\n",
    "if not os.path.exists(simulation_index):\n",
    "    sim_index = WholeGenomeIndexBuild(reference_file=f'{pwd}SimulationData/hg38_sim.fa', genome_database=simulation_index, bowtie2_path=bt2_path, bowtie2_threads=10)\n",
    "    sim_index.generate_bsb_database()"
   ]
  },
  {
   "cell_type": "markdown",
   "metadata": {},
   "source": [
    "## Get control mapping sites for all reads\n",
    "- get simulated mapping locations\n",
    "- indentfiy simulated reads the span integration sites"
   ]
  },
  {
   "cell_type": "code",
   "execution_count": 17,
   "metadata": {},
   "outputs": [],
   "source": [
    "def sam_iterator(sam_file):\n",
    "    with open(sam_file, 'r') as sam:\n",
    "        while True:\n",
    "            line1 = sam.readline()\n",
    "            if not line1.strip():\n",
    "                break\n",
    "            if line1[0] == '@':\n",
    "                continue\n",
    "            line2 = sam.readline()\n",
    "            yield line1.strip().split('\\t'), line2.strip().split('\\t')"
   ]
  },
  {
   "cell_type": "code",
   "execution_count": 18,
   "metadata": {},
   "outputs": [],
   "source": [
    "def assess_overlap(span, pos):\n",
    "    if span[0] < pos < span[1]:\n",
    "        return True\n",
    "    return False"
   ]
  },
  {
   "cell_type": "code",
   "execution_count": 19,
   "metadata": {},
   "outputs": [
    {
     "data": {
      "application/vnd.jupyter.widget-view+json": {
       "model_id": "6455b1f37c30490591f0213eefd6c7c8",
       "version_major": 2,
       "version_minor": 0
      },
      "text/plain": [
       "HBox(children=(IntProgress(value=0, max=4), HTML(value='')))"
      ]
     },
     "metadata": {},
     "output_type": "display_data"
    },
    {
     "name": "stdout",
     "output_type": "stream",
     "text": [
      "\n"
     ]
    }
   ],
   "source": [
    "integration_reads = {sim_label: {} for sim_label in simulation_integration_parameters}\n",
    "\n",
    "for sim_label in tqdm(simulation_integration_parameters):\n",
    "    # need vector length to get the left and right vector boundaries \n",
    "    vector_length = len(vector_seq['_'.join(sim_label.split('_')[1:])])\n",
    "    for line in sam_iterator(f'{simulation_output}{sim_label}.sam'):\n",
    "        read_len_1 = get_mapping_length(convert_alpha_numeric_cigar(line[0][5]))\n",
    "        read_len_2 = get_mapping_length(convert_alpha_numeric_cigar(line[1][5]))\n",
    "        assert line[0][0] == line[1][0]\n",
    "        assert line[0][2] == line[1][2]\n",
    "        # normalize coordinates and convert types\n",
    "        chromosome, vector_pos = line[0][2].split('_')\n",
    "        vector_pos = int(vector_pos)\n",
    "        read_1_pos = int(line[0][3])\n",
    "        read_2_pos = int(line[1][3])\n",
    "        read_span = [read_1_pos, read_2_pos + read_len_2]\n",
    "        if line[0][1] == '83':\n",
    "            read_span = [read_2_pos, read_1_pos + read_len_1]\n",
    "        assert read_span[0] < read_span[1]\n",
    "        vector_spans = (assess_overlap(read_span, 1000), assess_overlap(read_span, 1000 + vector_length))\n",
    "        assert sum(vector_spans) <= 1\n",
    "        if any(vector_spans):\n",
    "            vector_boundary = 1000 if vector_spans[0] else 1000 + vector_length\n",
    "            integration_label = None\n",
    "            vector_label = None\n",
    "            if assess_overlap((read_1_pos, read_1_pos + read_len_1), vector_boundary):\n",
    "                vector_label = ('split_1', chromosome, vector_pos, read_1_pos - vector_boundary)\n",
    "            elif assess_overlap((read_2_pos, read_2_pos + read_len_2), vector_boundary):\n",
    "                vector_label = ('split_2', chromosome, vector_pos, read_2_pos - vector_boundary)\n",
    "            else:\n",
    "                if assess_overlap((1000, 1000 + vector_length), read_1_pos):\n",
    "                    vector_label = ('discordant_1', chromosome, vector_pos, read_1_pos - vector_boundary, read_2_pos - vector_boundary)\n",
    "                else:\n",
    "                    vector_label = ('discordant_2', chromosome, vector_pos, read_1_pos - vector_boundary, read_2_pos - vector_boundary) \n",
    "            if vector_label:\n",
    "                integration_reads[sim_label][line[0][0]] = vector_label"
   ]
  },
  {
   "cell_type": "code",
   "execution_count": 20,
   "metadata": {},
   "outputs": [
    {
     "data": {
      "text/plain": [
       "[2014, 2083, 2491, 2080]"
      ]
     },
     "execution_count": 20,
     "metadata": {},
     "output_type": "execute_result"
    }
   ],
   "source": [
    "[len(x) for x in integration_reads.values()]"
   ]
  },
  {
   "cell_type": "markdown",
   "metadata": {},
   "source": [
    "## Align Simulated Bisulfite Sequencing Data"
   ]
  },
  {
   "cell_type": "code",
   "execution_count": 21,
   "metadata": {},
   "outputs": [
    {
     "data": {
      "application/vnd.jupyter.widget-view+json": {
       "model_id": "56bb003a522040b4b4feb44c071a2a3c",
       "version_major": 2,
       "version_minor": 0
      },
      "text/plain": [
       "HBox(children=(IntProgress(value=0, max=4), HTML(value='')))"
      ]
     },
     "metadata": {},
     "output_type": "display_data"
    },
    {
     "name": "stdout",
     "output_type": "stream",
     "text": [
      "\n"
     ]
    }
   ],
   "source": [
    "# Align simulated data\n",
    "\n",
    "sim_alignment_stats = {}\n",
    "\n",
    "for sim_label in tqdm(simulation_integration_parameters):\n",
    "    bsbolt_alignment_command = ['python3', '-m', 'BSBolt', 'Align', '-BT2-p', '10', '-F1', f'{simulation_output}{sim_label}_meth_1.fastq', '-F2', f'{simulation_output}{sim_label}_meth_2.fastq',\n",
    "                                '-O', f'{simulation_output}{sim_label}', '-BT2-local', '-DB', simulation_index, '-discord', '-BT2-score-min', 'G,40,8', '-S']\n",
    "    sim_align = subprocess.Popen(bsbolt_alignment_command, stdout=subprocess.PIPE, universal_newlines=True)\n",
    "    alignment_stats = []\n",
    "    for line in iter(sim_align.stdout.readline, ''):\n",
    "        alignment_stats.append(line)\n",
    "    sim_alignment_stats[sim_label] = alignment_stats"
   ]
  },
  {
   "cell_type": "code",
   "execution_count": 22,
   "metadata": {},
   "outputs": [
    {
     "data": {
      "text/plain": [
       "{'0_pMSGV1_MART1TCR': ['Aligning /home/colin/Documents/RebisMethylation/VectorInsertionValidation/SimulationData/IntegrationSim/0_pMSGV1_MART1TCR_meth_1.fastq /home/colin/Documents/RebisMethylation/VectorInsertionValidation/SimulationData/IntegrationSim/0_pMSGV1_MART1TCR_meth_2.fastq\\n',\n",
       "  'Alignment Complete: Time 0:00:15\\n',\n",
       "  '------------------------------\\n',\n",
       "  'Total Reads: 22320\\n',\n",
       "  'Reads Mapped 0 Times: 237, 223 Multi-reference\\n',\n",
       "  'Reads Mapped 1 Time: 8827\\n',\n",
       "  'Reads Mapped >1 Times: 11971\\n',\n",
       "  '------------------------------\\n',\n",
       "  'Reads Mapped Discordantly 1 Time: 106\\n',\n",
       "  'Reads Mapped Discordantly >1 Times: 1039\\n',\n",
       "  'Reads with Mixed Mapping 1 Time: 47\\n',\n",
       "  'Reads with Mixed Mapping >1 Times: 93\\n',\n",
       "  '------------------------------\\n',\n",
       "  'Mappability: 98.938 %\\n',\n",
       "  '------------------------------\\n',\n",
       "  'Reads Mapped to Watson_C2T: 11130\\n',\n",
       "  'Reads Mapped to Crick_C2T: 10952\\n',\n",
       "  'Reads Mapped to Watson_G2A: 0\\n',\n",
       "  'Reads Mapped to Crick_G2A: 1\\n'],\n",
       " '1_pMSGV1_MART1TCR': ['Aligning /home/colin/Documents/RebisMethylation/VectorInsertionValidation/SimulationData/IntegrationSim/1_pMSGV1_MART1TCR_meth_1.fastq /home/colin/Documents/RebisMethylation/VectorInsertionValidation/SimulationData/IntegrationSim/1_pMSGV1_MART1TCR_meth_2.fastq\\n',\n",
       "  'Alignment Complete: Time 0:00:13\\n',\n",
       "  '------------------------------\\n',\n",
       "  'Total Reads: 23560\\n',\n",
       "  'Reads Mapped 0 Times: 67, 61 Multi-reference\\n',\n",
       "  'Reads Mapped 1 Time: 9408\\n',\n",
       "  'Reads Mapped >1 Times: 12702\\n',\n",
       "  '------------------------------\\n',\n",
       "  'Reads Mapped Discordantly 1 Time: 114\\n',\n",
       "  'Reads Mapped Discordantly >1 Times: 1119\\n',\n",
       "  'Reads with Mixed Mapping 1 Time: 58\\n',\n",
       "  'Reads with Mixed Mapping >1 Times: 92\\n',\n",
       "  '------------------------------\\n',\n",
       "  'Mappability: 99.716 %\\n',\n",
       "  '------------------------------\\n',\n",
       "  'Reads Mapped to Watson_C2T: 11669\\n',\n",
       "  'Reads Mapped to Crick_C2T: 11823\\n',\n",
       "  'Reads Mapped to Watson_G2A: 1\\n',\n",
       "  'Reads Mapped to Crick_G2A: 0\\n'],\n",
       " '2_pMSGV1_1G4_A_LY_RetroNYESO1': ['Aligning /home/colin/Documents/RebisMethylation/VectorInsertionValidation/SimulationData/IntegrationSim/2_pMSGV1_1G4_A_LY_RetroNYESO1_meth_1.fastq /home/colin/Documents/RebisMethylation/VectorInsertionValidation/SimulationData/IntegrationSim/2_pMSGV1_1G4_A_LY_RetroNYESO1_meth_2.fastq\\n',\n",
       "  'Alignment Complete: Time 0:00:15\\n',\n",
       "  '------------------------------\\n',\n",
       "  'Total Reads: 28520\\n',\n",
       "  'Reads Mapped 0 Times: 26, 19 Multi-reference\\n',\n",
       "  'Reads Mapped 1 Time: 9191\\n',\n",
       "  'Reads Mapped >1 Times: 17699\\n',\n",
       "  '------------------------------\\n',\n",
       "  'Reads Mapped Discordantly 1 Time: 61\\n',\n",
       "  'Reads Mapped Discordantly >1 Times: 1452\\n',\n",
       "  'Reads with Mixed Mapping 1 Time: 21\\n',\n",
       "  'Reads with Mixed Mapping >1 Times: 70\\n',\n",
       "  '------------------------------\\n',\n",
       "  'Mappability: 99.909 %\\n',\n",
       "  '------------------------------\\n',\n",
       "  'Reads Mapped to Watson_C2T: 14308\\n',\n",
       "  'Reads Mapped to Crick_C2T: 14186\\n',\n",
       "  'Reads Mapped to Watson_G2A: 0\\n',\n",
       "  'Reads Mapped to Crick_G2A: 0\\n'],\n",
       " '3_pMSGV1_1G4_A_LY_RetroNYESO1': ['Aligning /home/colin/Documents/RebisMethylation/VectorInsertionValidation/SimulationData/IntegrationSim/3_pMSGV1_1G4_A_LY_RetroNYESO1_meth_1.fastq /home/colin/Documents/RebisMethylation/VectorInsertionValidation/SimulationData/IntegrationSim/3_pMSGV1_1G4_A_LY_RetroNYESO1_meth_2.fastq\\n',\n",
       "  'Alignment Complete: Time 0:00:13\\n',\n",
       "  '------------------------------\\n',\n",
       "  'Total Reads: 23560\\n',\n",
       "  'Reads Mapped 0 Times: 96, 92 Multi-reference\\n',\n",
       "  'Reads Mapped 1 Time: 7516\\n',\n",
       "  'Reads Mapped >1 Times: 14597\\n',\n",
       "  '------------------------------\\n',\n",
       "  'Reads Mapped Discordantly 1 Time: 37\\n',\n",
       "  'Reads Mapped Discordantly >1 Times: 1209\\n',\n",
       "  'Reads with Mixed Mapping 1 Time: 21\\n',\n",
       "  'Reads with Mixed Mapping >1 Times: 84\\n',\n",
       "  '------------------------------\\n',\n",
       "  'Mappability: 99.593 %\\n',\n",
       "  '------------------------------\\n',\n",
       "  'Reads Mapped to Watson_C2T: 11743\\n',\n",
       "  'Reads Mapped to Crick_C2T: 11721\\n',\n",
       "  'Reads Mapped to Watson_G2A: 0\\n',\n",
       "  'Reads Mapped to Crick_G2A: 0\\n']}"
      ]
     },
     "execution_count": 22,
     "metadata": {},
     "output_type": "execute_result"
    }
   ],
   "source": [
    "sim_alignment_stats"
   ]
  },
  {
   "cell_type": "markdown",
   "metadata": {},
   "source": [
    "### Get Dicordant and Split Vector Reads"
   ]
  },
  {
   "cell_type": "code",
   "execution_count": 49,
   "metadata": {},
   "outputs": [],
   "source": [
    "def stream_mapped_reads(file_path, included_flag=None, excluded_flag=None):\n",
    "    \"\"\" process reads streamed using samtools view, samtools must be on\n",
    "        path for this to work \"\"\"\n",
    "    stream_command = ['samtools', 'view']\n",
    "    if included_flag:\n",
    "        stream_command.extend(['-F', str(included_flag)])\n",
    "    if excluded_flag:\n",
    "        stream_command.extend(['-f', str(excluded_flag)])\n",
    "    stream_command.append(file_path)\n",
    "    read_stream = subprocess.Popen(stream_command, stdout=subprocess.PIPE, universal_newlines=True)\n",
    "    for line in iter(read_stream.stdout.readline, ''):\n",
    "        QNAME, FLAG, RNAME, POS, MAPQ, CIGAR, RNEXT, PNEXT, TLEN, SEQ, QUAL, *SAM_TAGS = line.strip().split('\\t')\n",
    "        alignment_score = None\n",
    "        mapping_reference = None\n",
    "        for tag in SAM_TAGS:\n",
    "            if tag[0:3] == 'AS:':\n",
    "                alignment_score = tag.split(':')[-1]\n",
    "            elif tag[0:4] == 'XO:Z':\n",
    "                mapping_reference = tag.split(':')[-1]\n",
    "        yield QNAME, FLAG, RNAME, RNEXT, int(POS), CIGAR, int(alignment_score), mapping_reference\n",
    "\n",
    "\n",
    "def get_spanning_reads(file_path: str = None, plasmid_names: set = None) -> dict:\n",
    "    mapped_reads = {}\n",
    "    for sam_read in stream_mapped_reads(file_path, included_flag=4):\n",
    "        QNAME, FLAG, RNAME, RNEXT, POS, CIGAR, alignment_score, mapping_reference = sam_read\n",
    "        plasmid_read = RNAME in plasmid_names\n",
    "        if QNAME not in mapped_reads:\n",
    "            mapped_reads[QNAME] = [[sam_read], plasmid_read]\n",
    "        else:\n",
    "            if plasmid_read:\n",
    "                mapped_reads[QNAME][0].append(sam_read)\n",
    "                mapped_reads[QNAME][1] = plasmid_read\n",
    "            else:\n",
    "                mapped_reads[QNAME][0].append(sam_read)\n",
    "    plasmid_reads = {}\n",
    "    for qname, read_group in mapped_reads.items():\n",
    "        if read_group[1]:\n",
    "            for read in read_group[0]:\n",
    "                if read[0][0:3] == 'chr':\n",
    "                    plasmid_reads[qname] = read_group[0]\n",
    "                    break\n",
    "    return plasmid_reads\n"
   ]
  },
  {
   "cell_type": "code",
   "execution_count": 62,
   "metadata": {},
   "outputs": [
    {
     "data": {
      "application/vnd.jupyter.widget-view+json": {
       "model_id": "e8498bf3870c46869d8a6b1040e22317",
       "version_major": 2,
       "version_minor": 0
      },
      "text/plain": [
       "HBox(children=(IntProgress(value=0, max=4), HTML(value='')))"
      ]
     },
     "metadata": {},
     "output_type": "display_data"
    },
    {
     "name": "stdout",
     "output_type": "stream",
     "text": [
      "\n"
     ]
    }
   ],
   "source": [
    "sample_spanning_reads = {}\n",
    "sample_read_stats = {}\n",
    "\n",
    "for sim_label in tqdm(simulation_integration_parameters):\n",
    "    plasmid_reads = get_spanning_reads(f'{simulation_output}{sim_label}.sorted.bam', {'pMSGV1_MART1TCR', 'pMSGV1_1G4_A_LY_RetroNYESO1'})\n",
    "    int_read_count = 0\n",
    "    non_int_read_count = 0\n",
    "    for read in plasmid_reads:\n",
    "        if read in integration_reads[sim_label]:\n",
    "            int_read_count += 1\n",
    "        else:\n",
    "            non_int_read_count += 1\n",
    "    sample_spanning_reads[sim_label] = plasmid_reads\n",
    "    observed_read_stats = dict(integration_reads=int_read_count, non_integration_reads=non_int_read_count, \n",
    "                               total_simulated_integration_reads=len(integration_reads[sim_label]), total_spanning_reads=len(plasmid_reads))\n",
    "    sample_read_stats[sim_label] = observed_read_stats"
   ]
  },
  {
   "cell_type": "code",
   "execution_count": 63,
   "metadata": {},
   "outputs": [
    {
     "data": {
      "text/plain": [
       "{'0_pMSGV1_MART1TCR': {'integration_reads': 1399,\n",
       "  'non_integration_reads': 17385,\n",
       "  'total_simulated_integration_reads': 2014,\n",
       "  'total_spanning_reads': 18784},\n",
       " '1_pMSGV1_MART1TCR': {'integration_reads': 1511,\n",
       "  'non_integration_reads': 18319,\n",
       "  'total_simulated_integration_reads': 2083,\n",
       "  'total_spanning_reads': 19830},\n",
       " '2_pMSGV1_1G4_A_LY_RetroNYESO1': {'integration_reads': 1778,\n",
       "  'non_integration_reads': 22157,\n",
       "  'total_simulated_integration_reads': 2491,\n",
       "  'total_spanning_reads': 23935},\n",
       " '3_pMSGV1_1G4_A_LY_RetroNYESO1': {'integration_reads': 1458,\n",
       "  'non_integration_reads': 18401,\n",
       "  'total_simulated_integration_reads': 2080,\n",
       "  'total_spanning_reads': 19859}}"
      ]
     },
     "execution_count": 63,
     "metadata": {},
     "output_type": "execute_result"
    }
   ],
   "source": [
    "sample_read_stats"
   ]
  },
  {
   "cell_type": "code",
   "execution_count": 64,
   "metadata": {},
   "outputs": [
    {
     "data": {
      "application/vnd.jupyter.widget-view+json": {
       "model_id": "2ba7e4178453469287bd9a29d0110eca",
       "version_major": 2,
       "version_minor": 0
      },
      "text/plain": [
       "HBox(children=(IntProgress(value=0, max=4), HTML(value='')))"
      ]
     },
     "metadata": {},
     "output_type": "display_data"
    },
    {
     "name": "stdout",
     "output_type": "stream",
     "text": [
      "\n"
     ]
    }
   ],
   "source": [
    "# clean reads mapping to different vector\n",
    "\n",
    "for sim_label in tqdm(simulation_integration_parameters):\n",
    "    vector = '_'.join(sim_label.split('_')[1:])\n",
    "    plasmid_reads = sample_spanning_reads[sim_label]\n",
    "    cleaned_plasmid_reads = {}\n",
    "    for read_name, read_group in plasmid_reads.items():\n",
    "        cleaned_group = []\n",
    "        vector_mapping = False\n",
    "        for read in read_group:\n",
    "            if read[2][0:3] == 'chr':\n",
    "                cleaned_group.append(read)\n",
    "            elif read[2] == vector:\n",
    "                vector_mapping = True\n",
    "                cleaned_group.append(read)\n",
    "        if vector_mapping:\n",
    "            cleaned_plasmid_reads[read_name] = cleaned_group\n",
    "    sample_spanning_reads[sim_label] = cleaned_plasmid_reads"
   ]
  },
  {
   "cell_type": "code",
   "execution_count": 65,
   "metadata": {},
   "outputs": [],
   "source": [
    "from typing import Dict, List, Tuple"
   ]
  },
  {
   "cell_type": "code",
   "execution_count": 103,
   "metadata": {},
   "outputs": [],
   "source": [
    "from collections import namedtuple\n",
    "\n",
    "class ProcessVectorSpanningReads:\n",
    "    \"\"\"Indentify high quality reads or read pairs that span a vector of interest and the genome.\"\"\"\n",
    "\n",
    "    def __init__(self, read_uniqueness_threshold: float = 1.1, read_mapping_threshold: float = 0.9,\n",
    "                 multibase_threshold: float = 0.1):\n",
    "        self.first_read = {'65', '67', '73', '81', '89', '97', '113', '115', '321', '323', '345', '329', '369', '371'}\n",
    "        self.fr_reference = {'W_C2T', 'C_G2A'}\n",
    "        self.proper_pair = {'131', '435', '371', '179', '67', '115', '323', '387'}\n",
    "        self.formatted_read = namedtuple('f_read', ['qname', 'flag', 'rname', 'rnext', 'mapping_ref', 'left_ref', 'right_ref', \n",
    "                                                    'left_query', 'right_query', 'alignment_score', 'matched_base_pos'])\n",
    "        self.read_uniqueness_threshold = read_uniqueness_threshold\n",
    "        self.read_mapping_threshold = read_mapping_threshold\n",
    "        self.multibase_threshold = multibase_threshold\n",
    "\n",
    "    def get_integration_sites(self, read_group: list = None, vector: str = None):\n",
    "        first_reads, second_reads = self.get_paired_reads(read_group)\n",
    "        group_1 = self.process_read_mapping(first_reads)\n",
    "        group_2 = self.process_read_mapping(second_reads)\n",
    "        g1_vector, g1_genome, g1_split = self.assess_alignment_contigs(group_1, vector)\n",
    "        g2_vector, g2_genome, g2_split  = self.assess_alignment_contigs(group_2, vector)\n",
    "        # discard read groups with conflicting integration site information\n",
    "        if g1_split and g2_split:\n",
    "            return None\n",
    "        # discard read group with only chromosome or vector mapping information\n",
    "        if not any((g1_vector, g2_vector)) or not any((g1_genome, g2_genome)):\n",
    "            return None\n",
    "        # discordant reads \n",
    "        if not g1_split and not g2_split:\n",
    "            # read information -> QNAME, CHROM, mapping_ref, l_reference_pos, r_reference_pos, l_query_pos, r_query_pos, Alignment_Score, list[matched_base_position: int]\n",
    "            return self.process_discordant_int(group_1, group_2, g1_genome, vector)\n",
    "        return self.process_split_int(group_1, group_2, g1_split, g1_genome, g2_genome, vector)\n",
    "        \n",
    "    def process_split_int(group_1: list, group_2: list, g1_split: bool, g1_genome: bool, g2_genome: bool, vector: str):\n",
    "        split_group = group_1 if g1_split else group_2\n",
    "        supporting_group = group1 if not g1_split else group_2\n",
    "        supporting_genome = g1_genome if not g1_split else g2_genome\n",
    "        genome_split, vector_split = None, None\n",
    "        for read in split_group:\n",
    "            if read.rname == vector:\n",
    "                vector_split = read\n",
    "            else:\n",
    "                genome_split = read\n",
    "        ref_pos = genome_split.left_ref if genome_split.left_query > vector_split.left_query else genome_split.right_ref\n",
    "        if not supporting_group:\n",
    "            return 'split_single', genome_split.qname, genome_split.rname, ref_pos, genome_split.alignmet_score, vector_split.alignment_score\n",
    "        else:\n",
    "            if supporting_genome:\n",
    "                if supporting_group[0][1] != genome_split[0][1]:\n",
    "                    return None\n",
    "                return 'split_paired', genome_split.qname, genome_split.rname, ref_pos, genome_split.alignmet_score + supporting_genome.alignment_score, vector_split.alignment_score\n",
    "            else:\n",
    "                return 'split_paired', genome_split.qname, genome_split.rname, ref_pos, genome_split.alignmet_score, vector_split.alignment_score + supporting_genome.alignment_score\n",
    "\n",
    "        \n",
    "    def process_discordant_int(self, group_1, group_2, g1_genome, vector):\n",
    "        read_1 = group_1[0]\n",
    "        read_2 = group_2[0]\n",
    "        if g1_genome:\n",
    "            if read_1.rnext != vector:\n",
    "                return None\n",
    "            ref_pos = read_1.right_ref if read_1.flag in self.fr_reference else read_1.left_ref\n",
    "            return 'discord_1', read_1.qname, read_1.rname, ref_pos, read_1.alignment_score, read_2.alignment_score\n",
    "        else:\n",
    "            if read_2.rnext != vector:\n",
    "                return None\n",
    "            ref_pos = read_2.left_ref if read_2.flag in self.fr_reference else read_2.right_ref\n",
    "            return 'discord_2', read_2.qname, read_2.rname, ref_pos, read_2.alignment_score, read_1.alignment_score\n",
    "        \n",
    "\n",
    "    def process_read_groups(self, group_1, group_2):\n",
    "        if group_1[6] and group_2[6]:\n",
    "            return None\n",
    "        pass\n",
    "\n",
    "    def assess_alignment_contigs(self, read_group: list, vector: str) -> (bool, bool):\n",
    "        vector_mapping, genome_mapping = False, False\n",
    "        genome_contigs = []\n",
    "        for read in read_group:\n",
    "            if read.rname == vector:\n",
    "                vector_mapping = True\n",
    "            else:\n",
    "                genome_contigs.append(read.rname)\n",
    "                genome_mapping = True\n",
    "        if len(genome_contigs) > 1:\n",
    "            genome_mapping = False\n",
    "            vector_mapping = False\n",
    "        return vector_mapping, genome_mapping, all((vector_mapping, genome_mapping))\n",
    "\n",
    "    def get_paired_reads(self, read_group):\n",
    "        first_reads, second_reads = [], []\n",
    "        for read in read_group:\n",
    "            if read[1] in self.first_read:\n",
    "                first_reads.append(read)\n",
    "            else:\n",
    "                second_reads.append(read)\n",
    "        return first_reads, second_reads\n",
    "\n",
    "    def process_read_mapping(self, read_paired):\n",
    "        processed_reads = []\n",
    "        for read in read_paired:\n",
    "            qname, flag, rname, rnext, pos, cigar, alignment_score, mapping_ref = read\n",
    "            cigar_tuple = convert_alpha_numeric_cigar(cigar)\n",
    "            # read information -> l_query_pos, r_query_pos, l_reference_pos, r_reference_pos, list[matched_base_position: int]\n",
    "            l_pos, r_pos, reference_pos, matched_base_pos = self.get_mapped_bases(cigar_tuple, pos)\n",
    "            # read information -> QNAME, flag, CHROM, mapping_ref, l_ref_pos, r_ref_pos, l_query_pos, r_query_pos, Alignment_Score, list[matched_base_position: int]\n",
    "            formatted_read = self.formatted_read(qname, flag, rname, rnext, mapping_ref, pos, reference_pos, l_pos, r_pos, alignment_score, matched_base_pos)\n",
    "            processed_reads.append(formatted_read)\n",
    "        processed_reads.sort(key = lambda x: x.alignment_score, reverse=True)\n",
    "        if not processed_reads:\n",
    "            return processed_reads\n",
    "        if len(processed_reads) < 2:\n",
    "            return processed_reads\n",
    "        else:\n",
    "            primary_reads = [processed_reads[0]]\n",
    "            for read in processed_reads[1:]:\n",
    "                for p_read in primary_reads:\n",
    "                    if self.get_duplication_proportion(read.matched_base_pos, p_read.matched_base_pos) > self.multibase_threshold:\n",
    "                        duplicate_read = True\n",
    "                        break\n",
    "                if not duplicate_read:\n",
    "                    primary_reads.append(read)\n",
    "        return primary_reads\n",
    "    \n",
    "    @staticmethod\n",
    "    def get_duplication_proportion(read_bases, comparison_bases):\n",
    "        return len([base for base in read_bases if base in comparison_bases]) / len(read_bases)\n",
    "\n",
    "    def get_mapped_bases(self, cigar_tuple: tuple, reference_position: int) -> (int, int, list):\n",
    "        matched_base_positions = []\n",
    "        reference_consumers = {0, 2, 3, 7, 8}\n",
    "        query_consumers = {0, 1, 4, 7, 8}\n",
    "        # set relative to genomic position so add reference start and one since capturing the first base\n",
    "        query_position = 0\n",
    "        left_mapped_pos, right_mapped_pos = None, None\n",
    "        for cigar_type, cigar_count in cigar_tuple:\n",
    "            if cigar_type in reference_consumers and cigar_type in query_consumers:\n",
    "                for _ in range(cigar_count):\n",
    "                    if not left_mapped_pos:\n",
    "                        left_mapped_pos = query_position\n",
    "                    right_mapped_pos = query_position\n",
    "                    matched_base_positions.append(query_position)\n",
    "                    query_position += 1\n",
    "                    reference_position += 1\n",
    "            elif cigar_type in query_consumers and cigar_type not in reference_consumers:\n",
    "                query_position += cigar_count\n",
    "            elif not cigar_type in query_consumers and cigar_type in reference_consumers:\n",
    "                reference_position += 1\n",
    "        return left_mapped_pos, right_mapped_pos, reference_position, matched_base_positions\n"
   ]
  },
  {
   "cell_type": "code",
   "execution_count": 104,
   "metadata": {},
   "outputs": [],
   "source": [
    "test_processor = ProcessVectorSpanningReads(read_uniqueness_threshold=1.2, read_mapping_threshold=0.7,\n",
    "                                            multibase_threshold=0.2)"
   ]
  },
  {
   "cell_type": "code",
   "execution_count": 105,
   "metadata": {},
   "outputs": [],
   "source": [
    "test_group = [('chr7_53319185-1230', '433', 'chr14', 22052763, '7S4M1I138M', 276, 'C_C2T'), ('chr7_53319185-1230', '369', 'chr14', 22547509, '150M', 300, 'C_C2T'), ('chr7_53319185-1230', '177', 'pMSGV1_1G4_A_LY_RetroNYESO1', 37, '150M', 300, 'C_C2T'), ('chr7_53319185-1230', '113', 'pMSGV1_1G4_A_LY_RetroNYESO1', 406, '150M', 300, 'C_C2T')]"
   ]
  },
  {
   "cell_type": "code",
   "execution_count": 106,
   "metadata": {},
   "outputs": [
    {
     "ename": "ValueError",
     "evalue": "not enough values to unpack (expected 8, got 7)",
     "output_type": "error",
     "traceback": [
      "\u001b[0;31m---------------------------------------------------------------------------\u001b[0m",
      "\u001b[0;31mValueError\u001b[0m                                Traceback (most recent call last)",
      "\u001b[0;32m<ipython-input-106-5037de659262>\u001b[0m in \u001b[0;36m<module>\u001b[0;34m\u001b[0m\n\u001b[0;32m----> 1\u001b[0;31m \u001b[0mtest_processor\u001b[0m\u001b[0;34m.\u001b[0m\u001b[0mget_integration_sites\u001b[0m\u001b[0;34m(\u001b[0m\u001b[0mtest_group\u001b[0m\u001b[0;34m,\u001b[0m \u001b[0mvector\u001b[0m\u001b[0;34m=\u001b[0m\u001b[0;34m'pMSGV1_1G4_A_LY_RetroNYESO1'\u001b[0m\u001b[0;34m)\u001b[0m\u001b[0;34m\u001b[0m\u001b[0;34m\u001b[0m\u001b[0m\n\u001b[0m",
      "\u001b[0;32m<ipython-input-103-7bad255f5c15>\u001b[0m in \u001b[0;36mget_integration_sites\u001b[0;34m(self, read_group, vector)\u001b[0m\n\u001b[1;32m     17\u001b[0m     \u001b[0;32mdef\u001b[0m \u001b[0mget_integration_sites\u001b[0m\u001b[0;34m(\u001b[0m\u001b[0mself\u001b[0m\u001b[0;34m,\u001b[0m \u001b[0mread_group\u001b[0m\u001b[0;34m:\u001b[0m \u001b[0mlist\u001b[0m \u001b[0;34m=\u001b[0m \u001b[0;32mNone\u001b[0m\u001b[0;34m,\u001b[0m \u001b[0mvector\u001b[0m\u001b[0;34m:\u001b[0m \u001b[0mstr\u001b[0m \u001b[0;34m=\u001b[0m \u001b[0;32mNone\u001b[0m\u001b[0;34m)\u001b[0m\u001b[0;34m:\u001b[0m\u001b[0;34m\u001b[0m\u001b[0;34m\u001b[0m\u001b[0m\n\u001b[1;32m     18\u001b[0m         \u001b[0mfirst_reads\u001b[0m\u001b[0;34m,\u001b[0m \u001b[0msecond_reads\u001b[0m \u001b[0;34m=\u001b[0m \u001b[0mself\u001b[0m\u001b[0;34m.\u001b[0m\u001b[0mget_paired_reads\u001b[0m\u001b[0;34m(\u001b[0m\u001b[0mread_group\u001b[0m\u001b[0;34m)\u001b[0m\u001b[0;34m\u001b[0m\u001b[0;34m\u001b[0m\u001b[0m\n\u001b[0;32m---> 19\u001b[0;31m         \u001b[0mgroup_1\u001b[0m \u001b[0;34m=\u001b[0m \u001b[0mself\u001b[0m\u001b[0;34m.\u001b[0m\u001b[0mprocess_read_mapping\u001b[0m\u001b[0;34m(\u001b[0m\u001b[0mfirst_reads\u001b[0m\u001b[0;34m)\u001b[0m\u001b[0;34m\u001b[0m\u001b[0;34m\u001b[0m\u001b[0m\n\u001b[0m\u001b[1;32m     20\u001b[0m         \u001b[0mgroup_2\u001b[0m \u001b[0;34m=\u001b[0m \u001b[0mself\u001b[0m\u001b[0;34m.\u001b[0m\u001b[0mprocess_read_mapping\u001b[0m\u001b[0;34m(\u001b[0m\u001b[0msecond_reads\u001b[0m\u001b[0;34m)\u001b[0m\u001b[0;34m\u001b[0m\u001b[0;34m\u001b[0m\u001b[0m\n\u001b[1;32m     21\u001b[0m         \u001b[0mg1_vector\u001b[0m\u001b[0;34m,\u001b[0m \u001b[0mg1_genome\u001b[0m\u001b[0;34m,\u001b[0m \u001b[0mg1_split\u001b[0m \u001b[0;34m=\u001b[0m \u001b[0mself\u001b[0m\u001b[0;34m.\u001b[0m\u001b[0massess_alignment_contigs\u001b[0m\u001b[0;34m(\u001b[0m\u001b[0mgroup_1\u001b[0m\u001b[0;34m,\u001b[0m \u001b[0mvector\u001b[0m\u001b[0;34m)\u001b[0m\u001b[0;34m\u001b[0m\u001b[0;34m\u001b[0m\u001b[0m\n",
      "\u001b[0;32m<ipython-input-103-7bad255f5c15>\u001b[0m in \u001b[0;36mprocess_read_mapping\u001b[0;34m(self, read_paired)\u001b[0m\n\u001b[1;32m    101\u001b[0m         \u001b[0mprocessed_reads\u001b[0m \u001b[0;34m=\u001b[0m \u001b[0;34m[\u001b[0m\u001b[0;34m]\u001b[0m\u001b[0;34m\u001b[0m\u001b[0;34m\u001b[0m\u001b[0m\n\u001b[1;32m    102\u001b[0m         \u001b[0;32mfor\u001b[0m \u001b[0mread\u001b[0m \u001b[0;32min\u001b[0m \u001b[0mread_paired\u001b[0m\u001b[0;34m:\u001b[0m\u001b[0;34m\u001b[0m\u001b[0;34m\u001b[0m\u001b[0m\n\u001b[0;32m--> 103\u001b[0;31m             \u001b[0mqname\u001b[0m\u001b[0;34m,\u001b[0m \u001b[0mflag\u001b[0m\u001b[0;34m,\u001b[0m \u001b[0mrname\u001b[0m\u001b[0;34m,\u001b[0m \u001b[0mrnext\u001b[0m\u001b[0;34m,\u001b[0m \u001b[0mpos\u001b[0m\u001b[0;34m,\u001b[0m \u001b[0mcigar\u001b[0m\u001b[0;34m,\u001b[0m \u001b[0malignment_score\u001b[0m\u001b[0;34m,\u001b[0m \u001b[0mmapping_ref\u001b[0m \u001b[0;34m=\u001b[0m \u001b[0mread\u001b[0m\u001b[0;34m\u001b[0m\u001b[0;34m\u001b[0m\u001b[0m\n\u001b[0m\u001b[1;32m    104\u001b[0m             \u001b[0mcigar_tuple\u001b[0m \u001b[0;34m=\u001b[0m \u001b[0mconvert_alpha_numeric_cigar\u001b[0m\u001b[0;34m(\u001b[0m\u001b[0mcigar\u001b[0m\u001b[0;34m)\u001b[0m\u001b[0;34m\u001b[0m\u001b[0;34m\u001b[0m\u001b[0m\n\u001b[1;32m    105\u001b[0m             \u001b[0;31m# read information -> l_query_pos, r_query_pos, l_reference_pos, r_reference_pos, list[matched_base_position: int]\u001b[0m\u001b[0;34m\u001b[0m\u001b[0;34m\u001b[0m\u001b[0;34m\u001b[0m\u001b[0m\n",
      "\u001b[0;31mValueError\u001b[0m: not enough values to unpack (expected 8, got 7)"
     ]
    }
   ],
   "source": [
    "test_processor.get_integration_sites(test_group, vector='pMSGV1_1G4_A_LY_RetroNYESO1')"
   ]
  },
  {
   "cell_type": "code",
   "execution_count": 107,
   "metadata": {},
   "outputs": [
    {
     "name": "stdout",
     "output_type": "stream",
     "text": [
      "{'323', '131', '115', '67', '387', '435', '371', '179'}\n"
     ]
    }
   ],
   "source": [
    "x = {67: 131, 323: 387, 115: 179, 371: 435,\n",
    "                      131: 67, 387: 323, 179: 115, 435: 371}\n",
    "print({str(y) for y in x.keys()})"
   ]
  },
  {
   "cell_type": "code",
   "execution_count": 108,
   "metadata": {},
   "outputs": [
    {
     "data": {
      "application/vnd.jupyter.widget-view+json": {
       "model_id": "3cdfa124f8d04e2b8114209bc972a31b",
       "version_major": 2,
       "version_minor": 0
      },
      "text/plain": [
       "HBox(children=(IntProgress(value=0, max=4), HTML(value='')))"
      ]
     },
     "metadata": {},
     "output_type": "display_data"
    },
    {
     "name": "stdout",
     "output_type": "stream",
     "text": [
      "[('chr7_53319185-1230', '433', 'chr14', 'pMSGV1_1G4_A_LY_RetroNYESO1', 22052763, '7S4M1I138M', 276, 'C_C2T'), ('chr7_53319185-1230', '369', 'chr14', 'pMSGV1_1G4_A_LY_RetroNYESO1', 22547509, '150M', 300, 'C_C2T'), ('chr7_53319185-1230', '177', 'pMSGV1_1G4_A_LY_RetroNYESO1', '=', 37, '150M', 300, 'C_C2T'), ('chr7_53319185-1230', '113', 'pMSGV1_1G4_A_LY_RetroNYESO1', '=', 406, '150M', 300, 'C_C2T')]\n",
      "2_pMSGV1_1G4_A_LY_RetroNYESO1 ('discord_1', 'chr7_53319185-1230', 'chr14', 22547509, 300, 300)\n",
      "[('chr3_193898680-1976', '321', 'chr14', 'pMSGV1_1G4_A_LY_RetroNYESO1', 22052767, '9S141M', 278, 'W_C2T'), ('chr3_193898680-1976', '385', 'chr14', 'pMSGV1_1G4_A_LY_RetroNYESO1', 22547526, '150M', 300, 'W_C2T'), ('chr3_193898680-1976', '65', 'pMSGV1_1G4_A_LY_RetroNYESO1', '=', 40, '150M', 296, 'W_C2T'), ('chr3_193898680-1976', '129', 'pMSGV1_1G4_A_LY_RetroNYESO1', '=', 423, '150M', 300, 'W_C2T')]\n",
      "2_pMSGV1_1G4_A_LY_RetroNYESO1 ('discord_2', 'chr3_193898680-1976', 'chr14', 22547676, 300, 296)\n",
      "[('chr20_3797773-1538', '433', 'chr14', 'pMSGV1_1G4_A_LY_RetroNYESO1', 22052891, '150M', 296, 'C_C2T'), ('chr20_3797773-1538', '369', 'chr14', 'pMSGV1_1G4_A_LY_RetroNYESO1', 22547682, '98M52S', 196, 'C_C2T'), ('chr20_3797773-1538', '177', 'pMSGV1_1G4_A_LY_RetroNYESO1', '=', 173, '150M', 296, 'C_C2T'), ('chr20_3797773-1538', '113', 'pMSGV1_1G4_A_LY_RetroNYESO1', '=', 579, '150M', 300, 'C_C2T')]\n",
      "2_pMSGV1_1G4_A_LY_RetroNYESO1 ('discord_2', 'chr20_3797773-1538', 'chr14', 22053041, 296, 300)\n",
      "[('chr20_3090740-1256', '321', 'chr14', 'pMSGV1_1G4_A_LY_RetroNYESO1', 22052904, '150M', 300, 'W_C2T'), ('chr20_3090740-1256', '385', 'chr14', 'pMSGV1_1G4_A_LY_RetroNYESO1', 22547643, '136M14S', 272, 'W_C2T'), ('chr20_3090740-1256', '65', 'pMSGV1_1G4_A_LY_RetroNYESO1', '=', 186, '150M', 300, 'W_C2T'), ('chr20_3090740-1256', '129', 'pMSGV1_1G4_A_LY_RetroNYESO1', '=', 540, '150M', 300, 'W_C2T')]\n",
      "2_pMSGV1_1G4_A_LY_RetroNYESO1 ('discord_1', 'chr20_3090740-1256', 'chr14', 22052904, 300, 300)\n",
      "[('chr17_63817703-1462', '321', 'chr14', 'pMSGV1_1G4_A_LY_RetroNYESO1', 22547516, '150M', 300, 'W_C2T'), ('chr17_63817703-1462', '65', 'pMSGV1_1G4_A_LY_RetroNYESO1', '=', 413, '150M', 300, 'W_C2T'), ('chr17_63817703-1462', '129', 'pMSGV1_1G4_A_LY_RetroNYESO1', '=', 805, '150M', 300, 'W_C2T')]\n",
      "2_pMSGV1_1G4_A_LY_RetroNYESO1 ('discord_1', 'chr17_63817703-1462', 'chr14', 22547516, 300, 300)\n",
      "[('chr7_53319185-1266', '177', 'chr14', 'pMSGV1_1G4_A_LY_RetroNYESO1', 22547529, '150M', 300, 'C_C2T'), ('chr7_53319185-1266', '369', 'chr14', '=', 22550617, '48M102S', 89, 'C_C2T'), ('chr7_53319185-1266', '433', 'pMSGV1_1G4_A_LY_RetroNYESO1', '=', 426, '150M', 300, 'C_C2T'), ('chr7_53319185-1266', '113', 'pMSGV1_1G4_A_LY_RetroNYESO1', 'chr14', 781, '150M', 300, 'C_C2T')]\n",
      "2_pMSGV1_1G4_A_LY_RetroNYESO1 ('discord_2', 'chr7_53319185-1266', 'chr14', 22547679, 300, 300)\n",
      "[('chr9_107303052-1092', '321', 'chr14', 'pMSGV1_1G4_A_LY_RetroNYESO1', 22547562, '150M', 300, 'W_C2T'), ('chr9_107303052-1092', '65', 'pMSGV1_1G4_A_LY_RetroNYESO1', '=', 459, '150M', 300, 'W_C2T'), ('chr9_107303052-1092', '129', 'pMSGV1_1G4_A_LY_RetroNYESO1', '=', 826, '150M', 300, 'W_C2T')]\n",
      "2_pMSGV1_1G4_A_LY_RetroNYESO1 ('discord_1', 'chr9_107303052-1092', 'chr14', 22547562, 300, 300)\n",
      "[('chr6_65627326-1536', '321', 'chr14', 'pMSGV1_1G4_A_LY_RetroNYESO1', 22547574, '150M', 300, 'W_C2T'), ('chr6_65627326-1536', '65', 'pMSGV1_1G4_A_LY_RetroNYESO1', '=', 471, '150M', 300, 'W_C2T'), ('chr6_65627326-1536', '129', 'pMSGV1_1G4_A_LY_RetroNYESO1', '=', 839, '150M', 300, 'W_C2T')]\n",
      "2_pMSGV1_1G4_A_LY_RetroNYESO1 ('discord_1', 'chr6_65627326-1536', 'chr14', 22547574, 300, 300)\n",
      "[('chr3_193898680-1786', '65', 'chr14', 'pMSGV1_1G4_A_LY_RetroNYESO1', 22547578, '150M', 296, 'W_C2T'), ('chr3_193898680-1786', '321', 'pMSGV1_1G4_A_LY_RetroNYESO1', '=', 475, '150M', 296, 'W_C2T'), ('chr3_193898680-1786', '129', 'pMSGV1_1G4_A_LY_RetroNYESO1', 'chr14', 834, '150M', 300, 'W_C2T')]\n",
      "2_pMSGV1_1G4_A_LY_RetroNYESO1 ('discord_1', 'chr3_193898680-1786', 'chr14', 22547578, 296, 300)\n",
      "[('chr17_72528390-1174', '321', 'chr14', 'pMSGV1_1G4_A_LY_RetroNYESO1', 22547585, '150M', 300, 'W_C2T'), ('chr17_72528390-1174', '65', 'pMSGV1_1G4_A_LY_RetroNYESO1', '=', 482, '150M', 300, 'W_C2T'), ('chr17_72528390-1174', '129', 'pMSGV1_1G4_A_LY_RetroNYESO1', '=', 837, '150M', 300, 'W_C2T')]\n",
      "2_pMSGV1_1G4_A_LY_RetroNYESO1 ('discord_1', 'chr17_72528390-1174', 'chr14', 22547585, 300, 300)\n",
      "[('chr17_52539007-46', '177', 'chr14', 'pMSGV1_1G4_A_LY_RetroNYESO1', 22547590, '150M', 300, 'C_C2T'), ('chr17_52539007-46', '369', 'chr7_KI270803v1_alt', 'chr14', 434591, '49S53M48S', 106, 'C_C2T'), ('chr17_52539007-46', '433', 'pMSGV1_1G4_A_LY_RetroNYESO1', '=', 487, '150M', 300, 'C_C2T'), ('chr17_52539007-46', '113', 'pMSGV1_1G4_A_LY_RetroNYESO1', 'chr14', 855, '150M', 300, 'C_C2T')]\n",
      "2_pMSGV1_1G4_A_LY_RetroNYESO1 ('discord_2', 'chr17_52539007-46', 'chr14', 22547740, 300, 300)\n",
      "[('chr21_25092442-420', '65', 'chr14', 'pMSGV1_1G4_A_LY_RetroNYESO1', 22547600, '150M', 300, 'W_C2T'), ('chr21_25092442-420', '321', 'pMSGV1_1G4_A_LY_RetroNYESO1', '=', 497, '150M', 300, 'W_C2T'), ('chr21_25092442-420', '129', 'pMSGV1_1G4_A_LY_RetroNYESO1', 'chr14', 869, '150M', 296, 'W_C2T')]\n",
      "2_pMSGV1_1G4_A_LY_RetroNYESO1 ('discord_1', 'chr21_25092442-420', 'chr14', 22547600, 300, 296)\n",
      "[('chr9_107303052-1802', '321', 'chr14', 'pMSGV1_1G4_A_LY_RetroNYESO1', 22547608, '150M', 291, 'W_C2T'), ('chr9_107303052-1802', '65', 'pMSGV1_1G4_A_LY_RetroNYESO1', '=', 505, '150M', 291, 'W_C2T'), ('chr9_107303052-1802', '129', 'pMSGV1_1G4_A_LY_RetroNYESO1', '=', 875, '150M', 300, 'W_C2T')]\n",
      "2_pMSGV1_1G4_A_LY_RetroNYESO1 ('discord_1', 'chr9_107303052-1802', 'chr14', 22547608, 291, 300)\n",
      "[('chr21_25092442-790', '321', 'chr14', 'pMSGV1_1G4_A_LY_RetroNYESO1', 22547623, '150M', 300, 'W_C2T'), ('chr21_25092442-790', '65', 'pMSGV1_1G4_A_LY_RetroNYESO1', '=', 520, '150M', 300, 'W_C2T'), ('chr21_25092442-790', '129', 'pMSGV1_1G4_A_LY_RetroNYESO1', '=', 872, '150M', 300, 'W_C2T')]\n",
      "2_pMSGV1_1G4_A_LY_RetroNYESO1 ('discord_1', 'chr21_25092442-790', 'chr14', 22547623, 300, 300)\n",
      "[('chr5_154512617-1008', '321', 'chr14', 'chr7', 22549625, '56S8M2I50M34S', 105, 'W_C2T'), ('chr5_154512617-1008', '129', 'chr7', 'pMSGV1_1G4_A_LY_RetroNYESO1', 142451160, '150M', 300, 'W_C2T'), ('chr5_154512617-1008', '65', 'pMSGV1_1G4_A_LY_RetroNYESO1', 'chr7', 605, '150M', 300, 'W_C2T'), ('chr5_154512617-1008', '385', 'pMSGV1_1G4_A_LY_RetroNYESO1', '=', 961, '150M', 300, 'W_C2T')]\n",
      "2_pMSGV1_1G4_A_LY_RetroNYESO1 ('discord_2', 'chr5_154512617-1008', 'chr7', 142451310, 300, 300)\n",
      "[('chr11_123458751-1314', '321', 'chr14', 'chr7', 22549625, '71S8M2I50M19S', 105, 'W_C2T'), ('chr11_123458751-1314', '129', 'chr7', 'pMSGV1_1G4_A_LY_RetroNYESO1', 142451154, '150M', 300, 'W_C2T'), ('chr11_123458751-1314', '65', 'pMSGV1_1G4_A_LY_RetroNYESO1', 'chr7', 590, '150M', 300, 'W_C2T'), ('chr11_123458751-1314', '385', 'pMSGV1_1G4_A_LY_RetroNYESO1', '=', 955, '150M', 300, 'W_C2T')]\n",
      "2_pMSGV1_1G4_A_LY_RetroNYESO1 ('discord_2', 'chr11_123458751-1314', 'chr7', 142451304, 300, 300)\n",
      "[('chr4_11404429-944', '433', 'chr7', 'pMSGV1_1G4_A_LY_RetroNYESO1', 142328488, '9S141M', 261, 'C_C2T'), ('chr4_11404429-944', '369', 'chr7_KI270803v1_alt', 'pMSGV1_1G4_A_LY_RetroNYESO1', 824067, '150M', 300, 'C_C2T'), ('chr4_11404429-944', '177', 'pMSGV1_1G4_A_LY_RetroNYESO1', '=', 942, '150M', 300, 'C_C2T'), ('chr4_11404429-944', '113', 'pMSGV1_1G4_A_LY_RetroNYESO1', '=', 1356, '150M', 300, 'C_C2T')]\n",
      "2_pMSGV1_1G4_A_LY_RetroNYESO1 ('discord_1', 'chr4_11404429-944', 'chr7_KI270803v1_alt', 824067, 300, 300)\n",
      "[('chr4_11404429-22', '65', 'chr7', 'pMSGV1_1G4_A_LY_RetroNYESO1', 142451160, '150M', 300, 'W_C2T'), ('chr4_11404429-22', '385', 'chr7', '=', 142801071, '150M', 293, 'W_C2T'), ('chr4_11404429-22', '321', 'chr7_KI270803v1_alt', 'pMSGV1_1G4_A_LY_RetroNYESO1', 434740, '150M', 300, 'W_C2T'), ('chr4_11404429-22', '129', 'pMSGV1_1G4_A_LY_RetroNYESO1', 'chr7', 1333, '150M', 300, 'W_C2T')]\n",
      "2_pMSGV1_1G4_A_LY_RetroNYESO1 ('discord_1', 'chr4_11404429-22', 'chr7', 142451160, 300, 300)\n",
      "[('chr9_107303052-670', '433', 'chr7', '=', 142451258, '150M', 272, 'C_C2T'), ('chr9_107303052-670', '113', 'chr7', 'pMSGV1_1G4_A_LY_RetroNYESO1', 142801148, '150M', 300, 'C_C2T'), ('chr9_107303052-670', '177', 'pMSGV1_1G4_A_LY_RetroNYESO1', 'chr7', 1059, '150M', 300, 'C_C2T'), ('chr9_107303052-670', '369', 'pMSGV1_1G4_A_LY_RetroNYESO1', '=', 1410, '150M', 300, 'C_C2T')]\n",
      "2_pMSGV1_1G4_A_LY_RetroNYESO1 ('discord_1', 'chr9_107303052-670', 'chr7', 142801148, 300, 300)\n",
      "[('chr17_63817703-2052', '433', 'chr7', '=', 142451329, '118M32S', 236, 'C_C2T'), ('chr17_63817703-2052', '113', 'chr7', 'pMSGV1_1G4_A_LY_RetroNYESO1', 142791892, '150M', 300, 'C_C2T'), ('chr17_63817703-2052', '177', 'pMSGV1_1G4_A_LY_RetroNYESO1', 'chr7', 1130, '150M', 300, 'C_C2T'), ('chr17_63817703-2052', '369', 'pMSGV1_1G4_A_LY_RetroNYESO1', '=', 1501, '150M', 300, 'C_C2T')]\n",
      "2_pMSGV1_1G4_A_LY_RetroNYESO1 ('discord_1', 'chr17_63817703-2052', 'chr7', 142791892, 300, 300)\n",
      "[('chr4_11404429-2060', '321', 'chr7', 'chr7_KI270803v1_alt', 142451341, '106M44S', 212, 'W_C2T'), ('chr4_11404429-2060', '129', 'chr7_KI270803v1_alt', 'pMSGV1_1G4_A_LY_RetroNYESO1', 824213, '150M', 300, 'W_C2T'), ('chr4_11404429-2060', '65', 'pMSGV1_1G4_A_LY_RetroNYESO1', 'chr7_KI270803v1_alt', 1142, '150M', 300, 'W_C2T'), ('chr4_11404429-2060', '385', 'pMSGV1_1G4_A_LY_RetroNYESO1', '=', 1502, '150M', 300, 'W_C2T')]\n",
      "2_pMSGV1_1G4_A_LY_RetroNYESO1 ('discord_2', 'chr4_11404429-2060', 'chr7_KI270803v1_alt', 824363, 300, 300)\n",
      "[('chr17_72528390-232', '433', 'chr7', 'chr7_KI270803v1_alt', 142451341, '106M44S', 212, 'C_C2T'), ('chr17_72528390-232', '369', 'chr7', 'pMSGV1_1G4_A_LY_RetroNYESO1', 142791919, '150M', 300, 'C_C2T'), ('chr17_72528390-232', '113', 'chr7_KI270803v1_alt', 'pMSGV1_1G4_A_LY_RetroNYESO1', 814892, '150M', 300, 'C_C2T'), ('chr17_72528390-232', '177', 'pMSGV1_1G4_A_LY_RetroNYESO1', 'chr7_KI270803v1_alt', 1142, '150M', 300, 'C_C2T')]\n",
      "2_pMSGV1_1G4_A_LY_RetroNYESO1 ('discord_1', 'chr17_72528390-232', 'chr7', 142791919, 300, 300)\n",
      "[('chr5_154512617-152', '433', 'chr7', 'pMSGV1_1G4_A_LY_RetroNYESO1', 142791822, '150M', 300, 'C_C2T'), ('chr5_154512617-152', '177', 'chr7', 'pMSGV1_1G4_A_LY_RetroNYESO1', 142801169, '150M', 300, 'C_C2T'), ('chr5_154512617-152', '113', 'pMSGV1_1G4_A_LY_RetroNYESO1', 'chr7', 1795, '150M', 296, 'C_C2T')]\n",
      "2_pMSGV1_1G4_A_LY_RetroNYESO1 ('discord_2', 'chr5_154512617-152', 'chr7', 142791972, 300, 296)\n",
      "[('chr4_41875792-1310', '177', 'chr7', 'pMSGV1_1G4_A_LY_RetroNYESO1', 142791858, '150M', 300, 'C_C2T'), ('chr4_41875792-1310', '433', 'pMSGV1_1G4_A_LY_RetroNYESO1', '=', 1467, '150M', 300, 'C_C2T'), ('chr4_41875792-1310', '113', 'pMSGV1_1G4_A_LY_RetroNYESO1', 'chr7', 1823, '150M', 300, 'C_C2T')]\n",
      "2_pMSGV1_1G4_A_LY_RetroNYESO1 ('discord_2', 'chr4_41875792-1310', 'chr7', 142792008, 300, 300)\n",
      "[('chr17_72528390-652', '177', 'chr7', 'pMSGV1_1G4_A_LY_RetroNYESO1', 142801071, '150M', 300, 'C_C2T'), ('chr17_72528390-652', '369', 'chr7', '=', 142802104, '12S110M1I12M15S', 228, 'C_C2T'), ('chr17_72528390-652', '433', 'pMSGV1_1G4_A_LY_RetroNYESO1', '=', 1333, '150M', 300, 'C_C2T'), ('chr17_72528390-652', '113', 'pMSGV1_1G4_A_LY_RetroNYESO1', 'chr7', 1695, '150M', 300, 'C_C2T')]\n",
      "2_pMSGV1_1G4_A_LY_RetroNYESO1 ('discord_2', 'chr17_72528390-652', 'chr7', 142801221, 300, 300)\n",
      "[('chr17_52539007-202', '369', 'chr7', 'pMSGV1_1G4_A_LY_RetroNYESO1', 142801074, '150M', 300, 'C_C2T'), ('chr17_52539007-202', '113', 'chr7_KI270803v1_alt', 'pMSGV1_1G4_A_LY_RetroNYESO1', 824047, '150M', 300, 'C_C2T'), ('chr17_52539007-202', '177', 'pMSGV1_1G4_A_LY_RetroNYESO1', 'chr7_KI270803v1_alt', 927, '150M', 296, 'C_C2T')]\n",
      "2_pMSGV1_1G4_A_LY_RetroNYESO1 ('discord_1', 'chr17_52539007-202', 'chr7', 142801074, 300, 296)\n",
      "[('chr9_122374638-2324', '113', 'chr7', 'pMSGV1_1G4_A_LY_RetroNYESO1', 142801100, '150M', 300, 'C_C2T'), ('chr9_122374638-2324', '433', 'chr7_KI270803v1_alt', 'chr7', 434790, '150M', 270, 'C_C2T'), ('chr9_122374638-2324', '177', 'pMSGV1_1G4_A_LY_RetroNYESO1', 'chr7', 1011, '150M', 300, 'C_C2T'), ('chr9_122374638-2324', '369', 'pMSGV1_1G4_A_LY_RetroNYESO1', '=', 1362, '150M', 300, 'C_C2T')]\n",
      "2_pMSGV1_1G4_A_LY_RetroNYESO1 ('discord_1', 'chr9_122374638-2324', 'chr7', 142801100, 300, 300)\n",
      "[('chr21_25092442-96', '177', 'chr7', 'pMSGV1_1G4_A_LY_RetroNYESO1', 142801115, '150M', 296, 'C_C2T'), ('chr21_25092442-96', '433', 'pMSGV1_1G4_A_LY_RetroNYESO1', '=', 1377, '150M', 296, 'C_C2T'), ('chr21_25092442-96', '113', 'pMSGV1_1G4_A_LY_RetroNYESO1', 'chr7', 1759, '150M', 300, 'C_C2T')]\n",
      "2_pMSGV1_1G4_A_LY_RetroNYESO1 ('discord_2', 'chr21_25092442-96', 'chr7', 142801265, 296, 300)\n",
      "[('chr20_3797773-1112', '369', 'chr7', 'pMSGV1_1G4_A_LY_RetroNYESO1', 142801126, '150M', 300, 'C_C2T'), ('chr20_3797773-1112', '177', 'pMSGV1_1G4_A_LY_RetroNYESO1', '=', 1011, '150M', 300, 'C_C2T'), ('chr20_3797773-1112', '113', 'pMSGV1_1G4_A_LY_RetroNYESO1', '=', 1388, '150M', 300, 'C_C2T')]\n",
      "2_pMSGV1_1G4_A_LY_RetroNYESO1 ('discord_1', 'chr20_3797773-1112', 'chr7', 142801126, 300, 300)\n",
      "[('chr4_11404429-1674', '65', 'chr7', 'pMSGV1_1G4_A_LY_RetroNYESO1', 142801131, '150M', 300, 'W_C2T'), ('chr4_11404429-1674', '321', 'pMSGV1_1G4_A_LY_RetroNYESO1', '=', 1393, '150M', 300, 'W_C2T'), ('chr4_11404429-1674', '129', 'pMSGV1_1G4_A_LY_RetroNYESO1', 'chr7', 1779, '150M', 300, 'W_C2T'), ('chr4_11404429-1674', '385', 'pMSGV1_1G4_A_LY_RetroNYESO1', 'chr7', 5564, '99S51M', 102, 'W_C2T')]\n",
      "2_pMSGV1_1G4_A_LY_RetroNYESO1 ('discord_1', 'chr4_11404429-1674', 'chr7', 142801131, 300, 300)\n",
      "[('chr17_52539007-334', '433', 'chr7', 'pMSGV1_1G4_A_LY_RetroNYESO1', 142801146, '150M', 300, 'C_C2T'), ('chr17_52539007-334', '177', 'pMSGV1_1G4_A_LY_RetroNYESO1', '=', 1408, '150M', 300, 'C_C2T'), ('chr17_52539007-334', '113', 'pMSGV1_1G4_A_LY_RetroNYESO1', '=', 1773, '150M', 300, 'C_C2T')]\n",
      "2_pMSGV1_1G4_A_LY_RetroNYESO1 ('discord_2', 'chr17_52539007-334', 'chr7', 142801296, 300, 300)\n",
      "[('chr14_43329107-958', '65', 'chr7', 'pMSGV1_1G4_A_LY_RetroNYESO1', 142801153, '150M', 300, 'W_C2T'), ('chr14_43329107-958', '321', 'pMSGV1_1G4_A_LY_RetroNYESO1', '=', 1415, '150M', 300, 'W_C2T'), ('chr14_43329107-958', '129', 'pMSGV1_1G4_A_LY_RetroNYESO1', 'chr7', 1776, '150M', 300, 'W_C2T')]\n",
      "2_pMSGV1_1G4_A_LY_RetroNYESO1 ('discord_1', 'chr14_43329107-958', 'chr7', 142801153, 300, 300)\n",
      "[('chr20_3797773-1424', '385', 'chr7', 'pMSGV1_1G4_A_LY_RetroNYESO1', 142801246, '150M', 300, 'W_C2T'), ('chr20_3797773-1424', '321', 'chr7_KI270803v1_alt', 'pMSGV1_1G4_A_LY_RetroNYESO1', 434935, '92M58S', 184, 'W_C2T'), ('chr20_3797773-1424', '65', 'pMSGV1_1G4_A_LY_RetroNYESO1', '=', 1156, '150M', 300, 'W_C2T'), ('chr20_3797773-1424', '129', 'pMSGV1_1G4_A_LY_RetroNYESO1', '=', 1508, '150M', 300, 'W_C2T')]\n",
      "2_pMSGV1_1G4_A_LY_RetroNYESO1 ('discord_2', 'chr20_3797773-1424', 'chr7', 142801396, 300, 300)\n",
      "[('chr12_118837819-272', '369', 'chr7', 'chr7_KI270803v1_alt', 142802104, '3S110M1I12M24S', 225, 'C_C2T'), ('chr12_118837819-272', '177', 'chr7_KI270803v1_alt', 'pMSGV1_1G4_A_LY_RetroNYESO1', 824049, '150M', 300, 'C_C2T'), ('chr12_118837819-272', '433', 'pMSGV1_1G4_A_LY_RetroNYESO1', '=', 1338, '150M', 300, 'C_C2T'), ('chr12_118837819-272', '113', 'pMSGV1_1G4_A_LY_RetroNYESO1', 'chr7_KI270803v1_alt', 1704, '150M', 296, 'C_C2T')]\n",
      "2_pMSGV1_1G4_A_LY_RetroNYESO1 ('discord_2', 'chr12_118837819-272', 'chr7_KI270803v1_alt', 824199, 300, 296)\n",
      "[('chr21_12572450-1442', '369', 'chr7', 'chr7_KI270803v1_alt', 142802135, '90M60S', 167, 'C_C2T'), ('chr21_12572450-1442', '177', 'chr7_KI270803v1_alt', 'pMSGV1_1G4_A_LY_RetroNYESO1', 824094, '150M', 300, 'C_C2T'), ('chr21_12572450-1442', '433', 'pMSGV1_1G4_A_LY_RetroNYESO1', '=', 1383, '150M', 300, 'C_C2T'), ('chr21_12572450-1442', '113', 'pMSGV1_1G4_A_LY_RetroNYESO1', 'chr7_KI270803v1_alt', 1738, '150M', 300, 'C_C2T')]\n",
      "2_pMSGV1_1G4_A_LY_RetroNYESO1 ('discord_2', 'chr21_12572450-1442', 'chr7_KI270803v1_alt', 824244, 300, 300)\n",
      "[('chr17_17199336-2234', '65', 'chr7_KI270803v1_alt', 'pMSGV1_1G4_A_LY_RetroNYESO1', 434735, '150M', 300, 'W_C2T'), ('chr17_17199336-2234', '385', 'chr7_KI270803v1_alt', '=', 824048, '150M', 293, 'W_C2T'), ('chr17_17199336-2234', '321', 'pMSGV1_1G4_A_LY_RetroNYESO1', '=', 956, '150M', 300, 'W_C2T'), ('chr17_17199336-2234', '129', 'pMSGV1_1G4_A_LY_RetroNYESO1', 'chr7_KI270803v1_alt', 1337, '150M', 300, 'W_C2T')]\n",
      "2_pMSGV1_1G4_A_LY_RetroNYESO1 ('discord_1', 'chr17_17199336-2234', 'chr7_KI270803v1_alt', 434735, 300, 300)\n",
      "[('chr15_87696345-1240', '321', 'chr7_KI270803v1_alt', 'pMSGV1_1G4_A_LY_RetroNYESO1', 434842, '150M', 287, 'W_C2T'), ('chr15_87696345-1240', '385', 'chr7_KI270803v1_alt', 'pMSGV1_1G4_A_LY_RetroNYESO1', 824154, '150M', 300, 'W_C2T'), ('chr15_87696345-1240', '65', 'pMSGV1_1G4_A_LY_RetroNYESO1', '=', 1063, '150M', 300, 'W_C2T'), ('chr15_87696345-1240', '129', 'pMSGV1_1G4_A_LY_RetroNYESO1', '=', 1443, '150M', 300, 'W_C2T')]\n",
      "2_pMSGV1_1G4_A_LY_RetroNYESO1 ('discord_2', 'chr15_87696345-1240', 'chr7_KI270803v1_alt', 824304, 300, 300)\n",
      "[('chr7_53319185-2214', '321', 'chr7_KI270803v1_alt', 'pMSGV1_1G4_A_LY_RetroNYESO1', 434900, '127M23S', 254, 'W_C2T'), ('chr7_53319185-2214', '385', 'chr7_KI270803v1_alt', 'pMSGV1_1G4_A_LY_RetroNYESO1', 824193, '1S149M', 298, 'W_C2T'), ('chr7_53319185-2214', '65', 'pMSGV1_1G4_A_LY_RetroNYESO1', '=', 1121, '150M', 300, 'W_C2T'), ('chr7_53319185-2214', '129', 'pMSGV1_1G4_A_LY_RetroNYESO1', '=', 1482, '1S149M', 298, 'W_C2T')]\n",
      "2_pMSGV1_1G4_A_LY_RetroNYESO1 ('discord_2', 'chr7_53319185-2214', 'chr7_KI270803v1_alt', 824342, 298, 300)\n",
      "[('chr14_43329107-1304', '433', 'chr7_KI270803v1_alt', '=', 434914, '113M1I18M18S', 227, 'C_C2T'), ('chr14_43329107-1304', '113', 'chr7_KI270803v1_alt', 'pMSGV1_1G4_A_LY_RetroNYESO1', 814877, '150M', 300, 'C_C2T'), ('chr14_43329107-1304', '177', 'pMSGV1_1G4_A_LY_RetroNYESO1', 'chr7_KI270803v1_alt', 1135, '150M', 300, 'C_C2T'), ('chr14_43329107-1304', '369', 'pMSGV1_1G4_A_LY_RetroNYESO1', '=', 1513, '150M', 300, 'C_C2T')]\n",
      "2_pMSGV1_1G4_A_LY_RetroNYESO1 ('discord_1', 'chr14_43329107-1304', 'chr7_KI270803v1_alt', 814877, 300, 300)\n",
      "[('chr11_27925998-236', '433', 'chr7_KI270803v1_alt', 'pMSGV1_1G4_A_LY_RetroNYESO1', 814798, '150M', 296, 'C_C2T'), ('chr11_27925998-236', '177', 'pMSGV1_1G4_A_LY_RetroNYESO1', '=', 1434, '150M', 296, 'C_C2T'), ('chr11_27925998-236', '113', 'pMSGV1_1G4_A_LY_RetroNYESO1', '=', 1789, '150M', 300, 'C_C2T')]\n",
      "2_pMSGV1_1G4_A_LY_RetroNYESO1 ('discord_2', 'chr11_27925998-236', 'chr7_KI270803v1_alt', 814948, 296, 300)\n",
      "[('chr11_27925998-1446', '433', 'chr7_KI270803v1_alt', 'pMSGV1_1G4_A_LY_RetroNYESO1', 814824, '150M', 300, 'C_C2T'), ('chr11_27925998-1446', '177', 'pMSGV1_1G4_A_LY_RetroNYESO1', '=', 1460, '150M', 300, 'C_C2T'), ('chr11_27925998-1446', '113', 'pMSGV1_1G4_A_LY_RetroNYESO1', '=', 1811, '150M', 300, 'C_C2T')]\n",
      "2_pMSGV1_1G4_A_LY_RetroNYESO1 ('discord_2', 'chr11_27925998-1446', 'chr7_KI270803v1_alt', 814974, 300, 300)\n",
      "[('chr20_3090740-650', '385', 'chr7_KI270803v1_alt', 'pMSGV1_1G4_A_LY_RetroNYESO1', 814901, '150M', 300, 'W_C2T'), ('chr20_3090740-650', '321', 'chr7_KI270803v1_alt', 'pMSGV1_1G4_A_LY_RetroNYESO1', 819534, '92S50M8S', 100, 'W_C2T'), ('chr20_3090740-650', '65', 'pMSGV1_1G4_A_LY_RetroNYESO1', '=', 1161, '150M', 300, 'W_C2T'), ('chr20_3090740-650', '129', 'pMSGV1_1G4_A_LY_RetroNYESO1', '=', 1537, '150M', 300, 'W_C2T')]\n",
      "2_pMSGV1_1G4_A_LY_RetroNYESO1 ('discord_2', 'chr20_3090740-650', 'chr7_KI270803v1_alt', 815051, 300, 300)\n",
      "[('chr10_128308661-334', '113', 'chr7_KI270803v1_alt', 'pMSGV1_1G4_A_LY_RetroNYESO1', 824104, '150M', 293, 'C_C2T'), ('chr10_128308661-334', '177', 'pMSGV1_1G4_A_LY_RetroNYESO1', 'chr7_KI270803v1_alt', 1041, '150M', 296, 'C_C2T'), ('chr10_128308661-334', '369', 'pMSGV1_1G4_A_LY_RetroNYESO1', '=', 1393, '150M', 293, 'C_C2T')]\n",
      "2_pMSGV1_1G4_A_LY_RetroNYESO1 ('discord_1', 'chr10_128308661-334', 'chr7_KI270803v1_alt', 824104, 293, 296)\n",
      "[('chr17_63817703-36', '177', 'chr7_KI270803v1_alt', 'pMSGV1_1G4_A_LY_RetroNYESO1', 824121, '150M', 300, 'C_C2T'), ('chr17_63817703-36', '433', 'pMSGV1_1G4_A_LY_RetroNYESO1', '=', 1410, '150M', 300, 'C_C2T'), ('chr17_63817703-36', '113', 'pMSGV1_1G4_A_LY_RetroNYESO1', 'chr7_KI270803v1_alt', 1783, '150M', 296, 'C_C2T')]\n",
      "2_pMSGV1_1G4_A_LY_RetroNYESO1 ('discord_2', 'chr17_63817703-36', 'chr7_KI270803v1_alt', 824271, 300, 296)\n",
      "[('chr10_128308661-1904', '321', 'chr7_KI270803v1_alt', 'pMSGV1_1G4_A_LY_RetroNYESO1', 824127, '150M', 300, 'W_C2T'), ('chr10_128308661-1904', '65', 'pMSGV1_1G4_A_LY_RetroNYESO1', '=', 1416, '150M', 300, 'W_C2T'), ('chr10_128308661-1904', '129', 'pMSGV1_1G4_A_LY_RetroNYESO1', '=', 1776, '150M', 300, 'W_C2T')]\n",
      "2_pMSGV1_1G4_A_LY_RetroNYESO1 ('discord_1', 'chr10_128308661-1904', 'chr7_KI270803v1_alt', 824127, 300, 300)\n",
      "[('chr14_43329107-1778', '433', 'chr7_KI270803v1_alt', 'pMSGV1_1G4_A_LY_RetroNYESO1', 824153, '150M', 296, 'C_C2T'), ('chr14_43329107-1778', '177', 'pMSGV1_1G4_A_LY_RetroNYESO1', '=', 1442, '150M', 296, 'C_C2T'), ('chr14_43329107-1778', '113', 'pMSGV1_1G4_A_LY_RetroNYESO1', '=', 1806, '150M', 296, 'C_C2T')]\n",
      "2_pMSGV1_1G4_A_LY_RetroNYESO1 ('discord_2', 'chr14_43329107-1778', 'chr7_KI270803v1_alt', 824303, 296, 296)\n",
      "[('chr18_2462980-1590', '321', 'chr14', 'pMSGV1_1G4_A_LY_RetroNYESO1', 22547524, '150M', 300, 'W_C2T'), ('chr18_2462980-1590', '65', 'pMSGV1_1G4_A_LY_RetroNYESO1', '=', 421, '150M', 300, 'W_C2T'), ('chr18_2462980-1590', '129', 'pMSGV1_1G4_A_LY_RetroNYESO1', '=', 788, '150M', 300, 'W_C2T')]\n",
      "3_pMSGV1_1G4_A_LY_RetroNYESO1 ('discord_1', 'chr18_2462980-1590', 'chr14', 22547524, 300, 300)\n",
      "[('chr10_122732656-358', '65', 'chr14', 'pMSGV1_1G4_A_LY_RetroNYESO1', 22547535, '150M', 300, 'W_C2T'), ('chr10_122732656-358', '321', 'pMSGV1_1G4_A_LY_RetroNYESO1', '=', 432, '150M', 300, 'W_C2T'), ('chr10_122732656-358', '129', 'pMSGV1_1G4_A_LY_RetroNYESO1', 'chr14', 791, '150M', 292, 'W_C2T')]\n",
      "3_pMSGV1_1G4_A_LY_RetroNYESO1 ('discord_1', 'chr10_122732656-358', 'chr14', 22547535, 300, 292)\n",
      "[('chr3_175538255-1164', '433', 'chr14', 'pMSGV1_1G4_A_LY_RetroNYESO1', 22547574, '150M', 300, 'C_C2T'), ('chr3_175538255-1164', '369', 'chr7_KI270803v1_alt', 'pMSGV1_1G4_A_LY_RetroNYESO1', 434591, '25S53M72S', 106, 'C_C2T'), ('chr3_175538255-1164', '177', 'pMSGV1_1G4_A_LY_RetroNYESO1', '=', 471, '150M', 300, 'C_C2T'), ('chr3_175538255-1164', '113', 'pMSGV1_1G4_A_LY_RetroNYESO1', '=', 879, '150M', 300, 'C_C2T')]\n",
      "3_pMSGV1_1G4_A_LY_RetroNYESO1 ('discord_2', 'chr3_175538255-1164', 'chr14', 22547724, 300, 300)\n",
      "[('chr4_109105085-1764', '433', 'chr14', 'pMSGV1_1G4_A_LY_RetroNYESO1', 22547584, '150M', 300, 'C_C2T'), ('chr4_109105085-1764', '369', 'chr7', 'pMSGV1_1G4_A_LY_RetroNYESO1', 142451011, '34S53M63S', 106, 'C_C2T'), ('chr4_109105085-1764', '177', 'pMSGV1_1G4_A_LY_RetroNYESO1', '=', 481, '150M', 300, 'C_C2T'), ('chr4_109105085-1764', '113', 'pMSGV1_1G4_A_LY_RetroNYESO1', '=', 870, '150M', 300, 'C_C2T')]\n",
      "3_pMSGV1_1G4_A_LY_RetroNYESO1 ('discord_2', 'chr4_109105085-1764', 'chr14', 22547734, 300, 300)\n",
      "[('chr4_109105085-202', '321', 'chr14', 'pMSGV1_1G4_A_LY_RetroNYESO1', 22547587, '150M', 300, 'W_C2T'), ('chr4_109105085-202', '65', 'pMSGV1_1G4_A_LY_RetroNYESO1', '=', 484, '150M', 300, 'W_C2T'), ('chr4_109105085-202', '129', 'pMSGV1_1G4_A_LY_RetroNYESO1', '=', 893, '150M', 300, 'W_C2T')]\n",
      "3_pMSGV1_1G4_A_LY_RetroNYESO1 ('discord_1', 'chr4_109105085-202', 'chr14', 22547587, 300, 300)\n",
      "[('chr11_69295875-2086', '65', 'chr14', 'pMSGV1_1G4_A_LY_RetroNYESO1', 22547592, '150M', 300, 'W_C2T'), ('chr11_69295875-2086', '321', 'pMSGV1_1G4_A_LY_RetroNYESO1', '=', 489, '150M', 300, 'W_C2T'), ('chr11_69295875-2086', '129', 'pMSGV1_1G4_A_LY_RetroNYESO1', 'chr14', 857, '150M', 300, 'W_C2T')]\n",
      "3_pMSGV1_1G4_A_LY_RetroNYESO1 ('discord_1', 'chr11_69295875-2086', 'chr14', 22547592, 300, 300)\n",
      "[('chr4_109105085-186', '433', 'chr14', 'pMSGV1_1G4_A_LY_RetroNYESO1', 22547699, '81M69S', 162, 'C_C2T'), ('chr4_109105085-186', '369', 'chr7_KI270803v1_alt', 'pMSGV1_1G4_A_LY_RetroNYESO1', 434739, '150M', 300, 'C_C2T'), ('chr4_109105085-186', '177', 'pMSGV1_1G4_A_LY_RetroNYESO1', '=', 596, '150M', 296, 'C_C2T'), ('chr4_109105085-186', '113', 'pMSGV1_1G4_A_LY_RetroNYESO1', '=', 960, '150M', 300, 'C_C2T')]\n",
      "3_pMSGV1_1G4_A_LY_RetroNYESO1 ('discord_1', 'chr4_109105085-186', 'chr7_KI270803v1_alt', 434739, 300, 296)\n",
      "[('chr5_139433086-152', '433', 'chr14', 'chr7', 22547703, '77M73S', 154, 'C_C2T'), ('chr5_139433086-152', '113', 'chr7', 'pMSGV1_1G4_A_LY_RetroNYESO1', 142451163, '150M', 300, 'C_C2T'), ('chr5_139433086-152', '369', 'chr7_KI270803v1_alt', 'pMSGV1_1G4_A_LY_RetroNYESO1', 434743, '150M', 300, 'C_C2T'), ('chr5_139433086-152', '177', 'pMSGV1_1G4_A_LY_RetroNYESO1', 'chr7', 600, '150M', 300, 'C_C2T')]\n",
      "3_pMSGV1_1G4_A_LY_RetroNYESO1 ('discord_1', 'chr5_139433086-152', 'chr7', 142451163, 300, 300)\n",
      "[('chr4_109105085-1482', '433', 'chr7', 'chr7_KI270803v1_alt', 142328488, '30S120M', 219, 'C_C2T'), ('chr4_109105085-1482', '113', 'chr7_KI270803v1_alt', 'pMSGV1_1G4_A_LY_RetroNYESO1', 824013, '150M', 300, 'C_C2T'), ('chr4_109105085-1482', '177', 'pMSGV1_1G4_A_LY_RetroNYESO1', 'chr7_KI270803v1_alt', 921, '150M', 300, 'C_C2T'), ('chr4_109105085-1482', '369', 'pMSGV1_1G4_A_LY_RetroNYESO1', '=', 1302, '150M', 300, 'C_C2T')]\n",
      "3_pMSGV1_1G4_A_LY_RetroNYESO1 ('discord_1', 'chr4_109105085-1482', 'chr7_KI270803v1_alt', 824013, 300, 300)\n",
      "[('chr21_36744908-1292', '433', 'chr7', 'pMSGV1_1G4_A_LY_RetroNYESO1', 142451178, '150M', 273, 'C_C2T'), ('chr21_36744908-1292', '369', 'chr7', 'pMSGV1_1G4_A_LY_RetroNYESO1', 142801075, '150M', 290, 'C_C2T'), ('chr21_36744908-1292', '177', 'pMSGV1_1G4_A_LY_RetroNYESO1', '=', 979, '150M', 300, 'C_C2T'), ('chr21_36744908-1292', '113', 'pMSGV1_1G4_A_LY_RetroNYESO1', '=', 1337, '150M', 290, 'C_C2T')]\n",
      "3_pMSGV1_1G4_A_LY_RetroNYESO1 ('discord_1', 'chr21_36744908-1292', 'chr7', 142801075, 290, 300)\n",
      "[('chr11_69295875-2408', '433', 'chr7', 'chr7_KI270803v1_alt', 142451245, '150M', 270, 'C_C2T'), ('chr11_69295875-2408', '113', 'chr7_KI270803v1_alt', 'pMSGV1_1G4_A_LY_RetroNYESO1', 814779, '150M', 300, 'C_C2T'), ('chr11_69295875-2408', '369', 'chr7_KI270803v1_alt', 'pMSGV1_1G4_A_LY_RetroNYESO1', 824126, '150M', 300, 'C_C2T'), ('chr11_69295875-2408', '177', 'pMSGV1_1G4_A_LY_RetroNYESO1', 'chr7_KI270803v1_alt', 1046, '150M', 300, 'C_C2T')]\n",
      "3_pMSGV1_1G4_A_LY_RetroNYESO1 ('discord_1', 'chr11_69295875-2408', 'chr7_KI270803v1_alt', 814779, 300, 300)\n",
      "[('chr13_92076906-1230', '321', 'chr7', 'pMSGV1_1G4_A_LY_RetroNYESO1', 142451270, '150M', 284, 'W_C2T'), ('chr13_92076906-1230', '385', 'chr7_KI270803v1_alt', 'pMSGV1_1G4_A_LY_RetroNYESO1', 824151, '150M', 300, 'W_C2T'), ('chr13_92076906-1230', '65', 'pMSGV1_1G4_A_LY_RetroNYESO1', '=', 1071, '150M', 300, 'W_C2T'), ('chr13_92076906-1230', '129', 'pMSGV1_1G4_A_LY_RetroNYESO1', '=', 1440, '150M', 300, 'W_C2T')]\n",
      "3_pMSGV1_1G4_A_LY_RetroNYESO1 ('discord_2', 'chr13_92076906-1230', 'chr7_KI270803v1_alt', 824301, 300, 300)\n",
      "[('chr10_122732656-1318', '321', 'chr7', 'pMSGV1_1G4_A_LY_RetroNYESO1', 142791885, '150M', 296, 'W_C2T'), ('chr10_122732656-1318', '65', 'chr7', 'pMSGV1_1G4_A_LY_RetroNYESO1', 142801232, '150M', 296, 'W_C2T'), ('chr10_122732656-1318', '129', 'pMSGV1_1G4_A_LY_RetroNYESO1', 'chr7', 1859, '150M', 300, 'W_C2T')]\n",
      "3_pMSGV1_1G4_A_LY_RetroNYESO1 ('discord_1', 'chr10_122732656-1318', 'chr7', 142791885, 296, 300)\n",
      "[('chr16_89324068-2142', '321', 'chr7', 'chr7_KI270803v1_alt', 142796561, '84S50M16S', 100, 'W_C2T'), ('chr16_89324068-2142', '129', 'chr7_KI270803v1_alt', 'pMSGV1_1G4_A_LY_RetroNYESO1', 814885, '150M', 296, 'W_C2T'), ('chr16_89324068-2142', '65', 'pMSGV1_1G4_A_LY_RetroNYESO1', 'chr7_KI270803v1_alt', 1169, '150M', 300, 'W_C2T'), ('chr16_89324068-2142', '385', 'pMSGV1_1G4_A_LY_RetroNYESO1', '=', 1521, '150M', 296, 'W_C2T')]\n",
      "3_pMSGV1_1G4_A_LY_RetroNYESO1 ('discord_2', 'chr16_89324068-2142', 'chr7_KI270803v1_alt', 815035, 296, 300)\n",
      "[('chr2_88319479-574', '369', 'chr7', 'pMSGV1_1G4_A_LY_RetroNYESO1', 142801061, '150M', 296, 'C_C2T'), ('chr2_88319479-574', '433', 'chr7_KI270803v1_alt', '=', 491111, '9S141M', 275, 'C_C2T'), ('chr2_88319479-574', '113', 'chr7_KI270803v1_alt', 'pMSGV1_1G4_A_LY_RetroNYESO1', 824034, '150M', 296, 'C_C2T'), ('chr2_88319479-574', '177', 'pMSGV1_1G4_A_LY_RetroNYESO1', 'chr7_KI270803v1_alt', 942, '150M', 300, 'C_C2T')]\n",
      "3_pMSGV1_1G4_A_LY_RetroNYESO1 ('discord_1', 'chr2_88319479-574', 'chr7', 142801061, 296, 300)\n",
      "[('chr21_36744908-1120', '113', 'chr7', 'pMSGV1_1G4_A_LY_RetroNYESO1', 142801082, '150M', 300, 'C_C2T'), ('chr21_36744908-1120', '433', 'chr7_KI270803v1_alt', 'chr7', 434771, '150M', 272, 'C_C2T'), ('chr21_36744908-1120', '369', 'chr7_KI270803v1_alt', 'pMSGV1_1G4_A_LY_RetroNYESO1', 824055, '150M', 300, 'C_C2T'), ('chr21_36744908-1120', '177', 'pMSGV1_1G4_A_LY_RetroNYESO1', 'chr7', 992, '150M', 300, 'C_C2T')]\n",
      "3_pMSGV1_1G4_A_LY_RetroNYESO1 ('discord_1', 'chr21_36744908-1120', 'chr7', 142801082, 300, 300)\n",
      "[('chr4_146212166-1240', '433', 'chr7', 'pMSGV1_1G4_A_LY_RetroNYESO1', 142801119, '150M', 300, 'C_C2T'), ('chr4_146212166-1240', '369', 'chr7', 'pMSGV1_1G4_A_LY_RetroNYESO1', 142802145, '69M1I12M68S', 147, 'C_C2T'), ('chr4_146212166-1240', '177', 'pMSGV1_1G4_A_LY_RetroNYESO1', '=', 1381, '150M', 300, 'C_C2T'), ('chr4_146212166-1240', '113', 'pMSGV1_1G4_A_LY_RetroNYESO1', '=', 1748, '150M', 300, 'C_C2T')]\n",
      "3_pMSGV1_1G4_A_LY_RetroNYESO1 ('discord_2', 'chr4_146212166-1240', 'chr7', 142801269, 300, 300)\n",
      "[('chr4_146212166-1222', '369', 'chr7', 'pMSGV1_1G4_A_LY_RetroNYESO1', 142801123, '150M', 296, 'C_C2T'), ('chr4_146212166-1222', '433', 'chr7_KI270803v1_alt', '=', 434806, '150M', 272, 'C_C2T'), ('chr4_146212166-1222', '113', 'chr7_KI270803v1_alt', 'pMSGV1_1G4_A_LY_RetroNYESO1', 824096, '150M', 296, 'C_C2T'), ('chr4_146212166-1222', '177', 'pMSGV1_1G4_A_LY_RetroNYESO1', 'chr7_KI270803v1_alt', 1027, '150M', 300, 'C_C2T')]\n",
      "3_pMSGV1_1G4_A_LY_RetroNYESO1 ('discord_1', 'chr4_146212166-1222', 'chr7', 142801123, 296, 300)\n",
      "[('chr5_88874077-2072', '385', 'chr7', 'pMSGV1_1G4_A_LY_RetroNYESO1', 142801142, '150M', 300, 'W_C2T'), ('chr5_88874077-2072', '321', 'chr7_KI270803v1_alt', 'pMSGV1_1G4_A_LY_RetroNYESO1', 434830, '150M', 285, 'W_C2T'), ('chr5_88874077-2072', '65', 'pMSGV1_1G4_A_LY_RetroNYESO1', '=', 1051, '150M', 300, 'W_C2T'), ('chr5_88874077-2072', '129', 'pMSGV1_1G4_A_LY_RetroNYESO1', '=', 1404, '150M', 300, 'W_C2T')]\n",
      "3_pMSGV1_1G4_A_LY_RetroNYESO1 ('discord_2', 'chr5_88874077-2072', 'chr7', 142801292, 300, 300)\n",
      "[('chr2_88319479-976', '65', 'chr7', 'pMSGV1_1G4_A_LY_RetroNYESO1', 142801148, '150M', 300, 'W_C2T'), ('chr2_88319479-976', '321', 'pMSGV1_1G4_A_LY_RetroNYESO1', '=', 1410, '150M', 300, 'W_C2T'), ('chr2_88319479-976', '129', 'pMSGV1_1G4_A_LY_RetroNYESO1', 'chr7', 1809, '150M', 300, 'W_C2T')]\n",
      "3_pMSGV1_1G4_A_LY_RetroNYESO1 ('discord_1', 'chr2_88319479-976', 'chr7', 142801148, 300, 300)\n",
      "[('chr6_83083296-1682', '369', 'chr7', 'pMSGV1_1G4_A_LY_RetroNYESO1', 142801191, '150M', 300, 'C_C2T'), ('chr6_83083296-1682', '433', 'chr7_KI270803v1_alt', 'pMSGV1_1G4_A_LY_RetroNYESO1', 434845, '150M', 271, 'C_C2T'), ('chr6_83083296-1682', '177', 'pMSGV1_1G4_A_LY_RetroNYESO1', '=', 1066, '150M', 300, 'C_C2T'), ('chr6_83083296-1682', '113', 'pMSGV1_1G4_A_LY_RetroNYESO1', '=', 1453, '150M', 300, 'C_C2T')]\n",
      "3_pMSGV1_1G4_A_LY_RetroNYESO1 ('discord_1', 'chr6_83083296-1682', 'chr7', 142801191, 300, 300)\n",
      "[('chr16_89324068-2454', '433', 'chr7_KI270803v1_alt', '=', 434797, '150M', 273, 'C_C2T'), ('chr16_89324068-2454', '113', 'chr7_KI270803v1_alt', 'pMSGV1_1G4_A_LY_RetroNYESO1', 814739, '150M', 291, 'C_C2T'), ('chr16_89324068-2454', '177', 'pMSGV1_1G4_A_LY_RetroNYESO1', 'chr7_KI270803v1_alt', 1018, '150M', 300, 'C_C2T'), ('chr16_89324068-2454', '369', 'pMSGV1_1G4_A_LY_RetroNYESO1', '=', 1375, '150M', 291, 'C_C2T')]\n",
      "3_pMSGV1_1G4_A_LY_RetroNYESO1 ('discord_1', 'chr16_89324068-2454', 'chr7_KI270803v1_alt', 814739, 291, 300)\n",
      "[('chr10_122732656-1912', '321', 'chr7_KI270803v1_alt', 'pMSGV1_1G4_A_LY_RetroNYESO1', 434850, '150M', 285, 'W_C2T'), ('chr10_122732656-1912', '385', 'chr7_KI270803v1_alt', 'pMSGV1_1G4_A_LY_RetroNYESO1', 824141, '150M', 300, 'W_C2T'), ('chr10_122732656-1912', '65', 'pMSGV1_1G4_A_LY_RetroNYESO1', '=', 1071, '150M', 300, 'W_C2T'), ('chr10_122732656-1912', '129', 'pMSGV1_1G4_A_LY_RetroNYESO1', '=', 1430, '150M', 300, 'W_C2T')]\n",
      "3_pMSGV1_1G4_A_LY_RetroNYESO1 ('discord_2', 'chr10_122732656-1912', 'chr7_KI270803v1_alt', 824291, 300, 300)\n",
      "[('chr4_109105085-2146', '433', 'chr7_KI270803v1_alt', 'pMSGV1_1G4_A_LY_RetroNYESO1', 434855, '150M', 269, 'C_C2T'), ('chr4_109105085-2146', '369', 'chr7_KI270803v1_alt', 'pMSGV1_1G4_A_LY_RetroNYESO1', 814821, '150M', 300, 'C_C2T'), ('chr4_109105085-2146', '177', 'pMSGV1_1G4_A_LY_RetroNYESO1', '=', 1076, '150M', 300, 'C_C2T'), ('chr4_109105085-2146', '113', 'pMSGV1_1G4_A_LY_RetroNYESO1', '=', 1457, '150M', 300, 'C_C2T')]\n",
      "3_pMSGV1_1G4_A_LY_RetroNYESO1 ('discord_1', 'chr4_109105085-2146', 'chr7_KI270803v1_alt', 814821, 300, 300)\n",
      "[('chr11_69295875-402', '321', 'chr7_KI270803v1_alt', '=', 434897, '130M20S', 260, 'W_C2T'), ('chr11_69295875-402', '129', 'chr7_KI270803v1_alt', 'pMSGV1_1G4_A_LY_RetroNYESO1', 824221, '150M', 300, 'W_C2T'), ('chr11_69295875-402', '65', 'pMSGV1_1G4_A_LY_RetroNYESO1', 'chr7_KI270803v1_alt', 1118, '150M', 300, 'W_C2T'), ('chr11_69295875-402', '385', 'pMSGV1_1G4_A_LY_RetroNYESO1', '=', 1510, '150M', 300, 'W_C2T')]\n",
      "3_pMSGV1_1G4_A_LY_RetroNYESO1 ('discord_2', 'chr11_69295875-402', 'chr7_KI270803v1_alt', 824371, 300, 300)\n",
      "[('chr5_139433086-444', '433', 'chr7_KI270803v1_alt', '=', 491111, '21S129M', 251, 'C_C2T'), ('chr5_139433086-444', '113', 'chr7_KI270803v1_alt', 'pMSGV1_1G4_A_LY_RetroNYESO1', 824012, '150M', 300, 'C_C2T'), ('chr5_139433086-444', '177', 'pMSGV1_1G4_A_LY_RetroNYESO1', 'chr7_KI270803v1_alt', 930, '150M', 300, 'C_C2T'), ('chr5_139433086-444', '369', 'pMSGV1_1G4_A_LY_RetroNYESO1', '=', 1301, '150M', 300, 'C_C2T')]\n",
      "3_pMSGV1_1G4_A_LY_RetroNYESO1 ('discord_1', 'chr5_139433086-444', 'chr7_KI270803v1_alt', 824012, 300, 300)\n",
      "[('chr2_88319479-778', '433', 'chr7_KI270803v1_alt', '=', 491138, '137M13S', 245, 'C_C2T'), ('chr2_88319479-778', '113', 'chr7_KI270803v1_alt', 'pMSGV1_1G4_A_LY_RetroNYESO1', 824042, '150M', 296, 'C_C2T'), ('chr2_88319479-778', '177', 'pMSGV1_1G4_A_LY_RetroNYESO1', 'chr7_KI270803v1_alt', 978, '150M', 300, 'C_C2T'), ('chr2_88319479-778', '369', 'pMSGV1_1G4_A_LY_RetroNYESO1', '=', 1331, '150M', 296, 'C_C2T')]\n",
      "3_pMSGV1_1G4_A_LY_RetroNYESO1 ('discord_1', 'chr2_88319479-778', 'chr7_KI270803v1_alt', 824042, 296, 300)\n",
      "[('chr6_83083296-2232', '113', 'chr7_KI270803v1_alt', 'pMSGV1_1G4_A_LY_RetroNYESO1', 814880, '150M', 300, 'C_C2T'), ('chr6_83083296-2232', '177', 'pMSGV1_1G4_A_LY_RetroNYESO1', 'chr7_KI270803v1_alt', 1141, '150M', 300, 'C_C2T'), ('chr6_83083296-2232', '369', 'pMSGV1_1G4_A_LY_RetroNYESO1', '=', 1516, '150M', 300, 'C_C2T')]\n",
      "3_pMSGV1_1G4_A_LY_RetroNYESO1 ('discord_1', 'chr6_83083296-2232', 'chr7_KI270803v1_alt', 814880, 300, 300)\n",
      "[('chr6_83083296-696', '433', 'chr7_KI270803v1_alt', 'pMSGV1_1G4_A_LY_RetroNYESO1', 824115, '150M', 300, 'C_C2T'), ('chr6_83083296-696', '369', 'chr7_KI270803v1_alt', 'pMSGV1_1G4_A_LY_RetroNYESO1', 825126, '61M1I12M76S', 131, 'C_C2T'), ('chr6_83083296-696', '177', 'pMSGV1_1G4_A_LY_RetroNYESO1', '=', 1404, '150M', 300, 'C_C2T'), ('chr6_83083296-696', '113', 'pMSGV1_1G4_A_LY_RetroNYESO1', '=', 1756, '150M', 295, 'C_C2T')]\n",
      "3_pMSGV1_1G4_A_LY_RetroNYESO1 ('discord_2', 'chr6_83083296-696', 'chr7_KI270803v1_alt', 824265, 300, 295)\n",
      "[('chr16_89324068-880', '433', 'chr7_KI270803v1_alt', 'pMSGV1_1G4_A_LY_RetroNYESO1', 824126, '150M', 296, 'C_C2T'), ('chr16_89324068-880', '177', 'pMSGV1_1G4_A_LY_RetroNYESO1', '=', 1415, '150M', 296, 'C_C2T'), ('chr16_89324068-880', '113', 'pMSGV1_1G4_A_LY_RetroNYESO1', '=', 1771, '150M', 300, 'C_C2T')]\n",
      "3_pMSGV1_1G4_A_LY_RetroNYESO1 ('discord_2', 'chr16_89324068-880', 'chr7_KI270803v1_alt', 824276, 296, 300)\n",
      "\n"
     ]
    }
   ],
   "source": [
    "test_processor = ProcessVectorSpanningReads(read_uniqueness_threshold=1.2, read_mapping_threshold=0.7,\n",
    "                                            multibase_threshold=0.2)\n",
    "\n",
    "good_call = 0\n",
    "bad_call = 0\n",
    "\n",
    "for sim_label in tqdm(simulation_integration_parameters):\n",
    "    vector = '_'.join(sim_label.split('_')[1:])\n",
    "    for read_label, read_group in sample_spanning_reads[sim_label].items():\n",
    "        control_info = integration_reads[sim_label].get(read_label, False)\n",
    "        called_int = test_processor.get_integration_sites(read_group, vector=vector)\n",
    "        if control_info and called_int:\n",
    "            good_call += 1\n",
    "        elif not control_info and called_int:\n",
    "            print(read_group)\n",
    "            print(sim_label, called_int)\n",
    "            bad_call += 1"
   ]
  },
  {
   "cell_type": "code",
   "execution_count": 109,
   "metadata": {},
   "outputs": [
    {
     "data": {
      "text/plain": [
       "2220"
      ]
     },
     "execution_count": 109,
     "metadata": {},
     "output_type": "execute_result"
    }
   ],
   "source": [
    "good_call"
   ]
  },
  {
   "cell_type": "code",
   "execution_count": 110,
   "metadata": {},
   "outputs": [
    {
     "data": {
      "text/plain": [
       "8668"
      ]
     },
     "execution_count": 110,
     "metadata": {},
     "output_type": "execute_result"
    }
   ],
   "source": [
    "sum([len(x) for x in integration_reads.values()])"
   ]
  },
  {
   "cell_type": "code",
   "execution_count": 111,
   "metadata": {},
   "outputs": [
    {
     "data": {
      "text/plain": [
       "76"
      ]
     },
     "execution_count": 111,
     "metadata": {},
     "output_type": "execute_result"
    }
   ],
   "source": [
    "bad_call"
   ]
  },
  {
   "cell_type": "code",
   "execution_count": null,
   "metadata": {},
   "outputs": [],
   "source": []
  }
 ],
 "metadata": {
  "kernelspec": {
   "display_name": "Python 3",
   "language": "python",
   "name": "python3"
  },
  "language_info": {
   "codemirror_mode": {
    "name": "ipython",
    "version": 3
   },
   "file_extension": ".py",
   "mimetype": "text/x-python",
   "name": "python",
   "nbconvert_exporter": "python",
   "pygments_lexer": "ipython3",
   "version": "3.7.5rc1"
  }
 },
 "nbformat": 4,
 "nbformat_minor": 4
}
