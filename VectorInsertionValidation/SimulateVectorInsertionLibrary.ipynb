{
 "cells": [
  {
   "cell_type": "markdown",
   "metadata": {},
   "source": [
    "# Generate MART and NYES Vector Integration Libraries\n",
    "- randomly insert vector into location in the genome\n",
    "- simulate PE reads using BSBolt\n",
    "- align and try to detect vector integration "
   ]
  },
  {
   "cell_type": "markdown",
   "metadata": {},
   "source": [
    "## Notebook Setup"
   ]
  },
  {
   "cell_type": "code",
   "execution_count": 1,
   "metadata": {},
   "outputs": [],
   "source": [
    "import gzip\n",
    "import io\n",
    "import os \n",
    "import random\n",
    "import subprocess\n",
    "import urllib.request\n",
    "from tqdm import tqdm_notebook as tqdm"
   ]
  },
  {
   "cell_type": "code",
   "execution_count": 2,
   "metadata": {},
   "outputs": [],
   "source": [
    "# simulate methylation sequencing data\n",
    "from BSBolt.Align.AlignmentHelpers import convert_alpha_numeric_cigar, get_mapping_length\n",
    "from BSBolt.Index.WholeGenomeBuild import WholeGenomeIndexBuild\n",
    "from BSBolt.Simulate.SimulateMethylatedReads import SimulateMethylatedReads\n",
    "from BSBolt.Utils.UtilityFunctions import get_external_paths"
   ]
  },
  {
   "cell_type": "code",
   "execution_count": 3,
   "metadata": {},
   "outputs": [],
   "source": [
    "bt2_path, art_path = get_external_paths()"
   ]
  },
  {
   "cell_type": "code",
   "execution_count": 4,
   "metadata": {},
   "outputs": [],
   "source": [
    "pwd = os.getcwd() + '/'"
   ]
  },
  {
   "cell_type": "code",
   "execution_count": 5,
   "metadata": {},
   "outputs": [],
   "source": [
    "ucsc_hg38 = 'https://hgdownload.soe.ucsc.edu/goldenPath/hg38/bigZips/hg38.fa.gz'"
   ]
  },
  {
   "cell_type": "code",
   "execution_count": 6,
   "metadata": {},
   "outputs": [],
   "source": [
    "if not os.path.exists(f'{pwd}SimulationData/hg38.fa.gz'):\n",
    "    urllib.request.urlretrieve(ucsc_hg38, f'{pwd}SimulationData/hg38.fa.gz')"
   ]
  },
  {
   "cell_type": "markdown",
   "metadata": {},
   "source": [
    "## Import Sequence Data"
   ]
  },
  {
   "cell_type": "code",
   "execution_count": 7,
   "metadata": {},
   "outputs": [],
   "source": [
    "# get hg38 reference with lambda phage control attached\n",
    "\n",
    "hg38 = {}\n",
    "\n",
    "with gzip.open(f'{pwd}SimulationData/hg38.fa.gz') as genome:\n",
    "    contig_seq = ''\n",
    "    chrom = None\n",
    "    for line in io.BufferedReader(genome):\n",
    "        processed_line = line.decode('utf-8').strip()\n",
    "        if '>' == processed_line[0]:\n",
    "            if chrom:\n",
    "                hg38[chrom] = contig_seq\n",
    "            contig_seq = ''\n",
    "            chrom = processed_line[1:]\n",
    "        else:\n",
    "            contig_seq = contig_seq + processed_line\n",
    "    hg38[chrom] = contig_seq"
   ]
  },
  {
   "cell_type": "code",
   "execution_count": 8,
   "metadata": {},
   "outputs": [],
   "source": [
    "# import NYES and Mart vector sequences \n",
    "mart1 = 'pMSGV1-MART1TCR.txt'\n",
    "nyes =  'pMSGV1-1G4_A_LY_RetroNYESO1.txt'"
   ]
  },
  {
   "cell_type": "code",
   "execution_count": 9,
   "metadata": {},
   "outputs": [],
   "source": [
    "vector_seq = {}\n",
    "\n",
    "for vector in [mart1, nyes]:\n",
    "    vector_label = vector.replace('-', '_').replace('.txt', '')\n",
    "    seq = ''\n",
    "    with open(f'{pwd}SimulationData/{vector}', 'r') as vec_seq:\n",
    "        for line in vec_seq:\n",
    "            processed_line = line.strip().replace(' ', '')\n",
    "            seq = seq + ''.join([base for base in processed_line if not base.isdigit()])\n",
    "    vector_seq[vector_label] = seq\n",
    "    "
   ]
  },
  {
   "cell_type": "code",
   "execution_count": 10,
   "metadata": {},
   "outputs": [],
   "source": [
    "if not os.path.exists(f'{pwd}SimulationData/hg38_sim.fa'):\n",
    "    out = open(f'{pwd}SimulationData/hg38_sim.fa', 'w')\n",
    "    for chrom, seq in tqdm(hg38.items()):\n",
    "        out.write(f'>{chrom}\\n')\n",
    "        out.write(f'{seq}\\n')\n",
    "    for chrom, seq in vector_seq.items():\n",
    "        out.write(f'>{chrom}\\n')\n",
    "        out.write(f'{seq}\\n')\n",
    "    out.close()"
   ]
  },
  {
   "cell_type": "markdown",
   "metadata": {},
   "source": [
    "## Simulated vector integration libraries\n",
    "- select the number of integration events\n",
    "- select random integration sites\n",
    "- generate 2 mart and 2 nyes datasets"
   ]
  },
  {
   "cell_type": "code",
   "execution_count": 11,
   "metadata": {},
   "outputs": [],
   "source": [
    "integration_events = [events + 15 for events in range(10)]"
   ]
  },
  {
   "cell_type": "code",
   "execution_count": 12,
   "metadata": {},
   "outputs": [],
   "source": [
    "simulation_integration_parameters = {}\n",
    "\n",
    "for count, vector in enumerate(['pMSGV1_MART1TCR', 'pMSGV1_MART1TCR', 'pMSGV1_1G4_A_LY_RetroNYESO1', 'pMSGV1_1G4_A_LY_RetroNYESO1']):\n",
    "    sim_label = f'{count}_{vector}'\n",
    "    int_events = random.sample(integration_events, 1)[0]\n",
    "    integration_locations = []\n",
    "    integration_sequences = []\n",
    "    while len(integration_locations) < int_events:\n",
    "        int_chrom = random.sample(list(hg38.keys()), 1)[0]\n",
    "        if len(int_chrom) > 5 or not int_chrom[-1].isdigit():\n",
    "            continue\n",
    "        # get chromosome sequence\n",
    "        chrom_seq = hg38[int_chrom]\n",
    "        # select simulation position \n",
    "        int_pos = random.randint(0, len(chrom_seq))\n",
    "        # retrieve integration position \n",
    "        left_seq = chrom_seq[int_pos - 1000: int_pos]\n",
    "        right_seq = chrom_seq[int_pos: int_pos + 1000]\n",
    "        integration_seq = left_seq + vector_seq[vector] + right_seq\n",
    "        if 'N' in integration_seq or 'n' in integration_seq:\n",
    "            continue\n",
    "        integration_sequences.append(integration_seq)\n",
    "        # save location\n",
    "        integration_locations.append((int_chrom, int_pos))\n",
    "    simulation_integration_parameters[sim_label] = integration_locations\n",
    "    with open(f'{pwd}SimulationData/{sim_label}.fa', 'w') as sim:\n",
    "        for location, seq in zip(integration_locations, integration_sequences):\n",
    "            sim.write(f'>{location[0]}_{location[1]}\\n')\n",
    "            sim.write(f'{seq}\\n')\n"
   ]
  },
  {
   "cell_type": "code",
   "execution_count": 13,
   "metadata": {},
   "outputs": [],
   "source": [
    "def make_directory(directory_path):\n",
    "    try:\n",
    "        os.makedirs(directory_path, exist_ok=False)\n",
    "    except FileExistsError:\n",
    "        return None"
   ]
  },
  {
   "cell_type": "code",
   "execution_count": 14,
   "metadata": {},
   "outputs": [],
   "source": [
    "simulation_output = f'{pwd}SimulationData/IntegrationSim/'\n",
    "make_directory(simulation_output)"
   ]
  },
  {
   "cell_type": "code",
   "execution_count": 15,
   "metadata": {},
   "outputs": [
    {
     "name": "stdout",
     "output_type": "stream",
     "text": [
      "Setting Cytosine Methylation\n",
      "Simulating Illumina Reads\n",
      "Simulating Methylated Illumina Reads\n",
      "Finished Simulation\n",
      "Setting Cytosine Methylation\n",
      "Simulating Illumina Reads\n",
      "Simulating Methylated Illumina Reads\n",
      "Finished Simulation\n",
      "Setting Cytosine Methylation\n",
      "Simulating Illumina Reads\n",
      "Simulating Methylated Illumina Reads\n",
      "Finished Simulation\n",
      "Setting Cytosine Methylation\n",
      "Simulating Illumina Reads\n",
      "Simulating Methylated Illumina Reads\n",
      "Finished Simulation\n"
     ]
    }
   ],
   "source": [
    "for sim_label in simulation_integration_parameters:\n",
    "    meth_sim = SimulateMethylatedReads(reference_file=f'{pwd}SimulationData/{sim_label}.fa',\n",
    "                                       art_path=art_path, \n",
    "                                       output_path=f'{simulation_output}{sim_label}',\n",
    "                                       paired_end=True,\n",
    "                                       read_length=150,\n",
    "                                       read_depth=40,\n",
    "                                       insertion_rate1=0.000, insertion_rate2=0.000,\n",
    "                                       deletion_rate1=0.000, deletion_rate2=0.000,\n",
    "                                       undirectional=False)\n",
    "    meth_sim.run_simulation()"
   ]
  },
  {
   "cell_type": "code",
   "execution_count": 16,
   "metadata": {},
   "outputs": [],
   "source": [
    "simulation_index = f'{pwd}SimulationData/SimulationIndex/'\n",
    "if not os.path.exists(simulation_index):\n",
    "    sim_index = WholeGenomeIndexBuild(reference_file=f'{pwd}SimulationData/hg38_sim.fa', genome_database=simulation_index, bowtie2_path=bt2_path, bowtie2_threads=10)\n",
    "    sim_index.generate_bsb_database()"
   ]
  },
  {
   "cell_type": "markdown",
   "metadata": {},
   "source": [
    "## Get control mapping sites for all reads\n",
    "- get simulated mapping locations\n",
    "- indentfiy simulated reads the span integration sites"
   ]
  },
  {
   "cell_type": "code",
   "execution_count": 17,
   "metadata": {},
   "outputs": [],
   "source": [
    "def sam_iterator(sam_file):\n",
    "    with open(sam_file, 'r') as sam:\n",
    "        while True:\n",
    "            line1 = sam.readline()\n",
    "            if not line1.strip():\n",
    "                break\n",
    "            if line1[0] == '@':\n",
    "                continue\n",
    "            line2 = sam.readline()\n",
    "            yield line1.strip().split('\\t'), line2.strip().split('\\t')"
   ]
  },
  {
   "cell_type": "code",
   "execution_count": 18,
   "metadata": {},
   "outputs": [],
   "source": [
    "def assess_overlap(span, pos):\n",
    "    if span[0] < pos < span[1]:\n",
    "        return True\n",
    "    return False"
   ]
  },
  {
   "cell_type": "code",
   "execution_count": 19,
   "metadata": {},
   "outputs": [
    {
     "data": {
      "application/vnd.jupyter.widget-view+json": {
       "model_id": "115a4d2b08914e17b5fd6a42207895d6",
       "version_major": 2,
       "version_minor": 0
      },
      "text/plain": [
       "HBox(children=(IntProgress(value=0, max=4), HTML(value='')))"
      ]
     },
     "metadata": {},
     "output_type": "display_data"
    },
    {
     "name": "stdout",
     "output_type": "stream",
     "text": [
      "\n"
     ]
    }
   ],
   "source": [
    "integration_reads = {sim_label: {} for sim_label in simulation_integration_parameters}\n",
    "\n",
    "for sim_label in tqdm(simulation_integration_parameters):\n",
    "    # need vector length to get the left and right vector boundaries \n",
    "    vector_length = len(vector_seq['_'.join(sim_label.split('_')[1:])])\n",
    "    for line in sam_iterator(f'{simulation_output}{sim_label}.sam'):\n",
    "        read_len_1 = get_mapping_length(convert_alpha_numeric_cigar(line[0][5]))\n",
    "        read_len_2 = get_mapping_length(convert_alpha_numeric_cigar(line[1][5]))\n",
    "        assert line[0][0] == line[1][0]\n",
    "        assert line[0][2] == line[1][2]\n",
    "        # normalize coordinates and convert types\n",
    "        chromosome, vector_pos = line[0][2].split('_')\n",
    "        vector_pos = int(vector_pos)\n",
    "        read_1_pos = int(line[0][3])\n",
    "        read_2_pos = int(line[1][3])\n",
    "        read_span = [read_1_pos, read_2_pos + read_len_2]\n",
    "        if line[0][1] == '83':\n",
    "            read_span = [read_2_pos, read_1_pos + read_len_1]\n",
    "        assert read_span[0] < read_span[1]\n",
    "        vector_spans = (assess_overlap(read_span, 1000), assess_overlap(read_span, 1000 + vector_length))\n",
    "        assert sum(vector_spans) <= 1\n",
    "        if any(vector_spans):\n",
    "            vector_boundary = 1000 if vector_spans[0] else 1000 + vector_length\n",
    "            integration_label = None\n",
    "            vector_label = None\n",
    "            if assess_overlap((read_1_pos, read_1_pos + read_len_1), vector_boundary):\n",
    "                vector_label = ('split_1', chromosome, vector_pos, read_1_pos - vector_boundary)\n",
    "            elif assess_overlap((read_2_pos, read_2_pos + read_len_2), vector_boundary):\n",
    "                vector_label = ('split_2', chromosome, vector_pos, read_2_pos - vector_boundary)\n",
    "            else:\n",
    "                if assess_overlap((1000, 1000 + vector_length), read_1_pos):\n",
    "                    vector_label = ('discordant_1', chromosome, vector_pos, read_1_pos - vector_boundary, read_2_pos - vector_boundary)\n",
    "                else:\n",
    "                    vector_label = ('discordant_2', chromosome, vector_pos, read_1_pos - vector_boundary, read_2_pos - vector_boundary) \n",
    "            if vector_label:\n",
    "                integration_reads[sim_label][line[0][0]] = vector_label"
   ]
  },
  {
   "cell_type": "code",
   "execution_count": 20,
   "metadata": {},
   "outputs": [
    {
     "data": {
      "text/plain": [
       "[1756, 1883, 1972, 2000]"
      ]
     },
     "execution_count": 20,
     "metadata": {},
     "output_type": "execute_result"
    }
   ],
   "source": [
    "[len(x) for x in integration_reads.values()]"
   ]
  },
  {
   "cell_type": "markdown",
   "metadata": {},
   "source": [
    "## Align Simulated Bisulfite Sequencing Data"
   ]
  },
  {
   "cell_type": "code",
   "execution_count": 21,
   "metadata": {},
   "outputs": [
    {
     "data": {
      "application/vnd.jupyter.widget-view+json": {
       "model_id": "9e55fc73c3824ded9173cb712426ef6a",
       "version_major": 2,
       "version_minor": 0
      },
      "text/plain": [
       "HBox(children=(IntProgress(value=0, max=4), HTML(value='')))"
      ]
     },
     "metadata": {},
     "output_type": "display_data"
    },
    {
     "name": "stdout",
     "output_type": "stream",
     "text": [
      "\n"
     ]
    }
   ],
   "source": [
    "# Align simulated data\n",
    "\n",
    "sim_alignment_stats = {}\n",
    "\n",
    "for sim_label in tqdm(simulation_integration_parameters):\n",
    "    bsbolt_alignment_command = ['python3', '-m', 'BSBolt', 'Align', '-BT2-p', '10', '-F1', f'{simulation_output}{sim_label}_meth_1.fastq', '-F2', f'{simulation_output}{sim_label}_meth_2.fastq',\n",
    "                                '-O', f'{simulation_output}{sim_label}', '-BT2-local', '-DB', simulation_index, '-discord', '-BT2-score-min', 'G,40,8', '-S']\n",
    "    sim_align = subprocess.Popen(bsbolt_alignment_command, stdout=subprocess.PIPE, universal_newlines=True)\n",
    "    alignment_stats = []\n",
    "    for line in iter(sim_align.stdout.readline, ''):\n",
    "        alignment_stats.append(line)\n",
    "    sim_alignment_stats[sim_label] = alignment_stats"
   ]
  },
  {
   "cell_type": "code",
   "execution_count": 22,
   "metadata": {},
   "outputs": [
    {
     "data": {
      "text/plain": [
       "{'0_pMSGV1_MART1TCR': ['Aligning /Users/colinfarrell/Documents/RebisMethylation/VectorInsertionValidation/SimulationData/IntegrationSim/0_pMSGV1_MART1TCR_meth_1.fastq /Users/colinfarrell/Documents/RebisMethylation/VectorInsertionValidation/SimulationData/IntegrationSim/0_pMSGV1_MART1TCR_meth_2.fastq\\n',\n",
       "  'Alignment Complete: Time 0:00:28\\n',\n",
       "  '------------------------------\\n',\n",
       "  'Total Reads: 19840\\n',\n",
       "  'Reads Mapped 0 Times: 22, 9 Multi-reference\\n',\n",
       "  'Reads Mapped 1 Time: 8018\\n',\n",
       "  'Reads Mapped >1 Times: 10642\\n',\n",
       "  '------------------------------\\n',\n",
       "  'Reads Mapped Discordantly 1 Time: 108\\n',\n",
       "  'Reads Mapped Discordantly >1 Times: 976\\n',\n",
       "  'Reads with Mixed Mapping 1 Time: 29\\n',\n",
       "  'Reads with Mixed Mapping >1 Times: 45\\n',\n",
       "  '------------------------------\\n',\n",
       "  'Mappability: 99.889 %\\n',\n",
       "  '------------------------------\\n',\n",
       "  'Reads Mapped to Watson_C2T: 9927\\n',\n",
       "  'Reads Mapped to Crick_C2T: 9890\\n',\n",
       "  'Reads Mapped to Watson_G2A: 1\\n',\n",
       "  'Reads Mapped to Crick_G2A: 0\\n'],\n",
       " '1_pMSGV1_MART1TCR': ['Aligning /Users/colinfarrell/Documents/RebisMethylation/VectorInsertionValidation/SimulationData/IntegrationSim/1_pMSGV1_MART1TCR_meth_1.fastq /Users/colinfarrell/Documents/RebisMethylation/VectorInsertionValidation/SimulationData/IntegrationSim/1_pMSGV1_MART1TCR_meth_2.fastq\\n',\n",
       "  'Alignment Complete: Time 0:00:24\\n',\n",
       "  '------------------------------\\n',\n",
       "  'Total Reads: 21080\\n',\n",
       "  'Reads Mapped 0 Times: 63, 52 Multi-reference\\n',\n",
       "  'Reads Mapped 1 Time: 8399\\n',\n",
       "  'Reads Mapped >1 Times: 11334\\n',\n",
       "  '------------------------------\\n',\n",
       "  'Reads Mapped Discordantly 1 Time: 109\\n',\n",
       "  'Reads Mapped Discordantly >1 Times: 1040\\n',\n",
       "  'Reads with Mixed Mapping 1 Time: 42\\n',\n",
       "  'Reads with Mixed Mapping >1 Times: 93\\n',\n",
       "  '------------------------------\\n',\n",
       "  'Mappability: 99.701 %\\n',\n",
       "  '------------------------------\\n',\n",
       "  'Reads Mapped to Watson_C2T: 10650\\n',\n",
       "  'Reads Mapped to Crick_C2T: 10366\\n',\n",
       "  'Reads Mapped to Watson_G2A: 1\\n',\n",
       "  'Reads Mapped to Crick_G2A: 0\\n'],\n",
       " '2_pMSGV1_1G4_A_LY_RetroNYESO1': ['Aligning /Users/colinfarrell/Documents/RebisMethylation/VectorInsertionValidation/SimulationData/IntegrationSim/2_pMSGV1_1G4_A_LY_RetroNYESO1_meth_1.fastq /Users/colinfarrell/Documents/RebisMethylation/VectorInsertionValidation/SimulationData/IntegrationSim/2_pMSGV1_1G4_A_LY_RetroNYESO1_meth_2.fastq\\n',\n",
       "  'Alignment Complete: Time 0:00:20\\n',\n",
       "  '------------------------------\\n',\n",
       "  'Total Reads: 22320\\n',\n",
       "  'Reads Mapped 0 Times: 7, 2 Multi-reference\\n',\n",
       "  'Reads Mapped 1 Time: 7073\\n',\n",
       "  'Reads Mapped >1 Times: 13989\\n',\n",
       "  '------------------------------\\n',\n",
       "  'Reads Mapped Discordantly 1 Time: 44\\n',\n",
       "  'Reads Mapped Discordantly >1 Times: 1120\\n',\n",
       "  'Reads with Mixed Mapping 1 Time: 20\\n',\n",
       "  'Reads with Mixed Mapping >1 Times: 67\\n',\n",
       "  '------------------------------\\n',\n",
       "  'Mappability: 99.969 %\\n',\n",
       "  '------------------------------\\n',\n",
       "  'Reads Mapped to Watson_C2T: 11116\\n',\n",
       "  'Reads Mapped to Crick_C2T: 11196\\n',\n",
       "  'Reads Mapped to Watson_G2A: 0\\n',\n",
       "  'Reads Mapped to Crick_G2A: 1\\n'],\n",
       " '3_pMSGV1_1G4_A_LY_RetroNYESO1': ['Aligning /Users/colinfarrell/Documents/RebisMethylation/VectorInsertionValidation/SimulationData/IntegrationSim/3_pMSGV1_1G4_A_LY_RetroNYESO1_meth_1.fastq /Users/colinfarrell/Documents/RebisMethylation/VectorInsertionValidation/SimulationData/IntegrationSim/3_pMSGV1_1G4_A_LY_RetroNYESO1_meth_2.fastq\\n',\n",
       "  'Alignment Complete: Time 0:00:27\\n',\n",
       "  '------------------------------\\n',\n",
       "  'Total Reads: 22320\\n',\n",
       "  'Reads Mapped 0 Times: 265, 261 Multi-reference\\n',\n",
       "  'Reads Mapped 1 Time: 6934\\n',\n",
       "  'Reads Mapped >1 Times: 13841\\n',\n",
       "  '------------------------------\\n',\n",
       "  'Reads Mapped Discordantly 1 Time: 39\\n',\n",
       "  'Reads Mapped Discordantly >1 Times: 1095\\n',\n",
       "  'Reads with Mixed Mapping 1 Time: 17\\n',\n",
       "  'Reads with Mixed Mapping >1 Times: 129\\n',\n",
       "  '------------------------------\\n',\n",
       "  'Mappability: 98.813 %\\n',\n",
       "  '------------------------------\\n',\n",
       "  'Reads Mapped to Watson_C2T: 11038\\n',\n",
       "  'Reads Mapped to Crick_C2T: 11017\\n',\n",
       "  'Reads Mapped to Watson_G2A: 0\\n',\n",
       "  'Reads Mapped to Crick_G2A: 0\\n']}"
      ]
     },
     "execution_count": 22,
     "metadata": {},
     "output_type": "execute_result"
    }
   ],
   "source": [
    "sim_alignment_stats"
   ]
  },
  {
   "cell_type": "markdown",
   "metadata": {},
   "source": [
    "### Get Dicordant and Split Vector Reads"
   ]
  },
  {
   "cell_type": "code",
   "execution_count": 248,
   "metadata": {},
   "outputs": [],
   "source": [
    "def stream_mapped_reads(file_path, included_flag=None, excluded_flag=None):\n",
    "    \"\"\" process reads streamed using samtools view, samtools must be on\n",
    "        path for this to work \"\"\"\n",
    "    stream_command = ['samtools', 'view']\n",
    "    if included_flag:\n",
    "        stream_command.extend(['-F', str(included_flag)])\n",
    "    if excluded_flag:\n",
    "        stream_command.extend(['-f', str(excluded_flag)])\n",
    "    stream_command.append(file_path)\n",
    "    read_stream = subprocess.Popen(stream_command, stdout=subprocess.PIPE, universal_newlines=True)\n",
    "    for line in iter(read_stream.stdout.readline, ''):\n",
    "        QNAME, FLAG, RNAME, POS, MAPQ, CIGAR, RNEXT, PNEXT, TLEN, SEQ, QUAL, *SAM_TAGS = line.strip().split('\\t')\n",
    "        alignment_score = None\n",
    "        mapping_reference = None\n",
    "        for tag in SAM_TAGS:\n",
    "            if tag[0:3] == 'AS:':\n",
    "                alignment_score = tag.split(':')[-1]\n",
    "            elif tag[0:4] == 'XO:Z':\n",
    "                mapping_reference = tag.split(':')[-1]\n",
    "        yield QNAME, FLAG, RNAME, int(POS), CIGAR, int(alignment_score), mapping_reference\n",
    "\n",
    "\n",
    "def get_spanning_reads(file_path: str = None, plasmid_names: set = None) -> dict:\n",
    "    mapped_reads = {}\n",
    "    for sam_read in stream_mapped_reads(file_path, included_flag=4):\n",
    "        QNAME, FLAG, RNAME, POS, CIGAR, alignment_score, mapping_reference = sam_read\n",
    "        plasmid_read = RNAME in plasmid_names\n",
    "        if QNAME not in mapped_reads:\n",
    "            mapped_reads[QNAME] = [[sam_read], plasmid_read]\n",
    "        else:\n",
    "            if plasmid_read:\n",
    "                mapped_reads[QNAME][0].append(sam_read)\n",
    "                mapped_reads[QNAME][1] = plasmid_read\n",
    "            else:\n",
    "                mapped_reads[QNAME][0].append(sam_read)\n",
    "    plasmid_reads = {}\n",
    "    for qname, read_group in mapped_reads.items():\n",
    "        if read_group[1]:\n",
    "            for read in read_group[0]:\n",
    "                if read[0][0:3] == 'chr':\n",
    "                    plasmid_reads[qname] = read_group[0]\n",
    "                    break\n",
    "    return plasmid_reads\n"
   ]
  },
  {
   "cell_type": "code",
   "execution_count": 249,
   "metadata": {},
   "outputs": [
    {
     "data": {
      "application/vnd.jupyter.widget-view+json": {
       "model_id": "f993ddfc48424fadb1242748b3426ca8",
       "version_major": 2,
       "version_minor": 0
      },
      "text/plain": [
       "HBox(children=(IntProgress(value=0, max=4), HTML(value='')))"
      ]
     },
     "metadata": {},
     "output_type": "display_data"
    },
    {
     "name": "stdout",
     "output_type": "stream",
     "text": [
      "\n"
     ]
    }
   ],
   "source": [
    "sample_spanning_reads = {}\n",
    "sample_read_stats = {}\n",
    "\n",
    "for sim_label in tqdm(simulation_integration_parameters):\n",
    "    plasmid_reads = get_spanning_reads(f'{simulation_output}{sim_label}.sorted.bam', {'pMSGV1_MART1TCR', 'pMSGV1_1G4_A_LY_RetroNYESO1'})\n",
    "    int_read_count = 0\n",
    "    non_int_read_count = 0\n",
    "    for read in plasmid_reads:\n",
    "        if read in integration_reads[sim_label]:\n",
    "            int_read_count += 1\n",
    "        else:\n",
    "            non_int_read_count += 1\n",
    "    sample_spanning_reads[sim_label] = plasmid_reads\n",
    "    observed_read_stats = dict(integration_reads=int_read_count, non_integration_reads=non_int_read_count, \n",
    "                               total_simulated_integration_reads=len(integration_reads[sim_label]), total_spanning_reads=len(plasmid_reads))\n",
    "    sample_read_stats[sim_label] = observed_read_stats"
   ]
  },
  {
   "cell_type": "code",
   "execution_count": 250,
   "metadata": {},
   "outputs": [
    {
     "data": {
      "text/plain": [
       "{'0_pMSGV1_MART1TCR': {'integration_reads': 1250,\n",
       "  'non_integration_reads': 15504,\n",
       "  'total_simulated_integration_reads': 1756,\n",
       "  'total_spanning_reads': 16754},\n",
       " '1_pMSGV1_MART1TCR': {'integration_reads': 1352,\n",
       "  'non_integration_reads': 16402,\n",
       "  'total_simulated_integration_reads': 1883,\n",
       "  'total_spanning_reads': 17754},\n",
       " '2_pMSGV1_1G4_A_LY_RetroNYESO1': {'integration_reads': 1417,\n",
       "  'non_integration_reads': 17303,\n",
       "  'total_simulated_integration_reads': 1972,\n",
       "  'total_spanning_reads': 18720},\n",
       " '3_pMSGV1_1G4_A_LY_RetroNYESO1': {'integration_reads': 1431,\n",
       "  'non_integration_reads': 17312,\n",
       "  'total_simulated_integration_reads': 2000,\n",
       "  'total_spanning_reads': 18743}}"
      ]
     },
     "execution_count": 250,
     "metadata": {},
     "output_type": "execute_result"
    }
   ],
   "source": [
    "sample_read_stats"
   ]
  },
  {
   "cell_type": "code",
   "execution_count": 251,
   "metadata": {},
   "outputs": [
    {
     "data": {
      "application/vnd.jupyter.widget-view+json": {
       "model_id": "d2f68fee631f40fdae62a12b35b13680",
       "version_major": 2,
       "version_minor": 0
      },
      "text/plain": [
       "HBox(children=(IntProgress(value=0, max=4), HTML(value='')))"
      ]
     },
     "metadata": {},
     "output_type": "display_data"
    },
    {
     "name": "stdout",
     "output_type": "stream",
     "text": [
      "\n"
     ]
    }
   ],
   "source": [
    "# clean reads mapping to different vector\n",
    "\n",
    "for sim_label in tqdm(simulation_integration_parameters):\n",
    "    vector = '_'.join(sim_label.split('_')[1:])\n",
    "    plasmid_reads = sample_spanning_reads[sim_label]\n",
    "    cleaned_plasmid_reads = {}\n",
    "    for read_name, read_group in plasmid_reads.items():\n",
    "        cleaned_group = []\n",
    "        vector_mapping = False\n",
    "        for read in read_group:\n",
    "            if read[2][0:3] == 'chr':\n",
    "                cleaned_group.append(read)\n",
    "            elif read[2] == vector:\n",
    "                vector_mapping = True\n",
    "                cleaned_group.append(read)\n",
    "        if vector_mapping:\n",
    "            cleaned_plasmid_reads[read_name] = cleaned_group\n",
    "    sample_spanning_reads[sim_label] = cleaned_plasmid_reads"
   ]
  },
  {
   "cell_type": "code",
   "execution_count": 252,
   "metadata": {},
   "outputs": [],
   "source": [
    "from typing import Dict, List, Tuple"
   ]
  },
  {
   "cell_type": "code",
   "execution_count": 320,
   "metadata": {},
   "outputs": [],
   "source": [
    "from collections import namedtuple\n",
    "\n",
    "class ProcessVectorSpanningReads:\n",
    "    \"\"\"Indentify high quality reads or read pairs that span a vector of interest and the genome.\"\"\"\n",
    "\n",
    "    def __init__(self, read_uniqueness_threshold: float = 1.1, read_mapping_threshold: float = 0.9,\n",
    "                 multibase_threshold: float = 0.1):\n",
    "        self.first_read = {'65', '67', '73', '81', '89', '97', '113', '115', '321', '323', '345', '329', '369', '371'}\n",
    "        self.fr_reference = {'W_C2T', 'C_G2A'}\n",
    "        self.proper_pair = {'131', '435', '371', '179', '67', '115', '323', '387'}\n",
    "        self.formatted_read = namedtuple('f_read', ['qname', 'rname', 'flag', 'mapping_ref', 'left_ref', 'right_ref', \n",
    "                                                    'left_query', 'right_query', 'alignment_score', 'matched_base_pos'])\n",
    "        self.read_uniqueness_threshold = read_uniqueness_threshold\n",
    "        self.read_mapping_threshold = read_mapping_threshold\n",
    "        self.multibase_threshold = multibase_threshold\n",
    "\n",
    "    def get_integration_sites(self, read_group: list = None, vector: str = None):\n",
    "        first_reads, second_reads = self.get_paired_reads(read_group)\n",
    "        group_1 = self.process_read_mapping(first_reads)\n",
    "        group_2 = self.process_read_mapping(second_reads)\n",
    "        g1_vector, g1_genome, g1_split = self.assess_alignment_contigs(group_1, vector)\n",
    "        g2_vector, g2_genome, g2_split  = self.assess_alignment_contigs(group_2, vector)\n",
    "        # discard read groups with conflicting integration site information\n",
    "        if g1_split and g2_split:\n",
    "            return None\n",
    "        # discard read group with only chromosome or vector mapping information\n",
    "        if not any((g1_vector, g2_vector)) or not any((g1_genome, g2_genome)):\n",
    "            return None\n",
    "        # discordant reads \n",
    "        if not g1_split and not g2_split:\n",
    "            # read information -> QNAME, CHROM, mapping_ref, l_reference_pos, r_reference_pos, l_query_pos, r_query_pos, Alignment_Score, list[matched_base_position: int]\n",
    "            return self.process_discordant_int(group_1, group_2, g1_genome)\n",
    "        return self.process_split_int(group_1, group_2, g1_split, g1_genome, g2_genome, vector)\n",
    "        \n",
    "    def process_split_int(group_1: list, group_2: list, g1_split: bool, g1_genome: bool, g2_genome: bool, vector: str):\n",
    "        split_group = group_1 if g1_split else group_2\n",
    "        supporting_group = group1 if not g1_split else group_2\n",
    "        supporting_genome = g1_genome if not g1_split else g2_genome\n",
    "        genome_split, vector_split = None, None\n",
    "        for read in split_group:\n",
    "            if read.rname == vector:\n",
    "                vector_split = read\n",
    "            else:\n",
    "                genome_split = read\n",
    "        ref_pos = genome_split.left_ref if genome_split.left_query > vector_split.left_query else genome_split.right_ref\n",
    "        if not supporting_group:\n",
    "            return 'split_single', genome_split.qname, genome_split.rname, ref_pos, genome_split.alignmet_score, vector_split.alignment_score\n",
    "        else:\n",
    "            if supporting_genome:\n",
    "                if supporting_group[0][1] != genome_split[0][1]:\n",
    "                    return None\n",
    "                return 'split_paired', genome_split.qname, genome_split.rname, ref_pos, genome_split.alignmet_score + supporting_genome.alignment_score, vector_split.alignment_score\n",
    "            else:\n",
    "                return 'split_paired', genome_split.qname, genome_split.rname, ref_pos, genome_split.alignmet_score, vector_split.alignment_score + supporting_genome.alignment_score\n",
    "\n",
    "        \n",
    "    def process_discordant_int(self, group_1, group_2, g1_genome):\n",
    "        read_1 = group_1[0]\n",
    "        read_2 = group_2[0]\n",
    "        if read_1.flag in self.proper_pair:\n",
    "            return None\n",
    "        if g1_genome:\n",
    "            ref_pos = read_1.right_ref if read_1.flag in self.fr_reference else read_1.left_ref\n",
    "            return 'discord_1', read_1.qname, read_1.rname, ref_pos, read_1.alignment_score, read_2.alignment_score\n",
    "        else:\n",
    "            ref_pos = read_2.left_ref if read_2.flag in self.fr_reference else read_2.right_ref\n",
    "            return 'discord_2', read_2.qname, read_2.rname, ref_pos, read_2.alignment_score, read_1.alignment_score\n",
    "        \n",
    "\n",
    "    def process_read_groups(self, group_1, group_2):\n",
    "        if group_1[6] and group_2[6]:\n",
    "            return None\n",
    "        pass\n",
    "\n",
    "    def assess_alignment_contigs(self, read_group: list, vector: str) -> (bool, bool):\n",
    "        vector_mapping, genome_mapping = False, False\n",
    "        genome_contigs = []\n",
    "        for read in read_group:\n",
    "            if read.rname == vector:\n",
    "                vector_mapping = True\n",
    "            else:\n",
    "                genome_contigs.append(read.rname)\n",
    "                genome_mapping = True\n",
    "        if len(genome_contigs) > 1:\n",
    "            genome_mapping = False\n",
    "            vector_mapping = False\n",
    "        return vector_mapping, genome_mapping, all((vector_mapping, genome_mapping))\n",
    "\n",
    "    def get_paired_reads(self, read_group):\n",
    "        first_reads, second_reads = [], []\n",
    "        for read in read_group:\n",
    "            if read[1] in self.first_read:\n",
    "                first_reads.append(read)\n",
    "            else:\n",
    "                second_reads.append(read)\n",
    "        return first_reads, second_reads\n",
    "\n",
    "    def process_read_mapping(self, read_paired):\n",
    "        processed_reads = []\n",
    "        for read in read_paired:\n",
    "            qname, rname, flag, pos, cigar, alignment_score, mapping_ref = read\n",
    "            cigar_tuple = convert_alpha_numeric_cigar(cigar)\n",
    "            # read information -> l_query_pos, r_query_pos, l_reference_pos, r_reference_pos, list[matched_base_position: int]\n",
    "            l_pos, r_pos, reference_pos, matched_base_pos = self.get_mapped_bases(cigar_tuple, pos)\n",
    "            # read information -> QNAME, flag, CHROM, mapping_ref, l_ref_pos, r_ref_pos, l_query_pos, r_query_pos, Alignment_Score, list[matched_base_position: int]\n",
    "            formatted_read = self.formatted_read(qname, flag, rname, mapping_ref, pos, reference_pos, l_pos, r_pos, alignment_score, matched_base_pos)\n",
    "            processed_reads.append(formatted_read)\n",
    "        processed_reads.sort(key = lambda x: x.alignment_score, reverse=True)\n",
    "        if not processed_reads:\n",
    "            return processed_reads\n",
    "        if len(processed_reads) < 2:\n",
    "            return processed_reads\n",
    "        else:\n",
    "            primary_reads = [processed_reads[0]]\n",
    "            for read in processed_reads[1:]:\n",
    "                for p_read in primary_reads:\n",
    "                    if self.get_duplication_proportion(read.matched_base_pos, p_read.matched_base_pos) > self.multibase_threshold:\n",
    "                        duplicate_read = True\n",
    "                        break\n",
    "                if not duplicate_read:\n",
    "                    primary_reads.append(read)\n",
    "        return primary_reads\n",
    "    \n",
    "    @staticmethod\n",
    "    def get_duplication_proportion(read_bases, comparison_bases):\n",
    "        return len([base for base in read_bases if base in comparison_bases]) / len(read_bases)\n",
    "\n",
    "    def get_mapped_bases(self, cigar_tuple: tuple, reference_position: int) -> (int, int, list):\n",
    "        matched_base_positions = []\n",
    "        reference_consumers = {0, 2, 3, 7, 8}\n",
    "        query_consumers = {0, 1, 4, 7, 8}\n",
    "        # set relative to genomic position so add reference start and one since capturing the first base\n",
    "        query_position = 0\n",
    "        left_mapped_pos, right_mapped_pos = None, None\n",
    "        for cigar_type, cigar_count in cigar_tuple:\n",
    "            if cigar_type in reference_consumers and cigar_type in query_consumers:\n",
    "                for _ in range(cigar_count):\n",
    "                    if not left_mapped_pos:\n",
    "                        left_mapped_pos = query_position\n",
    "                    right_mapped_pos = query_position\n",
    "                    matched_base_positions.append(query_position)\n",
    "                    query_position += 1\n",
    "                    reference_position += 1\n",
    "            elif cigar_type in query_consumers and cigar_type not in reference_consumers:\n",
    "                query_position += cigar_count\n",
    "            elif not cigar_type in query_consumers and cigar_type in reference_consumers:\n",
    "                reference_position += 1\n",
    "        return left_mapped_pos, right_mapped_pos, reference_position, matched_base_positions\n"
   ]
  },
  {
   "cell_type": "code",
   "execution_count": 321,
   "metadata": {},
   "outputs": [],
   "source": [
    "test_processor = ProcessVectorSpanningReads(read_uniqueness_threshold=1.2, read_mapping_threshold=0.7,\n",
    "                                            multibase_threshold=0.2)"
   ]
  },
  {
   "cell_type": "code",
   "execution_count": 322,
   "metadata": {},
   "outputs": [],
   "source": [
    "test_group = [('chr15_93920560-2110', '435', 'chr14', 22052763, '37S4M1I108M', 216, 'C_C2T'), ('chr15_93920560-2110', '371', 'chr14', 22052867, '150M', 300, 'C_C2T'), ('chr15_93920560-2110', '179', 'pMSGV1_1G4_A_LY_RetroNYESO1', 7, '150M', 300, 'C_C2T'), ('chr15_93920560-2110', '115', 'pMSGV1_1G4_A_LY_RetroNYESO1', 149, '150M', 300, 'C_C2T')]"
   ]
  },
  {
   "cell_type": "code",
   "execution_count": 323,
   "metadata": {},
   "outputs": [],
   "source": [
    "test_processor.get_integration_sites(test_group, vector='pMSGV1_1G4_A_LY_RetroNYESO1')"
   ]
  },
  {
   "cell_type": "code",
   "execution_count": 324,
   "metadata": {},
   "outputs": [
    {
     "name": "stdout",
     "output_type": "stream",
     "text": [
      "{'131', '435', '371', '179', '67', '115', '323', '387'}\n"
     ]
    }
   ],
   "source": [
    "x = {67: 131, 323: 387, 115: 179, 371: 435,\n",
    "                      131: 67, 387: 323, 179: 115, 435: 371}\n",
    "print({str(y) for y in x.keys()})"
   ]
  },
  {
   "cell_type": "code",
   "execution_count": 331,
   "metadata": {},
   "outputs": [
    {
     "data": {
      "application/vnd.jupyter.widget-view+json": {
       "model_id": "cdcb4f91bf694592b52c501a135f156c",
       "version_major": 2,
       "version_minor": 0
      },
      "text/plain": [
       "HBox(children=(IntProgress(value=0, max=4), HTML(value='')))"
      ]
     },
     "metadata": {},
     "output_type": "display_data"
    },
    {
     "name": "stdout",
     "output_type": "stream",
     "text": [
      "[('chr19_14095219-1158', '65', 'chr14', 22547510, '150M', 300, 'W_C2T'), ('chr19_14095219-1158', '321', 'pMSGV1_1G4_A_LY_RetroNYESO1', 407, '150M', 300, 'W_C2T'), ('chr19_14095219-1158', '129', 'pMSGV1_1G4_A_LY_RetroNYESO1', 764, '150M', 300, 'W_C2T')]\n",
      "2_pMSGV1_1G4_A_LY_RetroNYESO1 ('discord_1', 'chr19_14095219-1158', 'chr14', 22547510, 300, 300)\n",
      "[('chr16_85134609-476', '433', 'chr14', 22547575, '150M', 300, 'C_C2T'), ('chr16_85134609-476', '177', 'pMSGV1_1G4_A_LY_RetroNYESO1', 472, '150M', 300, 'C_C2T'), ('chr16_85134609-476', '113', 'pMSGV1_1G4_A_LY_RetroNYESO1', 830, '150M', 295, 'C_C2T')]\n",
      "2_pMSGV1_1G4_A_LY_RetroNYESO1 ('discord_2', 'chr16_85134609-476', 'chr14', 22547725, 300, 295)\n",
      "[('chr15_93920560-350', '433', 'chr14', 22547704, '76M74S', 152, 'C_C2T'), ('chr15_93920560-350', '369', 'chr7', 142451152, '150M', 300, 'C_C2T'), ('chr15_93920560-350', '177', 'pMSGV1_1G4_A_LY_RetroNYESO1', 601, '150M', 300, 'C_C2T'), ('chr15_93920560-350', '113', 'pMSGV1_1G4_A_LY_RetroNYESO1', 953, '150M', 300, 'C_C2T')]\n",
      "2_pMSGV1_1G4_A_LY_RetroNYESO1 ('discord_1', 'chr15_93920560-350', 'chr7', 142451152, 300, 300)\n",
      "[('chr4_84531251-1916', '321', 'chr7', 142451233, '150M', 282, 'W_C2T'), ('chr4_84531251-1916', '129', 'chr7_KI270803v1_alt', 824164, '150M', 300, 'W_C2T'), ('chr4_84531251-1916', '65', 'pMSGV1_1G4_A_LY_RetroNYESO1', 1034, '150M', 296, 'W_C2T'), ('chr4_84531251-1916', '385', 'pMSGV1_1G4_A_LY_RetroNYESO1', 1453, '150M', 300, 'W_C2T')]\n",
      "2_pMSGV1_1G4_A_LY_RetroNYESO1 ('discord_2', 'chr4_84531251-1916', 'chr7_KI270803v1_alt', 824314, 300, 296)\n",
      "[('chr9_72224966-1858', '321', 'chr7', 142451249, '150M', 285, 'W_C2T'), ('chr9_72224966-1858', '129', 'chr7_KI270803v1_alt', 824178, '150M', 300, 'W_C2T'), ('chr9_72224966-1858', '65', 'pMSGV1_1G4_A_LY_RetroNYESO1', 1050, '150M', 300, 'W_C2T'), ('chr9_72224966-1858', '385', 'pMSGV1_1G4_A_LY_RetroNYESO1', 1467, '150M', 300, 'W_C2T')]\n",
      "2_pMSGV1_1G4_A_LY_RetroNYESO1 ('discord_2', 'chr9_72224966-1858', 'chr7_KI270803v1_alt', 824328, 300, 300)\n",
      "[('chr8_116026290-1318', '433', 'chr7', 142451257, '150M', 272, 'C_C2T'), ('chr8_116026290-1318', '369', 'chr7_KI270803v1_alt', 814802, '150M', 300, 'C_C2T'), ('chr8_116026290-1318', '113', 'chr7_KI270803v1_alt', 824149, '150M', 300, 'C_C2T'), ('chr8_116026290-1318', '177', 'pMSGV1_1G4_A_LY_RetroNYESO1', 1058, '150M', 300, 'C_C2T')]\n",
      "2_pMSGV1_1G4_A_LY_RetroNYESO1 ('discord_1', 'chr8_116026290-1318', 'chr7_KI270803v1_alt', 814802, 300, 300)\n",
      "[('chr10_111086638-604', '321', 'chr7', 142451296, '150M', 281, 'W_C2T'), ('chr10_111086638-604', '129', 'chr7', 142801193, '150M', 300, 'W_C2T'), ('chr10_111086638-604', '65', 'pMSGV1_1G4_A_LY_RetroNYESO1', 1097, '150M', 296, 'W_C2T'), ('chr10_111086638-604', '385', 'pMSGV1_1G4_A_LY_RetroNYESO1', 1455, '150M', 300, 'W_C2T')]\n",
      "2_pMSGV1_1G4_A_LY_RetroNYESO1 ('discord_2', 'chr10_111086638-604', 'chr7', 142801343, 300, 296)\n",
      "[('chr8_116026290-762', '433', 'chr7', 142451322, '125M25S', 250, 'C_C2T'), ('chr8_116026290-762', '369', 'chr7_KI270803v1_alt', 814888, '150M', 300, 'C_C2T'), ('chr8_116026290-762', '177', 'pMSGV1_1G4_A_LY_RetroNYESO1', 1123, '150M', 300, 'C_C2T'), ('chr8_116026290-762', '113', 'pMSGV1_1G4_A_LY_RetroNYESO1', 1524, '150M', 300, 'C_C2T')]\n",
      "2_pMSGV1_1G4_A_LY_RetroNYESO1 ('discord_1', 'chr8_116026290-762', 'chr7_KI270803v1_alt', 814888, 300, 300)\n",
      "[('chr14_27874367-1334', '321', 'chr7', 142451326, '121M29S', 242, 'W_C2T'), ('chr14_27874367-1334', '385', 'chr7', 142801248, '150M', 300, 'W_C2T'), ('chr14_27874367-1334', '65', 'pMSGV1_1G4_A_LY_RetroNYESO1', 1127, '150M', 300, 'W_C2T'), ('chr14_27874367-1334', '129', 'pMSGV1_1G4_A_LY_RetroNYESO1', 1510, '150M', 300, 'W_C2T')]\n",
      "2_pMSGV1_1G4_A_LY_RetroNYESO1 ('discord_2', 'chr14_27874367-1334', 'chr7', 142801398, 300, 300)\n",
      "[('chr11_45050462-682', '433', 'chr7', 142451335, '112M1I18M19S', 226, 'C_C2T'), ('chr11_45050462-682', '369', 'chr7', 142791921, '150M', 300, 'C_C2T'), ('chr11_45050462-682', '177', 'pMSGV1_1G4_A_LY_RetroNYESO1', 1136, '150M', 300, 'C_C2T'), ('chr11_45050462-682', '113', 'pMSGV1_1G4_A_LY_RetroNYESO1', 1530, '150M', 300, 'C_C2T')]\n",
      "2_pMSGV1_1G4_A_LY_RetroNYESO1 ('discord_1', 'chr11_45050462-682', 'chr7', 142791921, 300, 300)\n",
      "[('chr9_72224966-1582', '65', 'chr7', 142791908, '150M', 300, 'W_C2T'), ('chr9_72224966-1582', '321', 'pMSGV1_1G4_A_LY_RetroNYESO1', 1517, '150M', 300, 'W_C2T'), ('chr9_72224966-1582', '129', 'pMSGV1_1G4_A_LY_RetroNYESO1', 1900, '150M', 300, 'W_C2T'), ('chr9_72224966-1582', '385', 'pMSGV1_1G4_A_LY_RetroNYESO1', 5586, '150M', 300, 'W_C2T')]\n",
      "2_pMSGV1_1G4_A_LY_RetroNYESO1 ('discord_1', 'chr9_72224966-1582', 'chr7', 142791908, 300, 300)\n",
      "[('chr11_45050462-1858', '177', 'chr7', 142801106, '150M', 296, 'C_C2T'), ('chr11_45050462-1858', '369', 'chr7_KI270803v1_alt', 825105, '82M1I12M55S', 173, 'C_C2T'), ('chr11_45050462-1858', '433', 'pMSGV1_1G4_A_LY_RetroNYESO1', 1368, '150M', 296, 'C_C2T'), ('chr11_45050462-1858', '113', 'pMSGV1_1G4_A_LY_RetroNYESO1', 1735, '150M', 300, 'C_C2T')]\n",
      "2_pMSGV1_1G4_A_LY_RetroNYESO1 ('discord_2', 'chr11_45050462-1858', 'chr7', 142801256, 296, 300)\n",
      "[('chr11_72762231-1828', '177', 'chr7', 142801122, '150M', 300, 'C_C2T'), ('chr11_72762231-1828', '433', 'pMSGV1_1G4_A_LY_RetroNYESO1', 1384, '150M', 300, 'C_C2T'), ('chr11_72762231-1828', '113', 'pMSGV1_1G4_A_LY_RetroNYESO1', 1762, '150M', 296, 'C_C2T')]\n",
      "2_pMSGV1_1G4_A_LY_RetroNYESO1 ('discord_2', 'chr11_72762231-1828', 'chr7', 142801272, 300, 296)\n",
      "[('chr19_31506844-1114', '369', 'chr7', 142801129, '150M', 300, 'C_C2T'), ('chr19_31506844-1114', '177', 'pMSGV1_1G4_A_LY_RetroNYESO1', 1007, '150M', 300, 'C_C2T'), ('chr19_31506844-1114', '113', 'pMSGV1_1G4_A_LY_RetroNYESO1', 1391, '150M', 300, 'C_C2T')]\n",
      "2_pMSGV1_1G4_A_LY_RetroNYESO1 ('discord_1', 'chr19_31506844-1114', 'chr7', 142801129, 300, 300)\n",
      "[('chr14_27874367-728', '369', 'chr7', 142801143, '150M', 300, 'C_C2T'), ('chr14_27874367-728', '433', 'chr7_KI270803v1_alt', 434827, '150M', 277, 'C_C2T'), ('chr14_27874367-728', '177', 'pMSGV1_1G4_A_LY_RetroNYESO1', 1048, '150M', 300, 'C_C2T'), ('chr14_27874367-728', '113', 'pMSGV1_1G4_A_LY_RetroNYESO1', 1405, '150M', 300, 'C_C2T')]\n",
      "2_pMSGV1_1G4_A_LY_RetroNYESO1 ('discord_1', 'chr14_27874367-728', 'chr7', 142801143, 300, 300)\n",
      "[('chr10_111086638-986', '65', 'chr7', 142801159, '150M', 300, 'W_C2T'), ('chr10_111086638-986', '321', 'pMSGV1_1G4_A_LY_RetroNYESO1', 1421, '150M', 300, 'W_C2T'), ('chr10_111086638-986', '129', 'pMSGV1_1G4_A_LY_RetroNYESO1', 1798, '150M', 300, 'W_C2T')]\n",
      "2_pMSGV1_1G4_A_LY_RetroNYESO1 ('discord_1', 'chr10_111086638-986', 'chr7', 142801159, 300, 300)\n",
      "[('chr21_12508361-226', '129', 'chr7', 142801175, '150M', 300, 'W_C2T'), ('chr21_12508361-226', '321', 'chr7_KI270803v1_alt', 434841, '150M', 285, 'W_C2T'), ('chr21_12508361-226', '65', 'pMSGV1_1G4_A_LY_RetroNYESO1', 1062, '150M', 300, 'W_C2T'), ('chr21_12508361-226', '385', 'pMSGV1_1G4_A_LY_RetroNYESO1', 1437, '150M', 300, 'W_C2T')]\n",
      "2_pMSGV1_1G4_A_LY_RetroNYESO1 ('discord_2', 'chr21_12508361-226', 'chr7', 142801325, 300, 300)\n",
      "[('chr3_26537931-958', '433', 'chr7', 142801191, '150M', 300, 'C_C2T'), ('chr3_26537931-958', '177', 'pMSGV1_1G4_A_LY_RetroNYESO1', 1453, '150M', 300, 'C_C2T'), ('chr3_26537931-958', '113', 'pMSGV1_1G4_A_LY_RetroNYESO1', 1814, '150M', 300, 'C_C2T')]\n",
      "2_pMSGV1_1G4_A_LY_RetroNYESO1 ('discord_2', 'chr3_26537931-958', 'chr7', 142801341, 300, 300)\n",
      "[('chr18_2367894-402', '129', 'chr7', 142801242, '150M', 300, 'W_C2T'), ('chr18_2367894-402', '321', 'chr7_KI270803v1_alt', 434908, '119M31S', 238, 'W_C2T'), ('chr18_2367894-402', '65', 'pMSGV1_1G4_A_LY_RetroNYESO1', 1129, '150M', 300, 'W_C2T'), ('chr18_2367894-402', '385', 'pMSGV1_1G4_A_LY_RetroNYESO1', 1504, '150M', 300, 'W_C2T')]\n",
      "2_pMSGV1_1G4_A_LY_RetroNYESO1 ('discord_2', 'chr18_2367894-402', 'chr7', 142801392, 300, 300)\n",
      "[('chr14_27874367-2234', '321', 'chr7_KI270803v1_alt', 434827, '150M', 286, 'W_C2T'), ('chr14_27874367-2234', '129', 'chr7_KI270803v1_alt', 824119, '150M', 300, 'W_C2T'), ('chr14_27874367-2234', '65', 'pMSGV1_1G4_A_LY_RetroNYESO1', 1048, '150M', 300, 'W_C2T'), ('chr14_27874367-2234', '385', 'pMSGV1_1G4_A_LY_RetroNYESO1', 1408, '150M', 300, 'W_C2T')]\n",
      "2_pMSGV1_1G4_A_LY_RetroNYESO1 ('discord_2', 'chr14_27874367-2234', 'chr7_KI270803v1_alt', 824269, 300, 300)\n",
      "[('chr14_27874367-2186', '433', 'chr7_KI270803v1_alt', 434837, '150M', 271, 'C_C2T'), ('chr14_27874367-2186', '113', 'chr7_KI270803v1_alt', 814782, '150M', 296, 'C_C2T'), ('chr14_27874367-2186', '177', 'pMSGV1_1G4_A_LY_RetroNYESO1', 1058, '150M', 300, 'C_C2T'), ('chr14_27874367-2186', '369', 'pMSGV1_1G4_A_LY_RetroNYESO1', 1418, '150M', 296, 'C_C2T')]\n",
      "2_pMSGV1_1G4_A_LY_RetroNYESO1 ('discord_1', 'chr14_27874367-2186', 'chr7_KI270803v1_alt', 814782, 296, 300)\n",
      "[('chr1_87526000-368', '433', 'chr7_KI270803v1_alt', 434941, '86M64S', 172, 'C_C2T'), ('chr1_87526000-368', '113', 'chr7_KI270803v1_alt', 814893, '150M', 300, 'C_C2T'), ('chr1_87526000-368', '177', 'pMSGV1_1G4_A_LY_RetroNYESO1', 1162, '150M', 300, 'C_C2T'), ('chr1_87526000-368', '369', 'pMSGV1_1G4_A_LY_RetroNYESO1', 1529, '150M', 300, 'C_C2T')]\n",
      "2_pMSGV1_1G4_A_LY_RetroNYESO1 ('discord_1', 'chr1_87526000-368', 'chr7_KI270803v1_alt', 814893, 300, 300)\n",
      "[('chr9_72224966-670', '369', 'chr7_KI270803v1_alt', 824069, '150M', 300, 'C_C2T'), ('chr9_72224966-670', '177', 'pMSGV1_1G4_A_LY_RetroNYESO1', 993, '150M', 296, 'C_C2T'), ('chr9_72224966-670', '113', 'pMSGV1_1G4_A_LY_RetroNYESO1', 1358, '150M', 300, 'C_C2T')]\n",
      "2_pMSGV1_1G4_A_LY_RetroNYESO1 ('discord_1', 'chr9_72224966-670', 'chr7_KI270803v1_alt', 824069, 300, 296)\n",
      "[('chr5_64175312-1570', '433', 'chr7_KI270803v1_alt', 824093, '150M', 300, 'C_C2T'), ('chr5_64175312-1570', '369', 'chr7_KI270803v1_alt', 825123, '64M1I12M73S', 137, 'C_C2T'), ('chr5_64175312-1570', '177', 'pMSGV1_1G4_A_LY_RetroNYESO1', 1382, '150M', 300, 'C_C2T'), ('chr5_64175312-1570', '113', 'pMSGV1_1G4_A_LY_RetroNYESO1', 1753, '150M', 300, 'C_C2T')]\n",
      "2_pMSGV1_1G4_A_LY_RetroNYESO1 ('discord_2', 'chr5_64175312-1570', 'chr7_KI270803v1_alt', 824243, 300, 300)\n",
      "[('chr9_72224966-2128', '177', 'chr7_KI270803v1_alt', 824110, '150M', 300, 'C_C2T'), ('chr9_72224966-2128', '433', 'pMSGV1_1G4_A_LY_RetroNYESO1', 1399, '150M', 300, 'C_C2T'), ('chr9_72224966-2128', '113', 'pMSGV1_1G4_A_LY_RetroNYESO1', 1762, '150M', 300, 'C_C2T')]\n",
      "2_pMSGV1_1G4_A_LY_RetroNYESO1 ('discord_2', 'chr9_72224966-2128', 'chr7_KI270803v1_alt', 824260, 300, 300)\n",
      "[('chr1_87526000-1232', '65', 'chr7_KI270803v1_alt', 824154, '150M', 300, 'W_C2T'), ('chr1_87526000-1232', '321', 'pMSGV1_1G4_A_LY_RetroNYESO1', 1443, '150M', 300, 'W_C2T'), ('chr1_87526000-1232', '129', 'pMSGV1_1G4_A_LY_RetroNYESO1', 1801, '150M', 300, 'W_C2T')]\n",
      "2_pMSGV1_1G4_A_LY_RetroNYESO1 ('discord_1', 'chr1_87526000-1232', 'chr7_KI270803v1_alt', 824154, 300, 300)\n",
      "[('chr3_26537931-1766', '177', 'chr7_KI270803v1_alt', 824167, '150M', 300, 'C_C2T'), ('chr3_26537931-1766', '433', 'pMSGV1_1G4_A_LY_RetroNYESO1', 1456, '150M', 300, 'C_C2T'), ('chr3_26537931-1766', '113', 'pMSGV1_1G4_A_LY_RetroNYESO1', 1818, '150M', 300, 'C_C2T')]\n",
      "2_pMSGV1_1G4_A_LY_RetroNYESO1 ('discord_2', 'chr3_26537931-1766', 'chr7_KI270803v1_alt', 824317, 300, 300)\n",
      "[('chr14_27874367-1726', '65', 'chr7_KI270803v1_alt', 824188, '150M', 300, 'W_C2T'), ('chr14_27874367-1726', '321', 'pMSGV1_1G4_A_LY_RetroNYESO1', 1477, '150M', 300, 'W_C2T'), ('chr14_27874367-1726', '129', 'pMSGV1_1G4_A_LY_RetroNYESO1', 1833, '150M', 300, 'W_C2T')]\n",
      "2_pMSGV1_1G4_A_LY_RetroNYESO1 ('discord_1', 'chr14_27874367-1726', 'chr7_KI270803v1_alt', 824188, 300, 300)\n",
      "[('chr22_48931668-2400', '321', 'chr14', 22052767, '34S116M', 232, 'W_C2T'), ('chr22_48931668-2400', '385', 'chr14', 22547508, '150M', 300, 'W_C2T'), ('chr22_48931668-2400', '65', 'pMSGV1_1G4_A_LY_RetroNYESO1', 15, '150M', 300, 'W_C2T'), ('chr22_48931668-2400', '129', 'pMSGV1_1G4_A_LY_RetroNYESO1', 405, '150M', 300, 'W_C2T')]\n",
      "3_pMSGV1_1G4_A_LY_RetroNYESO1 ('discord_2', 'chr22_48931668-2400', 'chr14', 22547658, 300, 300)\n",
      "[('chr22_48931668-1456', '321', 'chr14', 22052901, '150M', 300, 'W_C2T'), ('chr22_48931668-1456', '385', 'chr14', 22547643, '136M14S', 268, 'W_C2T'), ('chr22_48931668-1456', '65', 'pMSGV1_1G4_A_LY_RetroNYESO1', 183, '150M', 300, 'W_C2T'), ('chr22_48931668-1456', '129', 'pMSGV1_1G4_A_LY_RetroNYESO1', 540, '150M', 296, 'W_C2T')]\n",
      "3_pMSGV1_1G4_A_LY_RetroNYESO1 ('discord_1', 'chr22_48931668-1456', 'chr14', 22052901, 300, 296)\n",
      "[('chr11_88955952-2410', '433', 'chr14', 22052904, '150M', 300, 'C_C2T'), ('chr11_88955952-2410', '369', 'chr14', 22547650, '130M20S', 260, 'C_C2T'), ('chr11_88955952-2410', '177', 'pMSGV1_1G4_A_LY_RetroNYESO1', 186, '150M', 300, 'C_C2T'), ('chr11_88955952-2410', '113', 'pMSGV1_1G4_A_LY_RetroNYESO1', 547, '150M', 300, 'C_C2T')]\n",
      "3_pMSGV1_1G4_A_LY_RetroNYESO1 ('discord_2', 'chr11_88955952-2410', 'chr14', 22053054, 300, 300)\n",
      "[('chr11_88955952-1522', '177', 'chr14', 22547521, '150M', 300, 'C_C2T'), ('chr11_88955952-1522', '433', 'pMSGV1_1G4_A_LY_RetroNYESO1', 418, '150M', 300, 'C_C2T'), ('chr11_88955952-1522', '113', 'pMSGV1_1G4_A_LY_RetroNYESO1', 774, '150M', 300, 'C_C2T')]\n",
      "3_pMSGV1_1G4_A_LY_RetroNYESO1 ('discord_2', 'chr11_88955952-1522', 'chr14', 22547671, 300, 300)\n",
      "[('chr2_31927270-1340', '177', 'chr14', 22547527, '150M', 300, 'C_C2T'), ('chr2_31927270-1340', '369', 'chr7', 142451011, '109S41M', 82, 'C_C2T'), ('chr2_31927270-1340', '433', 'pMSGV1_1G4_A_LY_RetroNYESO1', 424, '150M', 300, 'C_C2T'), ('chr2_31927270-1340', '113', 'pMSGV1_1G4_A_LY_RetroNYESO1', 795, '150M', 300, 'C_C2T')]\n",
      "3_pMSGV1_1G4_A_LY_RetroNYESO1 ('discord_2', 'chr2_31927270-1340', 'chr14', 22547677, 300, 300)\n",
      "[('chr18_25477987-750', '321', 'chr14', 22547529, '150M', 296, 'W_C2T'), ('chr18_25477987-750', '65', 'pMSGV1_1G4_A_LY_RetroNYESO1', 426, '150M', 296, 'W_C2T'), ('chr18_25477987-750', '129', 'pMSGV1_1G4_A_LY_RetroNYESO1', 798, '150M', 300, 'W_C2T')]\n",
      "3_pMSGV1_1G4_A_LY_RetroNYESO1 ('discord_1', 'chr18_25477987-750', 'chr14', 22547529, 296, 300)\n",
      "[('chr17_21113972-1318', '321', 'chr14', 22547540, '150M', 296, 'W_C2T'), ('chr17_21113972-1318', '65', 'pMSGV1_1G4_A_LY_RetroNYESO1', 437, '150M', 296, 'W_C2T'), ('chr17_21113972-1318', '129', 'pMSGV1_1G4_A_LY_RetroNYESO1', 817, '150M', 300, 'W_C2T')]\n",
      "3_pMSGV1_1G4_A_LY_RetroNYESO1 ('discord_1', 'chr17_21113972-1318', 'chr14', 22547540, 296, 300)\n",
      "[('chr18_25477987-186', '321', 'chr14', 22547548, '150M', 300, 'W_C2T'), ('chr18_25477987-186', '65', 'pMSGV1_1G4_A_LY_RetroNYESO1', 445, '150M', 300, 'W_C2T'), ('chr18_25477987-186', '129', 'pMSGV1_1G4_A_LY_RetroNYESO1', 809, '150M', 300, 'W_C2T')]\n",
      "3_pMSGV1_1G4_A_LY_RetroNYESO1 ('discord_1', 'chr18_25477987-186', 'chr14', 22547548, 300, 300)\n",
      "[('chr22_48931668-1254', '65', 'chr14', 22547548, '150M', 300, 'W_C2T'), ('chr22_48931668-1254', '321', 'pMSGV1_1G4_A_LY_RetroNYESO1', 445, '150M', 300, 'W_C2T'), ('chr22_48931668-1254', '129', 'pMSGV1_1G4_A_LY_RetroNYESO1', 819, '150M', 295, 'W_C2T')]\n",
      "3_pMSGV1_1G4_A_LY_RetroNYESO1 ('discord_1', 'chr22_48931668-1254', 'chr14', 22547548, 300, 295)\n",
      "[('chr16_79135513-2382', '65', 'chr14', 22547551, '150M', 296, 'W_C2T'), ('chr16_79135513-2382', '321', 'pMSGV1_1G4_A_LY_RetroNYESO1', 448, '150M', 296, 'W_C2T'), ('chr16_79135513-2382', '129', 'pMSGV1_1G4_A_LY_RetroNYESO1', 806, '150M', 294, 'W_C2T')]\n",
      "3_pMSGV1_1G4_A_LY_RetroNYESO1 ('discord_1', 'chr16_79135513-2382', 'chr14', 22547551, 296, 294)\n",
      "[('chr18_54884231-1610', '433', 'chr14', 22547679, '101M49S', 202, 'C_C2T'), ('chr18_54884231-1610', '369', 'chr7_KI270803v1_alt', 434738, '150M', 293, 'C_C2T'), ('chr18_54884231-1610', '177', 'pMSGV1_1G4_A_LY_RetroNYESO1', 576, '150M', 300, 'C_C2T'), ('chr18_54884231-1610', '113', 'pMSGV1_1G4_A_LY_RetroNYESO1', 959, '150M', 293, 'C_C2T')]\n",
      "3_pMSGV1_1G4_A_LY_RetroNYESO1 ('discord_1', 'chr18_54884231-1610', 'chr7_KI270803v1_alt', 434738, 293, 300)\n",
      "[('chr17_21113972-2328', '433', 'chr7', 142451169, '144M6S', 280, 'C_C2T'), ('chr17_21113972-2328', '369', 'chr7_KI270803v1_alt', 824040, '150M', 300, 'C_C2T'), ('chr17_21113972-2328', '177', 'pMSGV1_1G4_A_LY_RetroNYESO1', 970, '150M', 292, 'C_C2T'), ('chr17_21113972-2328', '113', 'pMSGV1_1G4_A_LY_RetroNYESO1', 1329, '150M', 300, 'C_C2T')]\n",
      "3_pMSGV1_1G4_A_LY_RetroNYESO1 ('discord_1', 'chr17_21113972-2328', 'chr7_KI270803v1_alt', 824040, 300, 292)\n",
      "[('chr13_81821224-236', '433', 'chr7', 142451178, '150M', 272, 'C_C2T'), ('chr13_81821224-236', '369', 'chr7', 142801072, '150M', 295, 'C_C2T'), ('chr13_81821224-236', '177', 'pMSGV1_1G4_A_LY_RetroNYESO1', 979, '150M', 300, 'C_C2T'), ('chr13_81821224-236', '113', 'pMSGV1_1G4_A_LY_RetroNYESO1', 1334, '150M', 295, 'C_C2T')]\n",
      "3_pMSGV1_1G4_A_LY_RetroNYESO1 ('discord_1', 'chr13_81821224-236', 'chr7', 142801072, 295, 300)\n",
      "[('chr16_67727393-2036', '321', 'chr7', 142451263, '150M', 284, 'W_C2T'), ('chr16_67727393-2036', '385', 'chr7', 142801183, '150M', 300, 'W_C2T'), ('chr16_67727393-2036', '65', 'pMSGV1_1G4_A_LY_RetroNYESO1', 1064, '150M', 300, 'W_C2T'), ('chr16_67727393-2036', '129', 'pMSGV1_1G4_A_LY_RetroNYESO1', 1445, '150M', 300, 'W_C2T')]\n",
      "3_pMSGV1_1G4_A_LY_RetroNYESO1 ('discord_2', 'chr16_67727393-2036', 'chr7', 142801333, 300, 300)\n",
      "[('chr20_14797447-2250', '321', 'chr7', 142451276, '150M', 280, 'W_C2T'), ('chr20_14797447-2250', '129', 'chr7_KI270803v1_alt', 824154, '150M', 300, 'W_C2T'), ('chr20_14797447-2250', '65', 'pMSGV1_1G4_A_LY_RetroNYESO1', 1077, '150M', 296, 'W_C2T'), ('chr20_14797447-2250', '385', 'pMSGV1_1G4_A_LY_RetroNYESO1', 1443, '150M', 300, 'W_C2T')]\n",
      "3_pMSGV1_1G4_A_LY_RetroNYESO1 ('discord_2', 'chr20_14797447-2250', 'chr7_KI270803v1_alt', 824304, 300, 296)\n",
      "[('chr20_14797447-2272', '385', 'chr7', 142791912, '150M', 300, 'W_C2T'), ('chr20_14797447-2272', '321', 'chr7_KI270803v1_alt', 819534, '89S50M11S', 100, 'W_C2T'), ('chr20_14797447-2272', '65', 'pMSGV1_1G4_A_LY_RetroNYESO1', 1164, '150M', 300, 'W_C2T'), ('chr20_14797447-2272', '129', 'pMSGV1_1G4_A_LY_RetroNYESO1', 1521, '150M', 300, 'W_C2T')]\n",
      "3_pMSGV1_1G4_A_LY_RetroNYESO1 ('discord_2', 'chr20_14797447-2272', 'chr7', 142792062, 300, 300)\n",
      "[('chr18_54884231-1730', '433', 'chr7', 142801050, '150M', 300, 'C_C2T'), ('chr18_54884231-1730', '369', 'chr7', 142802104, '7S110M1I12M20S', 221, 'C_C2T'), ('chr18_54884231-1730', '177', 'pMSGV1_1G4_A_LY_RetroNYESO1', 1312, '150M', 300, 'C_C2T'), ('chr18_54884231-1730', '113', 'pMSGV1_1G4_A_LY_RetroNYESO1', 1700, '150M', 293, 'C_C2T')]\n",
      "3_pMSGV1_1G4_A_LY_RetroNYESO1 ('discord_2', 'chr18_54884231-1730', 'chr7', 142801200, 300, 293)\n",
      "[('chr12_106908988-294', '433', 'chr7', 142801068, '150M', 300, 'C_C2T'), ('chr12_106908988-294', '369', 'chr7', 142802104, '12S110M1I12M15S', 229, 'C_C2T'), ('chr12_106908988-294', '177', 'pMSGV1_1G4_A_LY_RetroNYESO1', 1330, '150M', 300, 'C_C2T'), ('chr12_106908988-294', '113', 'pMSGV1_1G4_A_LY_RetroNYESO1', 1695, '150M', 300, 'C_C2T')]\n",
      "3_pMSGV1_1G4_A_LY_RetroNYESO1 ('discord_2', 'chr12_106908988-294', 'chr7', 142801218, 300, 300)\n",
      "[('chr9_118554417-1832', '433', 'chr7', 142801154, '150M', 296, 'C_C2T'), ('chr9_118554417-1832', '177', 'pMSGV1_1G4_A_LY_RetroNYESO1', 1416, '150M', 296, 'C_C2T'), ('chr9_118554417-1832', '113', 'pMSGV1_1G4_A_LY_RetroNYESO1', 1826, '150M', 296, 'C_C2T')]\n",
      "3_pMSGV1_1G4_A_LY_RetroNYESO1 ('discord_2', 'chr9_118554417-1832', 'chr7', 142801304, 296, 296)\n",
      "[('chr13_81821224-1912', '65', 'chr7', 142801173, '150M', 300, 'W_C2T'), ('chr13_81821224-1912', '321', 'pMSGV1_1G4_A_LY_RetroNYESO1', 1435, '150M', 300, 'W_C2T'), ('chr13_81821224-1912', '129', 'pMSGV1_1G4_A_LY_RetroNYESO1', 1794, '150M', 300, 'W_C2T'), ('chr13_81821224-1912', '385', 'pMSGV1_1G4_A_LY_RetroNYESO1', 5564, '84S66M', 132, 'W_C2T')]\n",
      "3_pMSGV1_1G4_A_LY_RetroNYESO1 ('discord_1', 'chr13_81821224-1912', 'chr7', 142801173, 300, 300)\n",
      "[('chr20_14797447-1374', '177', 'chr7', 142801194, '150M', 292, 'C_C2T'), ('chr20_14797447-1374', '433', 'pMSGV1_1G4_A_LY_RetroNYESO1', 1456, '150M', 292, 'C_C2T'), ('chr20_14797447-1374', '113', 'pMSGV1_1G4_A_LY_RetroNYESO1', 1816, '150M', 296, 'C_C2T')]\n",
      "3_pMSGV1_1G4_A_LY_RetroNYESO1 ('discord_2', 'chr20_14797447-1374', 'chr7', 142801344, 292, 296)\n",
      "[('chr2_31927270-1472', '369', 'chr7', 142802143, '82M68S', 151, 'C_C2T'), ('chr2_31927270-1472', '177', 'chr7_KI270803v1_alt', 824104, '150M', 300, 'C_C2T'), ('chr2_31927270-1472', '433', 'pMSGV1_1G4_A_LY_RetroNYESO1', 1393, '150M', 300, 'C_C2T'), ('chr2_31927270-1472', '113', 'pMSGV1_1G4_A_LY_RetroNYESO1', 1746, '150M', 300, 'C_C2T')]\n",
      "3_pMSGV1_1G4_A_LY_RetroNYESO1 ('discord_2', 'chr2_31927270-1472', 'chr7_KI270803v1_alt', 824254, 300, 300)\n",
      "[('chr16_67727393-1806', '433', 'chr7_KI270803v1_alt', 434810, '150M', 272, 'C_C2T'), ('chr16_67727393-1806', '369', 'chr7_KI270803v1_alt', 824096, '150M', 300, 'C_C2T'), ('chr16_67727393-1806', '177', 'pMSGV1_1G4_A_LY_RetroNYESO1', 1031, '150M', 300, 'C_C2T'), ('chr16_67727393-1806', '113', 'pMSGV1_1G4_A_LY_RetroNYESO1', 1385, '150M', 300, 'C_C2T')]\n",
      "3_pMSGV1_1G4_A_LY_RetroNYESO1 ('discord_1', 'chr16_67727393-1806', 'chr7_KI270803v1_alt', 824096, 300, 300)\n",
      "[('chr5_135346234-1562', '321', 'chr7_KI270803v1_alt', 434842, '150M', 286, 'W_C2T'), ('chr5_135346234-1562', '385', 'chr7_KI270803v1_alt', 824145, '150M', 296, 'W_C2T'), ('chr5_135346234-1562', '65', 'pMSGV1_1G4_A_LY_RetroNYESO1', 1063, '150M', 300, 'W_C2T'), ('chr5_135346234-1562', '129', 'pMSGV1_1G4_A_LY_RetroNYESO1', 1434, '150M', 296, 'W_C2T')]\n",
      "3_pMSGV1_1G4_A_LY_RetroNYESO1 ('discord_2', 'chr5_135346234-1562', 'chr7_KI270803v1_alt', 824295, 296, 300)\n",
      "[('chr13_94100824-2444', '433', 'chr7_KI270803v1_alt', 434873, '150M', 269, 'C_C2T'), ('chr13_94100824-2444', '369', 'chr7_KI270803v1_alt', 814834, '150M', 300, 'C_C2T'), ('chr13_94100824-2444', '177', 'pMSGV1_1G4_A_LY_RetroNYESO1', 1094, '150M', 300, 'C_C2T'), ('chr13_94100824-2444', '113', 'pMSGV1_1G4_A_LY_RetroNYESO1', 1470, '150M', 300, 'C_C2T')]\n",
      "3_pMSGV1_1G4_A_LY_RetroNYESO1 ('discord_1', 'chr13_94100824-2444', 'chr7_KI270803v1_alt', 814834, 300, 300)\n",
      "[('chr17_56038310-164', '65', 'chr7_KI270803v1_alt', 814850, '150M', 300, 'W_C2T'), ('chr17_56038310-164', '321', 'pMSGV1_1G4_A_LY_RetroNYESO1', 1486, '150M', 300, 'W_C2T'), ('chr17_56038310-164', '129', 'pMSGV1_1G4_A_LY_RetroNYESO1', 1846, '150M', 300, 'W_C2T')]\n",
      "3_pMSGV1_1G4_A_LY_RetroNYESO1 ('discord_1', 'chr17_56038310-164', 'chr7_KI270803v1_alt', 814850, 300, 300)\n",
      "[('chr1_144089171-930', '433', 'chr7_KI270803v1_alt', 814878, '150M', 300, 'C_C2T'), ('chr1_144089171-930', '177', 'pMSGV1_1G4_A_LY_RetroNYESO1', 1514, '150M', 300, 'C_C2T'), ('chr1_144089171-930', '113', 'pMSGV1_1G4_A_LY_RetroNYESO1', 1867, '150M', 296, 'C_C2T')]\n",
      "3_pMSGV1_1G4_A_LY_RetroNYESO1 ('discord_2', 'chr1_144089171-930', 'chr7_KI270803v1_alt', 815028, 300, 296)\n",
      "[('chr17_56038310-1748', '177', 'chr7_KI270803v1_alt', 824030, '150M', 300, 'C_C2T'), ('chr17_56038310-1748', '369', 'chr7_KI270803v1_alt', 825081, '106M1I12M31S', 221, 'C_C2T'), ('chr17_56038310-1748', '433', 'pMSGV1_1G4_A_LY_RetroNYESO1', 1319, '150M', 300, 'C_C2T'), ('chr17_56038310-1748', '113', 'pMSGV1_1G4_A_LY_RetroNYESO1', 1711, '150M', 300, 'C_C2T')]\n",
      "3_pMSGV1_1G4_A_LY_RetroNYESO1 ('discord_2', 'chr17_56038310-1748', 'chr7_KI270803v1_alt', 824180, 300, 300)\n",
      "[('chr20_14797447-82', '177', 'chr7_KI270803v1_alt', 824097, '150M', 300, 'C_C2T'), ('chr20_14797447-82', '369', 'chr7_KI270803v1_alt', 825108, '90M60S', 167, 'C_C2T'), ('chr20_14797447-82', '433', 'pMSGV1_1G4_A_LY_RetroNYESO1', 1386, '150M', 300, 'C_C2T'), ('chr20_14797447-82', '113', 'pMSGV1_1G4_A_LY_RetroNYESO1', 1738, '150M', 300, 'C_C2T')]\n",
      "3_pMSGV1_1G4_A_LY_RetroNYESO1 ('discord_2', 'chr20_14797447-82', 'chr7_KI270803v1_alt', 824247, 300, 300)\n",
      "[('chr18_25477987-1280', '177', 'chr7_KI270803v1_alt', 824126, '150M', 296, 'C_C2T'), ('chr18_25477987-1280', '433', 'pMSGV1_1G4_A_LY_RetroNYESO1', 1415, '150M', 296, 'C_C2T'), ('chr18_25477987-1280', '113', 'pMSGV1_1G4_A_LY_RetroNYESO1', 1802, '150M', 300, 'C_C2T')]\n",
      "3_pMSGV1_1G4_A_LY_RetroNYESO1 ('discord_2', 'chr18_25477987-1280', 'chr7_KI270803v1_alt', 824276, 296, 300)\n",
      "[('chr13_94100824-174', '433', 'chr7_KI270803v1_alt', 824191, '150M', 300, 'C_C2T'), ('chr13_94100824-174', '177', 'pMSGV1_1G4_A_LY_RetroNYESO1', 1480, '150M', 300, 'C_C2T'), ('chr13_94100824-174', '113', 'pMSGV1_1G4_A_LY_RetroNYESO1', 1835, '150M', 300, 'C_C2T')]\n",
      "3_pMSGV1_1G4_A_LY_RetroNYESO1 ('discord_2', 'chr13_94100824-174', 'chr7_KI270803v1_alt', 824341, 300, 300)\n",
      "[('chr11_88955952-2290', '321', 'chr7_KI270803v1_alt', 824216, '150M', 300, 'W_C2T'), ('chr11_88955952-2290', '65', 'pMSGV1_1G4_A_LY_RetroNYESO1', 1505, '150M', 300, 'W_C2T'), ('chr11_88955952-2290', '385', 'pMSGV1_1G4_A_LY_RetroNYESO1', 1858, '150M', 300, 'W_C2T')]\n",
      "3_pMSGV1_1G4_A_LY_RetroNYESO1 ('discord_1', 'chr11_88955952-2290', 'chr7_KI270803v1_alt', 824216, 300, 300)\n",
      "\n"
     ]
    }
   ],
   "source": [
    "test_processor = ProcessVectorSpanningReads(read_uniqueness_threshold=1.2, read_mapping_threshold=0.7,\n",
    "                                            multibase_threshold=0.2)\n",
    "\n",
    "good_call = 0\n",
    "bad_call = 0\n",
    "\n",
    "for sim_label in tqdm(simulation_integration_parameters):\n",
    "    vector = '_'.join(sim_label.split('_')[1:])\n",
    "    for read_label, read_group in sample_spanning_reads[sim_label].items():\n",
    "        control_info = integration_reads[sim_label].get(read_label, False)\n",
    "        called_int = test_processor.get_integration_sites(read_group, vector=vector)\n",
    "        if control_info and called_int:\n",
    "            good_call += 1\n",
    "        elif not control_info and called_int:\n",
    "            print(read_group)\n",
    "            print(sim_label, called_int)\n",
    "            bad_call += 1"
   ]
  },
  {
   "cell_type": "code",
   "execution_count": 327,
   "metadata": {},
   "outputs": [
    {
     "data": {
      "text/plain": [
       "2620"
      ]
     },
     "execution_count": 327,
     "metadata": {},
     "output_type": "execute_result"
    }
   ],
   "source": [
    "good_call"
   ]
  },
  {
   "cell_type": "code",
   "execution_count": 328,
   "metadata": {},
   "outputs": [
    {
     "data": {
      "text/plain": [
       "7611"
      ]
     },
     "execution_count": 328,
     "metadata": {},
     "output_type": "execute_result"
    }
   ],
   "source": [
    "sum([len(x) for x in integration_reads.values()])"
   ]
  },
  {
   "cell_type": "code",
   "execution_count": 329,
   "metadata": {},
   "outputs": [
    {
     "data": {
      "text/plain": [
       "60"
      ]
     },
     "execution_count": 329,
     "metadata": {},
     "output_type": "execute_result"
    }
   ],
   "source": [
    "bad_call"
   ]
  },
  {
   "cell_type": "code",
   "execution_count": null,
   "metadata": {},
   "outputs": [],
   "source": []
  }
 ],
 "metadata": {
  "kernelspec": {
   "display_name": "Python 3",
   "language": "python",
   "name": "python3"
  },
  "language_info": {
   "codemirror_mode": {
    "name": "ipython",
    "version": 3
   },
   "file_extension": ".py",
   "mimetype": "text/x-python",
   "name": "python",
   "nbconvert_exporter": "python",
   "pygments_lexer": "ipython3",
   "version": "3.7.4"
  }
 },
 "nbformat": 4,
 "nbformat_minor": 4
}
