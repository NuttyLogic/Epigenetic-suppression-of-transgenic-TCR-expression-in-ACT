{
 "cells": [
  {
   "cell_type": "markdown",
   "metadata": {},
   "source": [
    "# Generate MART and NYES Vector Integration Libraries\n",
    "- randomly insert vector into location in the genome\n",
    "- simulate PE reads using BSBolt\n",
    "- align and try to detect vector integration "
   ]
  },
  {
   "cell_type": "markdown",
   "metadata": {},
   "source": [
    "## Notebook Setup"
   ]
  },
  {
   "cell_type": "code",
   "execution_count": 30,
   "metadata": {},
   "outputs": [],
   "source": [
    "import gzip\n",
    "import io\n",
    "import os \n",
    "import random\n",
    "import subprocess\n",
    "import urllib.request\n",
    "import numpy as np\n",
    "from tqdm import tqdm_notebook as tqdm"
   ]
  },
  {
   "cell_type": "code",
   "execution_count": 38,
   "metadata": {},
   "outputs": [],
   "source": [
    "# simulate methylation sequencing data\n",
    "from BSBolt.Align.AlignmentHelpers import convert_alpha_numeric_cigar, get_mapping_length\n",
    "from BSBolt.Index.WholeGenomeBuild import WholeGenomeIndexBuild\n",
    "from BSBolt.Simulate.SimulateMethylatedReads import SimulateMethylatedReads\n",
    "from BSBolt.Utils.UtilityFunctions import get_external_paths\n",
    "from IntegrationSiteSearch.DetectIntegration import ProcessVectorSpanningReads\n",
    "from IntegrationSiteSearch.IntegrationUtils import get_spanning_reads"
   ]
  },
  {
   "cell_type": "code",
   "execution_count": 10,
   "metadata": {},
   "outputs": [],
   "source": [
    "bt2_path, art_path = get_external_paths()"
   ]
  },
  {
   "cell_type": "code",
   "execution_count": 11,
   "metadata": {},
   "outputs": [],
   "source": [
    "pwd = os.getcwd() + '/'"
   ]
  },
  {
   "cell_type": "code",
   "execution_count": 12,
   "metadata": {},
   "outputs": [],
   "source": [
    "ucsc_hg38 = 'https://hgdownload.soe.ucsc.edu/goldenPath/hg38/bigZips/hg38.fa.gz'"
   ]
  },
  {
   "cell_type": "code",
   "execution_count": 13,
   "metadata": {},
   "outputs": [],
   "source": [
    "if not os.path.exists(f'{pwd}SimulationData/hg38.fa.gz'):\n",
    "    urllib.request.urlretrieve(ucsc_hg38, f'{pwd}SimulationData/hg38.fa.gz')"
   ]
  },
  {
   "cell_type": "markdown",
   "metadata": {},
   "source": [
    "## Import Sequence Data"
   ]
  },
  {
   "cell_type": "code",
   "execution_count": 14,
   "metadata": {},
   "outputs": [],
   "source": [
    "# get hg38 reference with lambda phage control attached\n",
    "\n",
    "hg38 = {}\n",
    "\n",
    "with gzip.open(f'{pwd}SimulationData/hg38.fa.gz') as genome:\n",
    "    contig_seq = ''\n",
    "    chrom = None\n",
    "    for line in io.BufferedReader(genome):\n",
    "        processed_line = line.decode('utf-8').strip()\n",
    "        if '>' == processed_line[0]:\n",
    "            if chrom:\n",
    "                hg38[chrom] = contig_seq\n",
    "            contig_seq = ''\n",
    "            chrom = processed_line[1:]\n",
    "        else:\n",
    "            contig_seq = contig_seq + processed_line\n",
    "    hg38[chrom] = contig_seq"
   ]
  },
  {
   "cell_type": "code",
   "execution_count": 15,
   "metadata": {},
   "outputs": [],
   "source": [
    "# import NYES and Mart vector sequences \n",
    "mart1 = 'pMSGV1-MART1TCR.txt'\n",
    "nyes =  'pMSGV1-1G4_A_LY_RetroNYESO1.txt'"
   ]
  },
  {
   "cell_type": "code",
   "execution_count": 16,
   "metadata": {},
   "outputs": [],
   "source": [
    "vector_seq = {}\n",
    "\n",
    "for vector in [mart1, nyes]:\n",
    "    vector_label = vector.replace('-', '_').replace('.txt', '')\n",
    "    seq = ''\n",
    "    with open(f'{pwd}SimulationData/{vector}', 'r') as vec_seq:\n",
    "        for line in vec_seq:\n",
    "            processed_line = line.strip().replace(' ', '')\n",
    "            seq = seq + ''.join([base for base in processed_line if not base.isdigit()])\n",
    "    vector_seq[vector_label] = seq\n",
    "    "
   ]
  },
  {
   "cell_type": "code",
   "execution_count": 17,
   "metadata": {},
   "outputs": [],
   "source": [
    "if not os.path.exists(f'{pwd}SimulationData/hg38_sim.fa'):\n",
    "    out = open(f'{pwd}SimulationData/hg38_sim.fa', 'w')\n",
    "    for chrom, seq in tqdm(hg38.items()):\n",
    "        out.write(f'>{chrom}\\n')\n",
    "        out.write(f'{seq}\\n')\n",
    "    for chrom, seq in vector_seq.items():\n",
    "        out.write(f'>{chrom}\\n')\n",
    "        out.write(f'{seq}\\n')\n",
    "    out.close()"
   ]
  },
  {
   "cell_type": "markdown",
   "metadata": {},
   "source": [
    "## Simulated vector integration libraries\n",
    "- select the number of integration events\n",
    "- select random integration sites\n",
    "- generate 2 mart and 2 nyes datasets"
   ]
  },
  {
   "cell_type": "code",
   "execution_count": 18,
   "metadata": {},
   "outputs": [],
   "source": [
    "integration_events = [events + 15 for events in range(10)]"
   ]
  },
  {
   "cell_type": "code",
   "execution_count": 19,
   "metadata": {},
   "outputs": [],
   "source": [
    "vector_integration_samples = ['pMSGV1_MART1TCR', 'pMSGV1_MART1TCR', 'pMSGV1_MART1TCR', 'pMSGV1_1G4_A_LY_RetroNYESO1', 'pMSGV1_1G4_A_LY_RetroNYESO1', 'pMSGV1_1G4_A_LY_RetroNYESO1']"
   ]
  },
  {
   "cell_type": "code",
   "execution_count": 20,
   "metadata": {},
   "outputs": [],
   "source": [
    "simulation_integration_parameters = {}\n",
    "\n",
    "for count, vector in enumerate(vector_integration_samples):\n",
    "    sim_label = f'{count}_{vector}'\n",
    "    int_events = random.sample(integration_events, 1)[0]\n",
    "    integration_locations = []\n",
    "    integration_sequences = []\n",
    "    while len(integration_locations) < int_events:\n",
    "        int_chrom = random.sample(list(hg38.keys()), 1)[0]\n",
    "        if len(int_chrom) > 5 or not int_chrom[-1].isdigit():\n",
    "            continue\n",
    "        # get chromosome sequence\n",
    "        chrom_seq = hg38[int_chrom]\n",
    "        # select simulation position \n",
    "        int_pos = random.randint(0, len(chrom_seq))\n",
    "        # retrieve integration position \n",
    "        left_seq = chrom_seq[int_pos - 1000: int_pos]\n",
    "        right_seq = chrom_seq[int_pos: int_pos + 1000]\n",
    "        integration_seq = left_seq + vector_seq[vector] + right_seq\n",
    "        if 'N' in integration_seq or 'n' in integration_seq:\n",
    "            continue\n",
    "        integration_sequences.append(integration_seq)\n",
    "        # save location\n",
    "        integration_locations.append((int_chrom, int_pos))\n",
    "    simulation_integration_parameters[sim_label] = integration_locations\n",
    "    with open(f'{pwd}SimulationData/{sim_label}.fa', 'w') as sim:\n",
    "        for location, seq in zip(integration_locations, integration_sequences):\n",
    "            sim.write(f'>{location[0]}_{location[1]}\\n')\n",
    "            sim.write(f'{seq}\\n')\n"
   ]
  },
  {
   "cell_type": "code",
   "execution_count": 21,
   "metadata": {},
   "outputs": [],
   "source": [
    "def make_directory(directory_path):\n",
    "    try:\n",
    "        os.makedirs(directory_path, exist_ok=False)\n",
    "    except FileExistsError:\n",
    "        return None"
   ]
  },
  {
   "cell_type": "code",
   "execution_count": 22,
   "metadata": {},
   "outputs": [],
   "source": [
    "simulation_output = f'{pwd}SimulationData/IntegrationSim/'\n",
    "make_directory(simulation_output)"
   ]
  },
  {
   "cell_type": "code",
   "execution_count": 23,
   "metadata": {},
   "outputs": [
    {
     "name": "stdout",
     "output_type": "stream",
     "text": [
      "Setting Cytosine Methylation\n",
      "Simulating Illumina Reads\n",
      "Simulating Methylated Illumina Reads\n",
      "Finished Simulation\n",
      "Setting Cytosine Methylation\n",
      "Simulating Illumina Reads\n",
      "Simulating Methylated Illumina Reads\n",
      "Finished Simulation\n",
      "Setting Cytosine Methylation\n",
      "Simulating Illumina Reads\n",
      "Simulating Methylated Illumina Reads\n",
      "Finished Simulation\n",
      "Setting Cytosine Methylation\n",
      "Simulating Illumina Reads\n",
      "Simulating Methylated Illumina Reads\n",
      "Finished Simulation\n",
      "Setting Cytosine Methylation\n",
      "Simulating Illumina Reads\n",
      "Simulating Methylated Illumina Reads\n",
      "Finished Simulation\n",
      "Setting Cytosine Methylation\n",
      "Simulating Illumina Reads\n",
      "Simulating Methylated Illumina Reads\n",
      "Finished Simulation\n"
     ]
    }
   ],
   "source": [
    "for sim_label in simulation_integration_parameters:\n",
    "    meth_sim = SimulateMethylatedReads(reference_file=f'{pwd}SimulationData/{sim_label}.fa',\n",
    "                                       art_path=art_path, \n",
    "                                       output_path=f'{simulation_output}{sim_label}',\n",
    "                                       paired_end=True,\n",
    "                                       read_length=150,\n",
    "                                       read_depth=40,\n",
    "                                       insertion_rate1=0.000, insertion_rate2=0.000,\n",
    "                                       deletion_rate1=0.000, deletion_rate2=0.000,\n",
    "                                       undirectional=False,\n",
    "                                       pe_fragment_size=500)\n",
    "    meth_sim.run_simulation()"
   ]
  },
  {
   "cell_type": "code",
   "execution_count": 24,
   "metadata": {},
   "outputs": [],
   "source": [
    "simulation_index = f'{pwd}SimulationData/SimulationIndex/'\n",
    "if not os.path.exists(simulation_index):\n",
    "    sim_index = WholeGenomeIndexBuild(reference_file=f'{pwd}SimulationData/hg38_sim.fa', genome_database=simulation_index, bowtie2_path=bt2_path, bowtie2_threads=10)\n",
    "    sim_index.generate_bsb_database()"
   ]
  },
  {
   "cell_type": "markdown",
   "metadata": {},
   "source": [
    "## Get control mapping sites for all reads\n",
    "- get simulated mapping locations\n",
    "- indentfiy simulated reads the span integration sites"
   ]
  },
  {
   "cell_type": "code",
   "execution_count": 25,
   "metadata": {},
   "outputs": [],
   "source": [
    "def sam_iterator(sam_file):\n",
    "    with open(sam_file, 'r') as sam:\n",
    "        while True:\n",
    "            line1 = sam.readline()\n",
    "            if not line1.strip():\n",
    "                break\n",
    "            if line1[0] == '@':\n",
    "                continue\n",
    "            line2 = sam.readline()\n",
    "            yield line1.strip().split('\\t'), line2.strip().split('\\t')"
   ]
  },
  {
   "cell_type": "code",
   "execution_count": 26,
   "metadata": {},
   "outputs": [],
   "source": [
    "def assess_overlap(span, pos):\n",
    "    if span[0] < pos < span[1]:\n",
    "        return True\n",
    "    return False"
   ]
  },
  {
   "cell_type": "code",
   "execution_count": 27,
   "metadata": {},
   "outputs": [
    {
     "data": {
      "application/vnd.jupyter.widget-view+json": {
       "model_id": "3777562149024d429fd9490fc3aa690d",
       "version_major": 2,
       "version_minor": 0
      },
      "text/plain": [
       "HBox(children=(IntProgress(value=0, max=6), HTML(value='')))"
      ]
     },
     "metadata": {},
     "output_type": "display_data"
    },
    {
     "name": "stdout",
     "output_type": "stream",
     "text": [
      "\n"
     ]
    }
   ],
   "source": [
    "integration_reads = {sim_label: {} for sim_label in simulation_integration_parameters}\n",
    "\n",
    "for sim_label in tqdm(simulation_integration_parameters):\n",
    "    # need vector length to get the left and right vector boundaries \n",
    "    vector_length = len(vector_seq['_'.join(sim_label.split('_')[1:])])\n",
    "    for line in sam_iterator(f'{simulation_output}{sim_label}.sam'):\n",
    "        read_len_1 = get_mapping_length(convert_alpha_numeric_cigar(line[0][5]))\n",
    "        read_len_2 = get_mapping_length(convert_alpha_numeric_cigar(line[1][5]))\n",
    "        assert line[0][0] == line[1][0]\n",
    "        assert line[0][2] == line[1][2]\n",
    "        # normalize coordinates and convert types\n",
    "        chromosome, vector_pos = line[0][2].split('_')\n",
    "        vector_pos = int(vector_pos)\n",
    "        read_1_pos = int(line[0][3])\n",
    "        read_2_pos = int(line[1][3])\n",
    "        read_span = [read_1_pos, read_2_pos + read_len_2]\n",
    "        if line[0][1] == '83':\n",
    "            read_span = [read_2_pos, read_1_pos + read_len_1]\n",
    "        assert read_span[0] < read_span[1]\n",
    "        vector_spans = (assess_overlap(read_span, 1000), assess_overlap(read_span, 1000 + vector_length))\n",
    "        assert sum(vector_spans) <= 1\n",
    "        if any(vector_spans):\n",
    "            vector_boundary = 1000 if vector_spans[0] else 1000 + vector_length\n",
    "            integration_label = None\n",
    "            vector_label = None\n",
    "            if assess_overlap((read_1_pos, read_1_pos + read_len_1), vector_boundary):\n",
    "                vector_label = ('split_1', chromosome, vector_pos, read_1_pos - vector_boundary)\n",
    "            elif assess_overlap((read_2_pos, read_2_pos + read_len_2), vector_boundary):\n",
    "                vector_label = ('split_2', chromosome, vector_pos, read_2_pos - vector_boundary)\n",
    "            else:\n",
    "                if assess_overlap((1000, 1000 + vector_length), read_1_pos):\n",
    "                    vector_label = ('discordant_1', chromosome, vector_pos, read_1_pos - vector_boundary, read_2_pos - vector_boundary)\n",
    "                else:\n",
    "                    vector_label = ('discordant_2', chromosome, vector_pos, read_1_pos - vector_boundary, read_2_pos - vector_boundary) \n",
    "            if vector_label:\n",
    "                integration_reads[sim_label][line[0][0]] = vector_label"
   ]
  },
  {
   "cell_type": "code",
   "execution_count": 28,
   "metadata": {},
   "outputs": [
    {
     "data": {
      "text/plain": [
       "[2563, 3282, 2198, 2032, 2185, 2484]"
      ]
     },
     "execution_count": 28,
     "metadata": {},
     "output_type": "execute_result"
    }
   ],
   "source": [
    "[len(x) for x in integration_reads.values()]"
   ]
  },
  {
   "cell_type": "markdown",
   "metadata": {},
   "source": [
    "Some Bowtie 2 options specify a function rather than an individual number or setting. In these cases the user specifies three parameters: (a) a function type F, (b) a constant term B, and (c) a coefficient A. The available function types are constant (C), linear (L), square-root (S), and natural log (G). The parameters are specified as F,B,A - that is, the function type, the constant term, and the coefficient are separated by commas with no whitespace. The constant term and coefficient may be negative and/or floating-point numbers.\n",
    "\n",
    "For example, if the function specification is L,-0.4,-0.6, then the function defined is:\n",
    "\n",
    "f(x) = -0.4 + -0.6 * x\n",
    "\n",
    "If the function specification is G,1,5.4, then the function defined is:\n",
    "\n",
    "f(x) = 1.0 + 5.4 * ln(x)"
   ]
  },
  {
   "cell_type": "code",
   "execution_count": 31,
   "metadata": {},
   "outputs": [
    {
     "data": {
      "text/plain": [
       "80.08508235277004"
      ]
     },
     "execution_count": 31,
     "metadata": {},
     "output_type": "execute_result"
    }
   ],
   "source": [
    "40 + 8 * np.log(150)"
   ]
  },
  {
   "cell_type": "markdown",
   "metadata": {},
   "source": [
    "## Align Simulated Bisulfite Sequencing Data\n",
    "- align simulated data with different minimun alignment scores "
   ]
  },
  {
   "cell_type": "code",
   "execution_count": 32,
   "metadata": {},
   "outputs": [],
   "source": [
    "score_min = ['40', '80', '120', '160', '200', '240', '280']"
   ]
  },
  {
   "cell_type": "code",
   "execution_count": 33,
   "metadata": {},
   "outputs": [],
   "source": [
    "test_min = 'G,40,8'"
   ]
  },
  {
   "cell_type": "code",
   "execution_count": 35,
   "metadata": {},
   "outputs": [
    {
     "data": {
      "application/vnd.jupyter.widget-view+json": {
       "model_id": "a2f73a3da2f34737bfb830a1a573fa7a",
       "version_major": 2,
       "version_minor": 0
      },
      "text/plain": [
       "HBox(children=(IntProgress(value=0, max=7), HTML(value='')))"
      ]
     },
     "metadata": {},
     "output_type": "display_data"
    },
    {
     "name": "stdout",
     "output_type": "stream",
     "text": [
      "\n"
     ]
    }
   ],
   "source": [
    "# Align simulated data\n",
    "\n",
    "sim_alignment_stats = {}\n",
    "for min_score in tqdm(score_min):\n",
    "    for sim_label in simulation_integration_parameters:\n",
    "        bsbolt_alignment_command = ['python3', '-m', 'BSBolt', 'Align', '-BT2-p', '10', '-F1', f'{simulation_output}{sim_label}_meth_1.fastq', '-F2', f'{simulation_output}{sim_label}_meth_2.fastq',\n",
    "                                    '-O', f'{simulation_output}{sim_label}_{min_score}', '-BT2-local', '-DB', simulation_index, '-discord', '-BT2-score-min', f'L,{min_score},0', '-S', '-BT2-X', '700']\n",
    "        sim_align = subprocess.Popen(bsbolt_alignment_command, stdout=subprocess.PIPE, universal_newlines=True)\n",
    "        alignment_stats = []\n",
    "        for line in iter(sim_align.stdout.readline, ''):\n",
    "            alignment_stats.append(line)\n",
    "        sim_alignment_stats[f'{sim_label}_{min_score}'] = alignment_stats"
   ]
  },
  {
   "cell_type": "code",
   "execution_count": 67,
   "metadata": {},
   "outputs": [
    {
     "data": {
      "text/plain": [
       "\u001b[0;31mSignature:\u001b[0m  \u001b[0mget_spanning_reads\u001b[0m\u001b[0;34m(\u001b[0m\u001b[0mfile_path\u001b[0m\u001b[0;34m:\u001b[0m \u001b[0mstr\u001b[0m \u001b[0;34m=\u001b[0m \u001b[0;32mNone\u001b[0m\u001b[0;34m,\u001b[0m \u001b[0mplasmid_names\u001b[0m\u001b[0;34m:\u001b[0m \u001b[0mset\u001b[0m \u001b[0;34m=\u001b[0m \u001b[0;32mNone\u001b[0m\u001b[0;34m)\u001b[0m \u001b[0;34m->\u001b[0m \u001b[0mdict\u001b[0m\u001b[0;34m\u001b[0m\u001b[0;34m\u001b[0m\u001b[0m\n",
       "\u001b[0;31mDocstring:\u001b[0m <no docstring>\n",
       "\u001b[0;31mSource:\u001b[0m   \n",
       "\u001b[0;32mdef\u001b[0m \u001b[0mget_spanning_reads\u001b[0m\u001b[0;34m(\u001b[0m\u001b[0mfile_path\u001b[0m\u001b[0;34m:\u001b[0m \u001b[0mstr\u001b[0m \u001b[0;34m=\u001b[0m \u001b[0;32mNone\u001b[0m\u001b[0;34m,\u001b[0m \u001b[0mplasmid_names\u001b[0m\u001b[0;34m:\u001b[0m \u001b[0mset\u001b[0m \u001b[0;34m=\u001b[0m \u001b[0;32mNone\u001b[0m\u001b[0;34m)\u001b[0m \u001b[0;34m->\u001b[0m \u001b[0mdict\u001b[0m\u001b[0;34m:\u001b[0m\u001b[0;34m\u001b[0m\n",
       "\u001b[0;34m\u001b[0m    \u001b[0mmapped_reads\u001b[0m \u001b[0;34m=\u001b[0m \u001b[0;34m{\u001b[0m\u001b[0;34m}\u001b[0m\u001b[0;34m\u001b[0m\n",
       "\u001b[0;34m\u001b[0m    \u001b[0;32mfor\u001b[0m \u001b[0msam_read\u001b[0m \u001b[0;32min\u001b[0m \u001b[0mstream_mapped_reads\u001b[0m\u001b[0;34m(\u001b[0m\u001b[0mfile_path\u001b[0m\u001b[0;34m,\u001b[0m \u001b[0mincluded_flag\u001b[0m\u001b[0;34m=\u001b[0m\u001b[0;36m4\u001b[0m\u001b[0;34m)\u001b[0m\u001b[0;34m:\u001b[0m\u001b[0;34m\u001b[0m\n",
       "\u001b[0;34m\u001b[0m        \u001b[0mQNAME\u001b[0m\u001b[0;34m,\u001b[0m \u001b[0mFLAG\u001b[0m\u001b[0;34m,\u001b[0m \u001b[0mRNAME\u001b[0m\u001b[0;34m,\u001b[0m \u001b[0mRNEXT\u001b[0m\u001b[0;34m,\u001b[0m \u001b[0mPOS\u001b[0m\u001b[0;34m,\u001b[0m \u001b[0mCIGAR\u001b[0m\u001b[0;34m,\u001b[0m \u001b[0malignment_score\u001b[0m\u001b[0;34m,\u001b[0m \u001b[0mmapping_reference\u001b[0m \u001b[0;34m=\u001b[0m \u001b[0msam_read\u001b[0m\u001b[0;34m\u001b[0m\n",
       "\u001b[0;34m\u001b[0m        \u001b[0mplasmid_read\u001b[0m \u001b[0;34m=\u001b[0m \u001b[0mRNAME\u001b[0m \u001b[0;32min\u001b[0m \u001b[0mplasmid_names\u001b[0m\u001b[0;34m\u001b[0m\n",
       "\u001b[0;34m\u001b[0m        \u001b[0;32mif\u001b[0m \u001b[0mQNAME\u001b[0m \u001b[0;32mnot\u001b[0m \u001b[0;32min\u001b[0m \u001b[0mmapped_reads\u001b[0m\u001b[0;34m:\u001b[0m\u001b[0;34m\u001b[0m\n",
       "\u001b[0;34m\u001b[0m            \u001b[0mmapped_reads\u001b[0m\u001b[0;34m[\u001b[0m\u001b[0mQNAME\u001b[0m\u001b[0;34m]\u001b[0m \u001b[0;34m=\u001b[0m \u001b[0;34m[\u001b[0m\u001b[0;34m[\u001b[0m\u001b[0msam_read\u001b[0m\u001b[0;34m]\u001b[0m\u001b[0;34m,\u001b[0m \u001b[0mplasmid_read\u001b[0m\u001b[0;34m]\u001b[0m\u001b[0;34m\u001b[0m\n",
       "\u001b[0;34m\u001b[0m        \u001b[0;32melse\u001b[0m\u001b[0;34m:\u001b[0m\u001b[0;34m\u001b[0m\n",
       "\u001b[0;34m\u001b[0m            \u001b[0;32mif\u001b[0m \u001b[0mplasmid_read\u001b[0m\u001b[0;34m:\u001b[0m\u001b[0;34m\u001b[0m\n",
       "\u001b[0;34m\u001b[0m                \u001b[0mmapped_reads\u001b[0m\u001b[0;34m[\u001b[0m\u001b[0mQNAME\u001b[0m\u001b[0;34m]\u001b[0m\u001b[0;34m[\u001b[0m\u001b[0;36m0\u001b[0m\u001b[0;34m]\u001b[0m\u001b[0;34m.\u001b[0m\u001b[0mappend\u001b[0m\u001b[0;34m(\u001b[0m\u001b[0msam_read\u001b[0m\u001b[0;34m)\u001b[0m\u001b[0;34m\u001b[0m\n",
       "\u001b[0;34m\u001b[0m                \u001b[0mmapped_reads\u001b[0m\u001b[0;34m[\u001b[0m\u001b[0mQNAME\u001b[0m\u001b[0;34m]\u001b[0m\u001b[0;34m[\u001b[0m\u001b[0;36m1\u001b[0m\u001b[0;34m]\u001b[0m \u001b[0;34m=\u001b[0m \u001b[0mplasmid_read\u001b[0m\u001b[0;34m\u001b[0m\n",
       "\u001b[0;34m\u001b[0m            \u001b[0;32melse\u001b[0m\u001b[0;34m:\u001b[0m\u001b[0;34m\u001b[0m\n",
       "\u001b[0;34m\u001b[0m                \u001b[0mmapped_reads\u001b[0m\u001b[0;34m[\u001b[0m\u001b[0mQNAME\u001b[0m\u001b[0;34m]\u001b[0m\u001b[0;34m[\u001b[0m\u001b[0;36m0\u001b[0m\u001b[0;34m]\u001b[0m\u001b[0;34m.\u001b[0m\u001b[0mappend\u001b[0m\u001b[0;34m(\u001b[0m\u001b[0msam_read\u001b[0m\u001b[0;34m)\u001b[0m\u001b[0;34m\u001b[0m\n",
       "\u001b[0;34m\u001b[0m    \u001b[0mplasmid_reads\u001b[0m \u001b[0;34m=\u001b[0m \u001b[0;34m{\u001b[0m\u001b[0;34m}\u001b[0m\u001b[0;34m\u001b[0m\n",
       "\u001b[0;34m\u001b[0m    \u001b[0;32mfor\u001b[0m \u001b[0mqname\u001b[0m\u001b[0;34m,\u001b[0m \u001b[0mread_group\u001b[0m \u001b[0;32min\u001b[0m \u001b[0mmapped_reads\u001b[0m\u001b[0;34m.\u001b[0m\u001b[0mitems\u001b[0m\u001b[0;34m(\u001b[0m\u001b[0;34m)\u001b[0m\u001b[0;34m:\u001b[0m\u001b[0;34m\u001b[0m\n",
       "\u001b[0;34m\u001b[0m        \u001b[0;32mif\u001b[0m \u001b[0mread_group\u001b[0m\u001b[0;34m[\u001b[0m\u001b[0;36m1\u001b[0m\u001b[0;34m]\u001b[0m\u001b[0;34m:\u001b[0m\u001b[0;34m\u001b[0m\n",
       "\u001b[0;34m\u001b[0m            \u001b[0;32mfor\u001b[0m \u001b[0mread\u001b[0m \u001b[0;32min\u001b[0m \u001b[0mread_group\u001b[0m\u001b[0;34m[\u001b[0m\u001b[0;36m0\u001b[0m\u001b[0;34m]\u001b[0m\u001b[0;34m:\u001b[0m\u001b[0;34m\u001b[0m\n",
       "\u001b[0;34m\u001b[0m                \u001b[0;32mif\u001b[0m \u001b[0mread\u001b[0m\u001b[0;34m[\u001b[0m\u001b[0;36m0\u001b[0m\u001b[0;34m]\u001b[0m\u001b[0;34m[\u001b[0m\u001b[0;36m0\u001b[0m\u001b[0;34m:\u001b[0m\u001b[0;36m3\u001b[0m\u001b[0;34m]\u001b[0m \u001b[0;34m==\u001b[0m \u001b[0;34m'chr'\u001b[0m\u001b[0;34m:\u001b[0m\u001b[0;34m\u001b[0m\n",
       "\u001b[0;34m\u001b[0m                    \u001b[0mplasmid_reads\u001b[0m\u001b[0;34m[\u001b[0m\u001b[0mqname\u001b[0m\u001b[0;34m]\u001b[0m \u001b[0;34m=\u001b[0m \u001b[0mread_group\u001b[0m\u001b[0;34m[\u001b[0m\u001b[0;36m0\u001b[0m\u001b[0;34m]\u001b[0m\u001b[0;34m\u001b[0m\n",
       "\u001b[0;34m\u001b[0m                    \u001b[0;32mbreak\u001b[0m\u001b[0;34m\u001b[0m\n",
       "\u001b[0;34m\u001b[0m    \u001b[0;32mreturn\u001b[0m \u001b[0mplasmid_reads\u001b[0m\u001b[0;34m\u001b[0m\u001b[0;34m\u001b[0m\u001b[0m\n",
       "\u001b[0;31mFile:\u001b[0m      ~/Documents/RebisMethylation/IntegrationSiteSearch/IntegrationUtils.py\n",
       "\u001b[0;31mType:\u001b[0m      function\n"
      ]
     },
     "metadata": {},
     "output_type": "display_data"
    }
   ],
   "source": [
    "?? get_spanning_reads"
   ]
  },
  {
   "cell_type": "markdown",
   "metadata": {},
   "source": [
    "### Get Dicordant and Split Vector Reads"
   ]
  },
  {
   "cell_type": "code",
   "execution_count": 73,
   "metadata": {},
   "outputs": [
    {
     "data": {
      "application/vnd.jupyter.widget-view+json": {
       "model_id": "e1ecdaa6231d426185da89d4775c9a07",
       "version_major": 2,
       "version_minor": 0
      },
      "text/plain": [
       "HBox(children=(IntProgress(value=0, max=42), HTML(value='')))"
      ]
     },
     "metadata": {},
     "output_type": "display_data"
    },
    {
     "name": "stdout",
     "output_type": "stream",
     "text": [
      "\n"
     ]
    }
   ],
   "source": [
    "sample_spanning_reads = {}\n",
    "\n",
    "for sim_label in tqdm(sim_alignment_stats):\n",
    "    plasmid_reads = get_spanning_reads(f'{simulation_output}{sim_label}.sorted.bam', {'pMSGV1_MART1TCR', 'pMSGV1_1G4_A_LY_RetroNYESO1'})\n",
    "    sample_spanning_reads[sim_label] = plasmid_reads"
   ]
  },
  {
   "cell_type": "code",
   "execution_count": 77,
   "metadata": {},
   "outputs": [
    {
     "data": {
      "application/vnd.jupyter.widget-view+json": {
       "model_id": "8f84e53c9eb44833a9fc98e6d6cef5f5",
       "version_major": 2,
       "version_minor": 0
      },
      "text/plain": [
       "HBox(children=(IntProgress(value=0, max=42), HTML(value='')))"
      ]
     },
     "metadata": {},
     "output_type": "display_data"
    },
    {
     "name": "stdout",
     "output_type": "stream",
     "text": [
      "\n"
     ]
    }
   ],
   "source": [
    "# clean reads mapping to different vector\n",
    "\n",
    "for sim_label in tqdm(sim_alignment_stats):\n",
    "    vector = '_'.join(sim_label.split('_')[1:-1])\n",
    "    plasmid_reads = sample_spanning_reads[sim_label]\n",
    "    cleaned_plasmid_reads = {}\n",
    "    for read_name, read_group in plasmid_reads.items():\n",
    "        cleaned_group = []\n",
    "        vector_mapping = False\n",
    "        for read in read_group:\n",
    "            if read[2][0:3] == 'chr':\n",
    "                cleaned_group.append(read)\n",
    "            elif read[2] == vector:\n",
    "                vector_mapping = True\n",
    "                cleaned_group.append(read)\n",
    "        if vector_mapping:\n",
    "            cleaned_plasmid_reads[read_name] = cleaned_group\n",
    "    sample_spanning_reads[sim_label] = cleaned_plasmid_reads"
   ]
  },
  {
   "cell_type": "code",
   "execution_count": 88,
   "metadata": {},
   "outputs": [
    {
     "data": {
      "application/vnd.jupyter.widget-view+json": {
       "model_id": "2489cc63a8054d8d8a0e2e8c80a8b263",
       "version_major": 2,
       "version_minor": 0
      },
      "text/plain": [
       "HBox(children=(IntProgress(value=0, max=42), HTML(value='')))"
      ]
     },
     "metadata": {},
     "output_type": "display_data"
    },
    {
     "ename": "KeyError",
     "evalue": "'pMSGV1_1G4_A_LY_RetroNYESO1_80'",
     "output_type": "error",
     "traceback": [
      "\u001b[0;31m---------------------------------------------------------------------------\u001b[0m",
      "\u001b[0;31mKeyError\u001b[0m                                  Traceback (most recent call last)",
      "\u001b[0;32m<ipython-input-88-086742056ffa>\u001b[0m in \u001b[0;36m<module>\u001b[0;34m\u001b[0m\n\u001b[1;32m      7\u001b[0m     \u001b[0mlabel\u001b[0m \u001b[0;34m=\u001b[0m \u001b[0;34m'_'\u001b[0m\u001b[0;34m.\u001b[0m\u001b[0mjoin\u001b[0m\u001b[0;34m(\u001b[0m\u001b[0msim_label\u001b[0m\u001b[0;34m.\u001b[0m\u001b[0msplit\u001b[0m\u001b[0;34m(\u001b[0m\u001b[0;34m'_'\u001b[0m\u001b[0;34m)\u001b[0m\u001b[0;34m[\u001b[0m\u001b[0;36m1\u001b[0m\u001b[0;34m:\u001b[0m\u001b[0;34m]\u001b[0m\u001b[0;34m)\u001b[0m\u001b[0;34m\u001b[0m\u001b[0;34m\u001b[0m\u001b[0m\n\u001b[1;32m      8\u001b[0m     \u001b[0;32mfor\u001b[0m \u001b[0mread_label\u001b[0m\u001b[0;34m,\u001b[0m \u001b[0mread_group\u001b[0m \u001b[0;32min\u001b[0m \u001b[0msample_spanning_reads\u001b[0m\u001b[0;34m[\u001b[0m\u001b[0msim_label\u001b[0m\u001b[0;34m]\u001b[0m\u001b[0;34m.\u001b[0m\u001b[0mitems\u001b[0m\u001b[0;34m(\u001b[0m\u001b[0;34m)\u001b[0m\u001b[0;34m:\u001b[0m\u001b[0;34m\u001b[0m\u001b[0;34m\u001b[0m\u001b[0m\n\u001b[0;32m----> 9\u001b[0;31m         \u001b[0mcontrol_info\u001b[0m \u001b[0;34m=\u001b[0m \u001b[0mintegration_reads\u001b[0m\u001b[0;34m[\u001b[0m\u001b[0mlabel\u001b[0m\u001b[0;34m]\u001b[0m\u001b[0;34m.\u001b[0m\u001b[0mget\u001b[0m\u001b[0;34m(\u001b[0m\u001b[0mread_label\u001b[0m\u001b[0;34m,\u001b[0m \u001b[0;32mFalse\u001b[0m\u001b[0;34m)\u001b[0m\u001b[0;34m\u001b[0m\u001b[0;34m\u001b[0m\u001b[0m\n\u001b[0m\u001b[1;32m     10\u001b[0m         \u001b[0mcalled_int\u001b[0m \u001b[0;34m=\u001b[0m \u001b[0mint_processor\u001b[0m\u001b[0;34m.\u001b[0m\u001b[0mget_integration_sites\u001b[0m\u001b[0;34m(\u001b[0m\u001b[0mread_group\u001b[0m\u001b[0;34m,\u001b[0m \u001b[0mvector\u001b[0m\u001b[0;34m=\u001b[0m\u001b[0mvector\u001b[0m\u001b[0;34m)\u001b[0m\u001b[0;34m\u001b[0m\u001b[0;34m\u001b[0m\u001b[0m\n\u001b[1;32m     11\u001b[0m         \u001b[0;32mif\u001b[0m \u001b[0mcalled_int\u001b[0m\u001b[0;34m:\u001b[0m\u001b[0;34m\u001b[0m\u001b[0;34m\u001b[0m\u001b[0m\n",
      "\u001b[0;31mKeyError\u001b[0m: 'pMSGV1_1G4_A_LY_RetroNYESO1_80'"
     ]
    }
   ],
   "source": [
    "int_processor = ProcessVectorSpanningReads(multibase_threshold=0.2)\n",
    "\n",
    "good_call = 0\n",
    "bad_call = 0\n",
    "\n",
    "for sim_label in tqdm(sim_alignment_stats):\n",
    "    label = '_'.join(sim_label.split('_')[1:])\n",
    "    for read_label, read_group in sample_spanning_reads[sim_label].items():\n",
    "        control_info = integration_reads[label].get(read_label, False)\n",
    "        called_int = int_processor.get_integration_sites(read_group, vector=vector)\n",
    "        if called_int:\n",
    "            print('yes')\n",
    "        if control_info and called_int:\n",
    "            good_call += 1\n",
    "        elif not control_info and called_int:\n",
    "            bad_call += 1"
   ]
  },
  {
   "cell_type": "code",
   "execution_count": 55,
   "metadata": {},
   "outputs": [
    {
     "data": {
      "text/plain": [
       "14744"
      ]
     },
     "execution_count": 55,
     "metadata": {},
     "output_type": "execute_result"
    }
   ],
   "source": [
    "sum([len(x) for x in integration_reads.values()])"
   ]
  },
  {
   "cell_type": "code",
   "execution_count": 56,
   "metadata": {},
   "outputs": [
    {
     "data": {
      "text/plain": [
       "0"
      ]
     },
     "execution_count": 56,
     "metadata": {},
     "output_type": "execute_result"
    }
   ],
   "source": [
    "bad_call"
   ]
  },
  {
   "cell_type": "code",
   "execution_count": null,
   "metadata": {},
   "outputs": [],
   "source": []
  },
  {
   "cell_type": "code",
   "execution_count": null,
   "metadata": {},
   "outputs": [],
   "source": []
  }
 ],
 "metadata": {
  "kernelspec": {
   "display_name": "Python 3",
   "language": "python",
   "name": "python3"
  },
  "language_info": {
   "codemirror_mode": {
    "name": "ipython",
    "version": 3
   },
   "file_extension": ".py",
   "mimetype": "text/x-python",
   "name": "python",
   "nbconvert_exporter": "python",
   "pygments_lexer": "ipython3",
   "version": "3.7.5rc1"
  }
 },
 "nbformat": 4,
 "nbformat_minor": 4
}
