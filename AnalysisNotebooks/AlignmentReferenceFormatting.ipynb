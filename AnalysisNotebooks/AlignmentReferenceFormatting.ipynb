{
 "cells": [
  {
   "cell_type": "markdown",
   "metadata": {},
   "source": [
    "# Shift Retroviral Reference so they are split along ampicillin resistance sequence"
   ]
  },
  {
   "cell_type": "code",
   "execution_count": 1,
   "metadata": {},
   "outputs": [],
   "source": [
    "import gzip\n",
    "import io"
   ]
  },
  {
   "cell_type": "code",
   "execution_count": 2,
   "metadata": {},
   "outputs": [],
   "source": [
    "wd = ''"
   ]
  },
  {
   "cell_type": "code",
   "execution_count": 3,
   "metadata": {},
   "outputs": [],
   "source": [
    "nyes_ref = f'pMSGV1-1G4_A_LY_RetroNYESO1_sequence.txt'\n",
    "mart_ref = f'pMSGV1-MART1TCR.txt'"
   ]
  },
  {
   "cell_type": "code",
   "execution_count": 4,
   "metadata": {},
   "outputs": [],
   "source": [
    "vector_seq = {}\n",
    "\n",
    "for vector in [nyes_ref, mart_ref]:\n",
    "    vector_label = vector.replace('-', '_').replace('.txt', '')\n",
    "    seq = ''\n",
    "    with open(f'{wd}{vector}', 'r') as vec_seq:\n",
    "        for line in vec_seq:\n",
    "            processed_line = line.strip().replace(' ', '')\n",
    "            seq = seq + ''.join([base for base in processed_line if not base.isdigit()])\n",
    "    vector_seq[vector_label] = seq"
   ]
  },
  {
   "cell_type": "code",
   "execution_count": 5,
   "metadata": {},
   "outputs": [],
   "source": [
    "ampr_nyes = (3748, 4407)"
   ]
  },
  {
   "cell_type": "code",
   "execution_count": 6,
   "metadata": {},
   "outputs": [],
   "source": [
    "ampr_mart = (5653, 5653 + 659)"
   ]
  },
  {
   "cell_type": "code",
   "execution_count": 7,
   "metadata": {},
   "outputs": [],
   "source": [
    "# shift reference sequence to split in the middle of the ampr sequence \n",
    "ampr_nyes_split = int((ampr_nyes[0] + ampr_nyes[1]) / 2)\n",
    "ampr_mart_split = int((ampr_mart[0] + ampr_mart[1]) / 2)"
   ]
  },
  {
   "cell_type": "code",
   "execution_count": 8,
   "metadata": {},
   "outputs": [],
   "source": [
    "def shift_string(string, split_point):\n",
    "    right = string[split_point:]\n",
    "    left = string[:split_point]\n",
    "    return right + left"
   ]
  },
  {
   "cell_type": "code",
   "execution_count": 9,
   "metadata": {},
   "outputs": [],
   "source": [
    "shifted_nyes = shift_string(vector_seq['pMSGV1_1G4_A_LY_RetroNYESO1_sequence'], ampr_nyes_split)\n",
    "shifted_mart = shift_string(vector_seq['pMSGV1_MART1TCR'], ampr_mart_split)"
   ]
  },
  {
   "cell_type": "code",
   "execution_count": 27,
   "metadata": {},
   "outputs": [],
   "source": [
    "hg38 = {}\n",
    "\n",
    "with gzip.open('/u/nobackup/mcdbscratch/colinpat/Rebis/hg38_lambda.fa.gz', 'r') as genome:\n",
    "    contig_seq = ''\n",
    "    chrom = None\n",
    "    for line in io.BufferedReader(genome):\n",
    "        processed_line = line.decode('utf-8').strip()\n",
    "        if '>' == processed_line[0]:\n",
    "            if chrom:\n",
    "                hg38[chrom] = contig_seq\n",
    "            contig_seq = ''\n",
    "            chrom = processed_line[1:]\n",
    "        else:\n",
    "            contig_seq = contig_seq + processed_line\n",
    "    hg38[chrom] = contig_seq"
   ]
  },
  {
   "cell_type": "code",
   "execution_count": 28,
   "metadata": {},
   "outputs": [],
   "source": [
    "with open('/u/nobackup/mcdbscratch/colinpat/Rebis/hg38_nyes_cut', 'w') as genome:\n",
    "    for key, value in hg38.items():\n",
    "        genome.write(f'>{key}\\n')\n",
    "        genome.write(f'{value}\\n')\n",
    "    genome.write('>nyes\\n')\n",
    "    genome.write(f'{shifted_nyes[1250:6001]}\\n')"
   ]
  },
  {
   "cell_type": "markdown",
   "metadata": {},
   "source": [
    "with open('/u/nobackup/mcdbscratch/colinpat/Rebis/hg38_mart', 'w') as genome:\n",
    "    for key, value in hg38.items():\n",
    "        genome.write(f'>{key}\\n')\n",
    "        genome.write(f'{value}\\n')\n",
    "    genome.write('>mart\\n')\n",
    "    genome.write(f'{shifted_mart}\\n')"
   ]
  },
  {
   "cell_type": "code",
   "execution_count": 29,
   "metadata": {},
   "outputs": [],
   "source": [
    "nyes_annotations =  {'SD': (6184, 6197),\n",
    "                     '3_LTR': (1921, 2435),\n",
    "                     '5_LTR': (5608, 6121),\n",
    "                     'SA': (7133, 7157),\n",
    "                     '1G4_alpha': (3, 824),\n",
    "                     '1G4_beta': (906, 1841),\n",
    "                     'P2A': (849, 905),\n",
    "                     'Furin': (825, 836),\n",
    "                     'SGSG': (837, 848),\n",
    "                     'M13_fwd': (5183, 5200),\n",
    "                     'ColE1_origin': (2968, 3650),\n",
    "                     'LacZ_alpha': (5044, 5112),\n",
    "                     'LacO': (2606, 2628),\n",
    "                     'AmpR': (3748, 4407),\n",
    "                     'MSCV_Prom_1': (1920, 2301),\n",
    "                     'MSCV_Prom_2': (5606, 5987),\n",
    "                     'Retro_NYESO1_F': (774, 794),\n",
    "                     'Retro_NYESO1_R': (870, 884),\n",
    "                     '2A_Junction_Probe': (822, 843),\n",
    "                     'Primer_Cloning_1': (684, 704),\n",
    "                     'Primer_Cloning_2': (955, 975)}"
   ]
  },
  {
   "cell_type": "code",
   "execution_count": 30,
   "metadata": {},
   "outputs": [],
   "source": [
    "mart_annotations = {'5_LTR': (382, 515),\n",
    "                    'MSCV_promoter_1': (1, 381),\n",
    "                    'SD': (578, 591),\n",
    "                    'SA': (1527, 1551),\n",
    "                    'Furin': (2641, 2652),\n",
    "                    'P2A': (2704, 2760),\n",
    "                    'Mart1_TCR_alpha': (1822, 2703),\n",
    "                    'MART1_TCR_b_chain': (2761, 3747), \n",
    "                    '3_LTR': (4207, 4340),\n",
    "                    'MSCV_promoter_2': (3826, 4206),\n",
    "                    'LacZ_alpha': (6949, 7017),\n",
    "                    'LacO': (4511, 4533),\n",
    "                    'AmpR': (5653, 6312)}       "
   ]
  },
  {
   "cell_type": "code",
   "execution_count": 31,
   "metadata": {},
   "outputs": [
    {
     "data": {
      "text/plain": [
       "5982"
      ]
     },
     "execution_count": 31,
     "metadata": {},
     "output_type": "execute_result"
    }
   ],
   "source": [
    "ampr_mart_split"
   ]
  },
  {
   "cell_type": "code",
   "execution_count": 32,
   "metadata": {},
   "outputs": [],
   "source": [
    "# adjust annotation relative to the split point\n",
    "def adjust_annotation(span, split_point, vector_len):\n",
    "    adjusted_span = []\n",
    "    for site in span:\n",
    "        if site >= split_point:\n",
    "            adjusted_span.append(site - split_point)\n",
    "        else:\n",
    "            shift_offset = vector_len - split_point\n",
    "            adjusted_span.append(shift_offset + site)\n",
    "    return (adjusted_span[0], adjusted_span[1])"
   ]
  },
  {
   "cell_type": "code",
   "execution_count": 33,
   "metadata": {},
   "outputs": [],
   "source": [
    "adjusted_mart_annotation = {}\n",
    "\n",
    "for annotation, span in mart_annotations.items():\n",
    "    adjusted_mart_annotation[annotation] = adjust_annotation(span, ampr_mart_split, len(shifted_mart))"
   ]
  },
  {
   "cell_type": "code",
   "execution_count": 34,
   "metadata": {},
   "outputs": [],
   "source": [
    "adjusted_nyes_annotation = {}\n",
    "\n",
    "for annotation, span in nyes_annotations.items():\n",
    "    adjusted_nyes_annotation[annotation] = adjust_annotation(span, ampr_nyes_split, len(shifted_nyes))"
   ]
  }
 ],
 "metadata": {
  "kernelspec": {
   "display_name": "Python 3",
   "language": "python",
   "name": "python3"
  },
  "language_info": {
   "codemirror_mode": {
    "name": "ipython",
    "version": 3
   },
   "file_extension": ".py",
   "mimetype": "text/x-python",
   "name": "python",
   "nbconvert_exporter": "python",
   "pygments_lexer": "ipython3",
   "version": "3.7.2"
  },
  "pycharm": {
   "stem_cell": {
    "cell_type": "raw",
    "source": [],
    "metadata": {
     "collapsed": false
    }
   }
  }
 },
 "nbformat": 4,
 "nbformat_minor": 4
}